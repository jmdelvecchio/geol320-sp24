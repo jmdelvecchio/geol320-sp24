{
  "cells": [
    {
      "attachments": {},
      "cell_type": "markdown",
      "metadata": {},
      "source": [
        "# Introduction"
      ]
    },
    {
      "attachments": {},
      "cell_type": "markdown",
      "metadata": {
        "id": "lOnba3hz92Jt"
      },
      "source": [
        "This notebook will help you perform exploratory data analysis (EDA) on data from [Richardson et al., 2019](https://pubs.geoscienceworld.org/gsa/geology/article/47/5/423/569535/Influences-of-climate-and-life-on-hillslope), in which the authors compiled data on the [diffusivity of soil-mantled hillslopes](https://earthsurface.readthedocs.io/en/latest/hillslope.html). "
      ]
    },
    {
      "attachments": {},
      "cell_type": "markdown",
      "metadata": {
        "id": "D2G5-oj69u8j"
      },
      "source": [
        "Here are the footnotes from the paper:"
      ]
    },
    {
      "attachments": {},
      "cell_type": "markdown",
      "metadata": {
        "id": "7u54mO5T-xB1"
      },
      "source": [
        "a If the exact location was not able to be identified, we used the location that best matched the site description. If multiple measurements were made for a region, we report the mean lat/lon for the study.\n",
        "\n",
        "b Uncertainties are reported as they were presented in the original journals. If uncertainties were not reported, we calculated and reported the standard deviation of D when possible. \n",
        "\n",
        "c Rock category: 1 = unconsolidated, 2 = sedimentary, 3 = Igneous/metamorphic.\n",
        "\n",
        "d Technique category: 1 = Scarp modeling, 2 = Laplacian and erosion rates, 3 = LEM, 4 = Colluvial flux and slope, 5 = erosion rate and Laplacian.\n",
        "\n",
        "e Vegetation category: 1 = Arid/desert, 2 = grasslands/scrublands, 3 = savannah/lightly forested, 4=forested.\n",
        "\n",
        "f West et al. (2014) reported the range of D for noth-facing and south-facing slopes. We reported the mean of these values.\n"
      ]
    },
    {
      "attachments": {},
      "cell_type": "markdown",
      "metadata": {},
      "source": [
        "# Learning objectives"
      ]
    },
    {
      "attachments": {},
      "cell_type": "markdown",
      "metadata": {},
      "source": [
        "- Extract machine-readable data from common formats like journal supplements and assess fidelity of extracted data\n",
        "- [Classify, group and analyze](https://pandas.pydata.org/docs/user_guide/groupby.html) data in meaningful ways with `pandas` and `seaborn`\n",
        "- Analyze how climate and measurement method affect sediment diffusivity numbers from samples around thew world\n",
        "- Calculate new diffusivity metrics with field data and compare to published datasets"
      ]
    },
    {
      "attachments": {},
      "cell_type": "markdown",
      "metadata": {
        "id": "HbMdIZMm_c9X"
      },
      "source": [
        "# Import libraries you'll need"
      ]
    },
    {
      "cell_type": "code",
      "execution_count": 1,
      "metadata": {
        "id": "h43ifiNz9P5O"
      },
      "outputs": [],
      "source": [
        "import numpy as np\n",
        "import pandas as pd\n",
        "import matplotlib.pyplot as plt\n",
        "import seaborn as sns"
      ]
    },
    {
      "attachments": {},
      "cell_type": "markdown",
      "metadata": {
        "id": "sIANnszi_olG"
      },
      "source": [
        "# Bring in the data and clean it"
      ]
    },
    {
      "attachments": {},
      "cell_type": "markdown",
      "metadata": {
        "id": "gCStgPEvAGrd"
      },
      "source": [
        "Other than moving the footnote text to a different file and saving the result as a .csv, I've given you the file as it was uploaded to the Geology Data Repository. Annoyingly, many journals prefer formetting supplemental tables to be human-, rather than machine-readable. Special characters and weird spacing come with the territory. You could edit these things in Excel, but let's see if we can clean this (already pretty clean) data with code.  "
      ]
    },
    {
      "cell_type": "code",
      "execution_count": 2,
      "metadata": {
        "colab": {
          "base_uri": "https://localhost:8080/",
          "height": 572
        },
        "id": "CB9_lEq3_u83",
        "outputId": "e91d49f2-d201-408d-ed03-fd9dcc48549c"
      },
      "outputs": [
        {
          "data": {
            "text/html": [
              "<div>\n",
              "<style scoped>\n",
              "    .dataframe tbody tr th:only-of-type {\n",
              "        vertical-align: middle;\n",
              "    }\n",
              "\n",
              "    .dataframe tbody tr th {\n",
              "        vertical-align: top;\n",
              "    }\n",
              "\n",
              "    .dataframe thead th {\n",
              "        text-align: right;\n",
              "    }\n",
              "</style>\n",
              "<table border=\"1\" class=\"dataframe\">\n",
              "  <thead>\n",
              "    <tr style=\"text-align: right;\">\n",
              "      <th></th>\n",
              "      <th>ï»¿Source</th>\n",
              "      <th>Site Location[a]</th>\n",
              "      <th>Latitude (deg)</th>\n",
              "      <th>Longitude (deg)</th>\n",
              "      <th>D (cm2/yr)</th>\n",
              "      <th>D[b] uncertainty (cm2/yr)</th>\n",
              "      <th>AI</th>\n",
              "      <th>MAP (cm/yr)</th>\n",
              "      <th>Underlying lithology description</th>\n",
              "      <th>Lithology category[c]</th>\n",
              "      <th>Technique description</th>\n",
              "      <th>Technique category[d]</th>\n",
              "      <th>Vegetation description</th>\n",
              "      <th>Vegetation category[e]</th>\n",
              "    </tr>\n",
              "  </thead>\n",
              "  <tbody>\n",
              "    <tr>\n",
              "      <th>0</th>\n",
              "      <td>Almond et al. [2008]</td>\n",
              "      <td>Charwell Basin, New Zealand</td>\n",
              "      <td>-42.450</td>\n",
              "      <td>173.357</td>\n",
              "      <td>50</td>\n",
              "      <td>20</td>\n",
              "      <td>1.42</td>\n",
              "      <td>116.0</td>\n",
              "      <td>Loess underlain by fluvial gravel terraces</td>\n",
              "      <td>1.0</td>\n",
              "      <td>Erosion rate and curvature. Estimate is for th...</td>\n",
              "      <td>2.0</td>\n",
              "      <td>Podocarp, hardwood, and beech forest</td>\n",
              "      <td>3.0</td>\n",
              "    </tr>\n",
              "    <tr>\n",
              "      <th>1</th>\n",
              "      <td>Almond et al. [2008]</td>\n",
              "      <td>Ahuriri, New Zealand</td>\n",
              "      <td>-43.702</td>\n",
              "      <td>172.584</td>\n",
              "      <td>70</td>\n",
              "      <td>20</td>\n",
              "      <td>0.76</td>\n",
              "      <td>68.8</td>\n",
              "      <td>Thick loess deposits underlain by altered basalt</td>\n",
              "      <td>1.0</td>\n",
              "      <td>137Cs fallout nuclides (50 yr timescale) and c...</td>\n",
              "      <td>2.0</td>\n",
              "      <td>Recolonization of forest during Holocene. Rece...</td>\n",
              "      <td>2.0</td>\n",
              "    </tr>\n",
              "    <tr>\n",
              "      <th>2</th>\n",
              "      <td>Arrowsmith et al. (1998)</td>\n",
              "      <td>Carrizo Plain, CA, USA</td>\n",
              "      <td>35.271</td>\n",
              "      <td>-119.827</td>\n",
              "      <td>86</td>\n",
              "      <td>8</td>\n",
              "      <td>0.33</td>\n",
              "      <td>46.7</td>\n",
              "      <td>Conglomerate and alluvial fan units.</td>\n",
              "      <td>2.0</td>\n",
              "      <td>Scarp modeling</td>\n",
              "      <td>1.0</td>\n",
              "      <td>Grasses and shrubs</td>\n",
              "      <td>2.0</td>\n",
              "    </tr>\n",
              "    <tr>\n",
              "      <th>3</th>\n",
              "      <td>Avouac and Peltzer (1993)</td>\n",
              "      <td>Hotan Region, Xinjiang, China</td>\n",
              "      <td>36.800</td>\n",
              "      <td>80.500</td>\n",
              "      <td>33</td>\n",
              "      <td>14</td>\n",
              "      <td>0.03</td>\n",
              "      <td>3.3</td>\n",
              "      <td>Loose fan gravels</td>\n",
              "      <td>1.0</td>\n",
              "      <td>Scarp modeling</td>\n",
              "      <td>1.0</td>\n",
              "      <td>Unvegetated</td>\n",
              "      <td>1.0</td>\n",
              "    </tr>\n",
              "    <tr>\n",
              "      <th>4</th>\n",
              "      <td>Avouac et al. (1993)</td>\n",
              "      <td>Tien Shan, China</td>\n",
              "      <td>44.048</td>\n",
              "      <td>86.790</td>\n",
              "      <td>55</td>\n",
              "      <td>25</td>\n",
              "      <td>0.19</td>\n",
              "      <td>18.4</td>\n",
              "      <td>Loose fan gravels</td>\n",
              "      <td>1.0</td>\n",
              "      <td>Scarp modeling</td>\n",
              "      <td>1.0</td>\n",
              "      <td>Grasses and shrubs</td>\n",
              "      <td>2.0</td>\n",
              "    </tr>\n",
              "    <tr>\n",
              "      <th>...</th>\n",
              "      <td>...</td>\n",
              "      <td>...</td>\n",
              "      <td>...</td>\n",
              "      <td>...</td>\n",
              "      <td>...</td>\n",
              "      <td>...</td>\n",
              "      <td>...</td>\n",
              "      <td>...</td>\n",
              "      <td>...</td>\n",
              "      <td>...</td>\n",
              "      <td>...</td>\n",
              "      <td>...</td>\n",
              "      <td>...</td>\n",
              "      <td>...</td>\n",
              "    </tr>\n",
              "    <tr>\n",
              "      <th>180</th>\n",
              "      <td>NaN</td>\n",
              "      <td>NaN</td>\n",
              "      <td>NaN</td>\n",
              "      <td>NaN</td>\n",
              "      <td>NaN</td>\n",
              "      <td>NaN</td>\n",
              "      <td>NaN</td>\n",
              "      <td>NaN</td>\n",
              "      <td>NaN</td>\n",
              "      <td>NaN</td>\n",
              "      <td>NaN</td>\n",
              "      <td>NaN</td>\n",
              "      <td>NaN</td>\n",
              "      <td>NaN</td>\n",
              "    </tr>\n",
              "    <tr>\n",
              "      <th>181</th>\n",
              "      <td>NaN</td>\n",
              "      <td>NaN</td>\n",
              "      <td>NaN</td>\n",
              "      <td>NaN</td>\n",
              "      <td>NaN</td>\n",
              "      <td>NaN</td>\n",
              "      <td>NaN</td>\n",
              "      <td>NaN</td>\n",
              "      <td>NaN</td>\n",
              "      <td>NaN</td>\n",
              "      <td>NaN</td>\n",
              "      <td>NaN</td>\n",
              "      <td>NaN</td>\n",
              "      <td>NaN</td>\n",
              "    </tr>\n",
              "    <tr>\n",
              "      <th>182</th>\n",
              "      <td>NaN</td>\n",
              "      <td>NaN</td>\n",
              "      <td>NaN</td>\n",
              "      <td>NaN</td>\n",
              "      <td>NaN</td>\n",
              "      <td>NaN</td>\n",
              "      <td>NaN</td>\n",
              "      <td>NaN</td>\n",
              "      <td>NaN</td>\n",
              "      <td>NaN</td>\n",
              "      <td>NaN</td>\n",
              "      <td>NaN</td>\n",
              "      <td>NaN</td>\n",
              "      <td>NaN</td>\n",
              "    </tr>\n",
              "    <tr>\n",
              "      <th>183</th>\n",
              "      <td>NaN</td>\n",
              "      <td>NaN</td>\n",
              "      <td>NaN</td>\n",
              "      <td>NaN</td>\n",
              "      <td>NaN</td>\n",
              "      <td>NaN</td>\n",
              "      <td>NaN</td>\n",
              "      <td>NaN</td>\n",
              "      <td>NaN</td>\n",
              "      <td>NaN</td>\n",
              "      <td>NaN</td>\n",
              "      <td>NaN</td>\n",
              "      <td>NaN</td>\n",
              "      <td>NaN</td>\n",
              "    </tr>\n",
              "    <tr>\n",
              "      <th>184</th>\n",
              "      <td>NaN</td>\n",
              "      <td>NaN</td>\n",
              "      <td>NaN</td>\n",
              "      <td>NaN</td>\n",
              "      <td></td>\n",
              "      <td>NaN</td>\n",
              "      <td>NaN</td>\n",
              "      <td>NaN</td>\n",
              "      <td>NaN</td>\n",
              "      <td>NaN</td>\n",
              "      <td>NaN</td>\n",
              "      <td>NaN</td>\n",
              "      <td>NaN</td>\n",
              "      <td>NaN</td>\n",
              "    </tr>\n",
              "  </tbody>\n",
              "</table>\n",
              "<p>185 rows × 14 columns</p>\n",
              "</div>"
            ],
            "text/plain": [
              "                     ï»¿Source               Site Location[a]  Latitude (deg)  \\\n",
              "0        Almond et al. [2008]     Charwell Basin, New Zealand         -42.450   \n",
              "1        Almond et al. [2008]            Ahuriri, New Zealand         -43.702   \n",
              "2     Arrowsmith et al. (1998)         Carrizo Plain, CA, USA          35.271   \n",
              "3    Avouac and Peltzer (1993)  Hotan Region, Xinjiang, China          36.800   \n",
              "4         Avouac et al. (1993)               Tien Shan, China          44.048   \n",
              "..                         ...                            ...             ...   \n",
              "180                        NaN                            NaN             NaN   \n",
              "181                        NaN                            NaN             NaN   \n",
              "182                        NaN                            NaN             NaN   \n",
              "183                        NaN                            NaN             NaN   \n",
              "184                        NaN                            NaN             NaN   \n",
              "\n",
              "     Longitude (deg) D (cm2/yr) D[b] uncertainty (cm2/yr)    AI  MAP (cm/yr)  \\\n",
              "0            173.357         50                        20  1.42        116.0   \n",
              "1            172.584         70                        20  0.76         68.8   \n",
              "2           -119.827         86                         8  0.33         46.7   \n",
              "3             80.500         33                        14  0.03          3.3   \n",
              "4             86.790         55                        25  0.19         18.4   \n",
              "..               ...        ...                       ...   ...          ...   \n",
              "180              NaN        NaN                       NaN   NaN          NaN   \n",
              "181              NaN        NaN                       NaN   NaN          NaN   \n",
              "182              NaN        NaN                       NaN   NaN          NaN   \n",
              "183              NaN        NaN                       NaN   NaN          NaN   \n",
              "184              NaN                                  NaN   NaN          NaN   \n",
              "\n",
              "                     Underlying lithology description  Lithology category[c]  \\\n",
              "0         Loess underlain by fluvial gravel terraces                     1.0   \n",
              "1    Thick loess deposits underlain by altered basalt                    1.0   \n",
              "2                Conglomerate and alluvial fan units.                    2.0   \n",
              "3                                   Loose fan gravels                    1.0   \n",
              "4                                   Loose fan gravels                    1.0   \n",
              "..                                                ...                    ...   \n",
              "180                                               NaN                    NaN   \n",
              "181                                               NaN                    NaN   \n",
              "182                                               NaN                    NaN   \n",
              "183                                               NaN                    NaN   \n",
              "184                                               NaN                    NaN   \n",
              "\n",
              "                                 Technique description  Technique category[d]  \\\n",
              "0    Erosion rate and curvature. Estimate is for th...                    2.0   \n",
              "1    137Cs fallout nuclides (50 yr timescale) and c...                    2.0   \n",
              "2                                       Scarp modeling                    1.0   \n",
              "3                                       Scarp modeling                    1.0   \n",
              "4                                       Scarp modeling                    1.0   \n",
              "..                                                 ...                    ...   \n",
              "180                                                NaN                    NaN   \n",
              "181                                                NaN                    NaN   \n",
              "182                                                NaN                    NaN   \n",
              "183                                                NaN                    NaN   \n",
              "184                                                NaN                    NaN   \n",
              "\n",
              "                                Vegetation description  Vegetation category[e]  \n",
              "0                 Podocarp, hardwood, and beech forest                     3.0  \n",
              "1    Recolonization of forest during Holocene. Rece...                     2.0  \n",
              "2                                   Grasses and shrubs                     2.0  \n",
              "3                                          Unvegetated                     1.0  \n",
              "4                                   Grasses and shrubs                     2.0  \n",
              "..                                                 ...                     ...  \n",
              "180                                                NaN                     NaN  \n",
              "181                                                NaN                     NaN  \n",
              "182                                                NaN                     NaN  \n",
              "183                                                NaN                     NaN  \n",
              "184                                                NaN                     NaN  \n",
              "\n",
              "[185 rows x 14 columns]"
            ]
          },
          "execution_count": 2,
          "metadata": {},
          "output_type": "execute_result"
        }
      ],
      "source": [
        "# Load the .csv as a pandas data frame. What problems might you anticipate?\n",
        "df = pd.read_csv(\"data/2019149_TableDR1.csv\", encoding= 'unicode_escape')\n",
        "df"
      ]
    },
    {
      "attachments": {},
      "cell_type": "markdown",
      "metadata": {
        "id": "KCmVfBasS-Z-"
      },
      "source": [
        "Ok, this looks a little ugly - there are extra rows and columns and there are some funky symbols going on since they got translated from that journal supplement. \n",
        "\n",
        "I'll get you started with renaming the first column"
      ]
    },
    {
      "cell_type": "code",
      "execution_count": 3,
      "metadata": {
        "colab": {
          "base_uri": "https://localhost:8080/",
          "height": 337
        },
        "id": "yBjq7CEKNV_Y",
        "outputId": "b9acc9fb-69b0-4cdf-94f5-cebf4b8b325e"
      },
      "outputs": [
        {
          "data": {
            "text/html": [
              "<div>\n",
              "<style scoped>\n",
              "    .dataframe tbody tr th:only-of-type {\n",
              "        vertical-align: middle;\n",
              "    }\n",
              "\n",
              "    .dataframe tbody tr th {\n",
              "        vertical-align: top;\n",
              "    }\n",
              "\n",
              "    .dataframe thead th {\n",
              "        text-align: right;\n",
              "    }\n",
              "</style>\n",
              "<table border=\"1\" class=\"dataframe\">\n",
              "  <thead>\n",
              "    <tr style=\"text-align: right;\">\n",
              "      <th></th>\n",
              "      <th>Source</th>\n",
              "      <th>Site Location[a]</th>\n",
              "      <th>Latitude (deg)</th>\n",
              "      <th>Longitude (deg)</th>\n",
              "      <th>D (cm2/yr)</th>\n",
              "      <th>D[b] uncertainty (cm2/yr)</th>\n",
              "      <th>AI</th>\n",
              "      <th>MAP (cm/yr)</th>\n",
              "      <th>Underlying lithology description</th>\n",
              "      <th>Lithology category[c]</th>\n",
              "      <th>Technique description</th>\n",
              "      <th>Technique category[d]</th>\n",
              "      <th>Vegetation description</th>\n",
              "      <th>Vegetation category[e]</th>\n",
              "    </tr>\n",
              "  </thead>\n",
              "  <tbody>\n",
              "    <tr>\n",
              "      <th>0</th>\n",
              "      <td>Almond et al. [2008]</td>\n",
              "      <td>Charwell Basin, New Zealand</td>\n",
              "      <td>-42.450</td>\n",
              "      <td>173.357</td>\n",
              "      <td>50</td>\n",
              "      <td>20</td>\n",
              "      <td>1.42</td>\n",
              "      <td>116.0</td>\n",
              "      <td>Loess underlain by fluvial gravel terraces</td>\n",
              "      <td>1.0</td>\n",
              "      <td>Erosion rate and curvature. Estimate is for th...</td>\n",
              "      <td>2.0</td>\n",
              "      <td>Podocarp, hardwood, and beech forest</td>\n",
              "      <td>3.0</td>\n",
              "    </tr>\n",
              "    <tr>\n",
              "      <th>1</th>\n",
              "      <td>Almond et al. [2008]</td>\n",
              "      <td>Ahuriri, New Zealand</td>\n",
              "      <td>-43.702</td>\n",
              "      <td>172.584</td>\n",
              "      <td>70</td>\n",
              "      <td>20</td>\n",
              "      <td>0.76</td>\n",
              "      <td>68.8</td>\n",
              "      <td>Thick loess deposits underlain by altered basalt</td>\n",
              "      <td>1.0</td>\n",
              "      <td>137Cs fallout nuclides (50 yr timescale) and c...</td>\n",
              "      <td>2.0</td>\n",
              "      <td>Recolonization of forest during Holocene. Rece...</td>\n",
              "      <td>2.0</td>\n",
              "    </tr>\n",
              "    <tr>\n",
              "      <th>2</th>\n",
              "      <td>Arrowsmith et al. (1998)</td>\n",
              "      <td>Carrizo Plain, CA, USA</td>\n",
              "      <td>35.271</td>\n",
              "      <td>-119.827</td>\n",
              "      <td>86</td>\n",
              "      <td>8</td>\n",
              "      <td>0.33</td>\n",
              "      <td>46.7</td>\n",
              "      <td>Conglomerate and alluvial fan units.</td>\n",
              "      <td>2.0</td>\n",
              "      <td>Scarp modeling</td>\n",
              "      <td>1.0</td>\n",
              "      <td>Grasses and shrubs</td>\n",
              "      <td>2.0</td>\n",
              "    </tr>\n",
              "    <tr>\n",
              "      <th>3</th>\n",
              "      <td>Avouac and Peltzer (1993)</td>\n",
              "      <td>Hotan Region, Xinjiang, China</td>\n",
              "      <td>36.800</td>\n",
              "      <td>80.500</td>\n",
              "      <td>33</td>\n",
              "      <td>14</td>\n",
              "      <td>0.03</td>\n",
              "      <td>3.3</td>\n",
              "      <td>Loose fan gravels</td>\n",
              "      <td>1.0</td>\n",
              "      <td>Scarp modeling</td>\n",
              "      <td>1.0</td>\n",
              "      <td>Unvegetated</td>\n",
              "      <td>1.0</td>\n",
              "    </tr>\n",
              "    <tr>\n",
              "      <th>4</th>\n",
              "      <td>Avouac et al. (1993)</td>\n",
              "      <td>Tien Shan, China</td>\n",
              "      <td>44.048</td>\n",
              "      <td>86.790</td>\n",
              "      <td>55</td>\n",
              "      <td>25</td>\n",
              "      <td>0.19</td>\n",
              "      <td>18.4</td>\n",
              "      <td>Loose fan gravels</td>\n",
              "      <td>1.0</td>\n",
              "      <td>Scarp modeling</td>\n",
              "      <td>1.0</td>\n",
              "      <td>Grasses and shrubs</td>\n",
              "      <td>2.0</td>\n",
              "    </tr>\n",
              "  </tbody>\n",
              "</table>\n",
              "</div>"
            ],
            "text/plain": [
              "                      Source               Site Location[a]  Latitude (deg)  \\\n",
              "0      Almond et al. [2008]     Charwell Basin, New Zealand         -42.450   \n",
              "1      Almond et al. [2008]            Ahuriri, New Zealand         -43.702   \n",
              "2   Arrowsmith et al. (1998)         Carrizo Plain, CA, USA          35.271   \n",
              "3  Avouac and Peltzer (1993)  Hotan Region, Xinjiang, China          36.800   \n",
              "4       Avouac et al. (1993)               Tien Shan, China          44.048   \n",
              "\n",
              "   Longitude (deg) D (cm2/yr) D[b] uncertainty (cm2/yr)    AI  MAP (cm/yr)  \\\n",
              "0          173.357         50                        20  1.42        116.0   \n",
              "1          172.584         70                        20  0.76         68.8   \n",
              "2         -119.827         86                         8  0.33         46.7   \n",
              "3           80.500         33                        14  0.03          3.3   \n",
              "4           86.790         55                        25  0.19         18.4   \n",
              "\n",
              "                   Underlying lithology description  Lithology category[c]  \\\n",
              "0       Loess underlain by fluvial gravel terraces                     1.0   \n",
              "1  Thick loess deposits underlain by altered basalt                    1.0   \n",
              "2              Conglomerate and alluvial fan units.                    2.0   \n",
              "3                                 Loose fan gravels                    1.0   \n",
              "4                                 Loose fan gravels                    1.0   \n",
              "\n",
              "                               Technique description  Technique category[d]  \\\n",
              "0  Erosion rate and curvature. Estimate is for th...                    2.0   \n",
              "1  137Cs fallout nuclides (50 yr timescale) and c...                    2.0   \n",
              "2                                     Scarp modeling                    1.0   \n",
              "3                                     Scarp modeling                    1.0   \n",
              "4                                     Scarp modeling                    1.0   \n",
              "\n",
              "                              Vegetation description  Vegetation category[e]  \n",
              "0               Podocarp, hardwood, and beech forest                     3.0  \n",
              "1  Recolonization of forest during Holocene. Rece...                     2.0  \n",
              "2                                 Grasses and shrubs                     2.0  \n",
              "3                                        Unvegetated                     1.0  \n",
              "4                                 Grasses and shrubs                     2.0  "
            ]
          },
          "execution_count": 3,
          "metadata": {},
          "output_type": "execute_result"
        }
      ],
      "source": [
        "# You can give df.rename a dictionary of old and new names like the following:\n",
        "df.rename(columns={'ï»¿Source':'Source'}, inplace=True)\n",
        "# inplace=True means it replaces the column name in the original df rather\n",
        "# than makes a copy\n",
        "df.head()"
      ]
    },
    {
      "attachments": {},
      "cell_type": "markdown",
      "metadata": {
        "id": "fCi6c9wORm9m"
      },
      "source": [
        "Next you have to get rid of all those NaN (not a number) rows. Learn how to [drop rows and columns with NaNs](https://pandas.pydata.org/pandas-docs/stable/reference/api/pandas.DataFrame.dropna.html) or [particular columns](https://pandas.pydata.org/pandas-docs/stable/reference/api/pandas.DataFrame.drop.html) that are read from converting Excel files to csv files. "
      ]
    },
    {
      "cell_type": "code",
      "execution_count": null,
      "metadata": {
        "id": "kBw2gSwIORZT"
      },
      "outputs": [],
      "source": [
        "# Code block to eliminate extra rows here"
      ]
    },
    {
      "attachments": {},
      "cell_type": "markdown",
      "metadata": {
        "id": "M7cPBfCpQIGx"
      },
      "source": [
        "After you've gotten rid of all the NaNs, now can we plot data? \n",
        "\n",
        "Pandas has a very acceptable [built-in histogram plotting function](https://pandas.pydata.org/pandas-docs/stable/reference/api/pandas.DataFrame.hist.html) that can help you quickly visualize your data. \n",
        "\n",
        "Try this line out..."
      ]
    },
    {
      "cell_type": "code",
      "execution_count": null,
      "metadata": {
        "colab": {
          "base_uri": "https://localhost:8080/",
          "height": 325
        },
        "id": "1RpIU4qnSf9S",
        "outputId": "1ef472d5-9b16-4412-8bf4-6533fe734786"
      },
      "outputs": [],
      "source": [
        "df.hist(column='D (cm2/yr)')"
      ]
    },
    {
      "attachments": {},
      "cell_type": "markdown",
      "metadata": {
        "id": "K97m2b15P8Ip"
      },
      "source": [
        "Hmm what the heckity heck is this?"
      ]
    },
    {
      "cell_type": "code",
      "execution_count": null,
      "metadata": {
        "colab": {
          "base_uri": "https://localhost:8080/"
        },
        "id": "lSfONIzZVmmK",
        "outputId": "92205e42-6529-4d9e-9e78-7145837a817a"
      },
      "outputs": [],
      "source": [
        "df.dtypes"
      ]
    },
    {
      "attachments": {},
      "cell_type": "markdown",
      "metadata": {
        "id": "ItwoCqAYUxoP"
      },
      "source": [
        "Ugh, looks like you're gonna have to check out a thorough answer to [changing data types](https://stackoverflow.com/questions/15891038/change-column-type-in-pandas) in Pandas columns. \n",
        "\n",
        "Depending how you do this you might have to  [replace](https://pandas.pydata.org/docs/reference/api/pandas.DataFrame.replace.html) some strings\n"
      ]
    },
    {
      "cell_type": "code",
      "execution_count": null,
      "metadata": {
        "colab": {
          "base_uri": "https://localhost:8080/"
        },
        "id": "tPVlh16rW6hg",
        "outputId": "8e0f1b0b-da3b-4f84-f48d-4b623b2c431a"
      },
      "outputs": [],
      "source": [
        "# Code block to change data types here\n"
      ]
    },
    {
      "attachments": {},
      "cell_type": "markdown",
      "metadata": {
        "id": "7V6n1UZpWRAa"
      },
      "source": [
        "Nice, now you have a nice clean dataset for slicing and visualizing! \n",
        "\n",
        "Please plot a histogram of diffusion values:"
      ]
    },
    {
      "cell_type": "code",
      "execution_count": null,
      "metadata": {
        "colab": {
          "base_uri": "https://localhost:8080/",
          "height": 318
        },
        "id": "X6EJGcdtShB6",
        "outputId": "7c07f93b-ef1f-49ee-805c-bbcb22b25082"
      },
      "outputs": [],
      "source": [
        "# Histogram code here \n"
      ]
    },
    {
      "attachments": {},
      "cell_type": "markdown",
      "metadata": {
        "id": "CCgRCSP6_vew"
      },
      "source": [
        "# Reproduce Figure 2: climate variables versus diffusivity"
      ]
    },
    {
      "attachments": {},
      "cell_type": "markdown",
      "metadata": {
        "id": "71xcVGiLH_U_"
      },
      "source": [
        "Now for grouping by study! It's nontrivial to create the \"other studies\" group, so I'll demosntrate the code here:"
      ]
    },
    {
      "cell_type": "code",
      "execution_count": null,
      "metadata": {
        "colab": {
          "base_uri": "https://localhost:8080/"
        },
        "id": "b99zdaPe_7u2",
        "outputId": "f7144337-299b-4336-be5e-db20d04914df"
      },
      "outputs": [],
      "source": [
        "df['Source_grouping'] = df['Source'].replace(df['Source'].value_counts().index[2:], 'Other studies')\n",
        "\n",
        "# This code counts the number of unique entries in \"Source\" and lists them in descending order. \n",
        "# Then, preserving the top two occurrences (\"Callaghan (2012)\" and \"This study\"), \n",
        "# give me the indices of every other \"Source\" (don't forget, Python starts counting\n",
        "# at zero, so Callaghan is 0, and This study is 1.) and replace their values\n",
        "# with the string \"Other studies\". Then I put it in a column specifically for\n",
        "# our plotting adventures\n",
        "\n",
        "\n",
        "print (df['Source_grouping'].value_counts())\n",
        "\n",
        "# versus\n",
        "\n",
        "print ('\\n', 'versus\\n', df['Source'].value_counts()[0:10])"
      ]
    },
    {
      "attachments": {},
      "cell_type": "markdown",
      "metadata": {
        "id": "vD8VNTvRIYT1"
      },
      "source": [
        "Now that I've done that, you're free to plot by groups! See how close you can get your plot to Figure 2!!"
      ]
    },
    {
      "attachments": {},
      "cell_type": "markdown",
      "metadata": {
        "id": "xUR0SXbynjWh"
      },
      "source": [
        "You'll want the documentation for [markers](https://matplotlib.org/stable/api/markers_api.html) along with [examples](https://matplotlib.org/stable/gallery/lines_bars_and_markers/scatter_star_poly.html) and for [colors](https://matplotlib.org/3.5.0/gallery/color/named_colors.html). "
      ]
    },
    {
      "cell_type": "code",
      "execution_count": null,
      "metadata": {
        "colab": {
          "base_uri": "https://localhost:8080/",
          "height": 289
        },
        "id": "uBEPUXvcIW2u",
        "outputId": "201fe01f-dd98-4196-f0e3-ce3340aed7df"
      },
      "outputs": [],
      "source": [
        "# Insert plot here \n",
        "\n",
        "# I'll get you started:\n",
        "\n",
        "fig, ax = plt.subplots(1,2, figsize=(8,4), sharey=True)\n",
        "\n",
        "# sharey=True means you only have to control and plot one Y axis\n",
        "\n",
        "# The next bit is a dictionary in which we will assign colors and markers\n",
        "# to the three groups. As long as the keys (the first values) are equal\n",
        "# to the study that is being plotted \n",
        "\n",
        "# Fill in the value associated with each key (the '') with an appropriate color \n",
        "# and marker so it looks like Figure 2. \n",
        "\n",
        "color_dict = {'Callaghan (2012)': '??',\n",
        "              'Other studies' : '??',\n",
        "              'This study' : '??'}\n",
        "marker_dict = {'Callaghan (2012)': \"??\",\n",
        "              'Other studies' : \"??\",\n",
        "              'This study' : '??'}\n",
        "\n",
        "\n",
        "# Now, fill in the appropriate x and y data with the column titles\n",
        "\n",
        "for site, group in df.groupby(by='Source_grouping'): \n",
        "    group.plot.scatter(x= '????', y='????',\n",
        "                       color=color_dict[site],marker=marker_dict[site],\n",
        "                       edgecolor='k', s=50,\n",
        "                       ax=ax[0])\n",
        "    group.plot.scatter(x= '????', y='????',\n",
        "                       color=color_dict[site],marker=marker_dict[site],\n",
        "                       edgecolor='k', s=50,\n",
        "                       ax=ax[1], legend=True, label=site)\n",
        "\n",
        "\n",
        "# Set the scale and range of your axes\n",
        "\n",
        "ax[0].set_yscale('log')\n",
        "ax[0].set_ylim(10E-1, 10E3)\n",
        "ax[0].set_xscale('log')\n",
        "ax[1].set_xscale('log')"
      ]
    },
    {
      "attachments": {},
      "cell_type": "markdown",
      "metadata": {
        "id": "b6NAW5R9H1An"
      },
      "source": [
        "# What method was used to determine these values?"
      ]
    },
    {
      "attachments": {},
      "cell_type": "markdown",
      "metadata": {
        "id": "eVWhT5OAH39o"
      },
      "source": [
        "A [more recent paper](https://agupubs.onlinelibrary.wiley.com/doi/abs/10.1029/2020JF005858) noted that diffusivities derived from the curvature method seemed to give unusual answers since actually, field data tell us curvature doesn't predict erosion in ways we'd expect. \n",
        "\n",
        "Make a [boxplot](https://seaborn.pydata.org/generated/seaborn.boxplot.html) that shows the range of values calculated with the different methods described in the Richardson et al. paper."
      ]
    },
    {
      "cell_type": "code",
      "execution_count": null,
      "metadata": {
        "colab": {
          "base_uri": "https://localhost:8080/",
          "height": 297
        },
        "id": "sh2vRTBcH3QN",
        "outputId": "0b1694d2-4f63-4757-d73a-a7c378f2f66a"
      },
      "outputs": [],
      "source": [
        "# Boxplot here\n"
      ]
    },
    {
      "attachments": {},
      "cell_type": "markdown",
      "metadata": {
        "id": "oeSaIKqpWHx6"
      },
      "source": [
        "Do some techniques estimate higher or lower D values? Peruse the Richardson paper and speculate why this might be the case. How might you go about deciding if the differences are significant?"
      ]
    },
    {
      "attachments": {},
      "cell_type": "markdown",
      "metadata": {
        "id": "JG9TrhrSb9j9"
      },
      "source": [
        "*Your text here*"
      ]
    },
    {
      "attachments": {},
      "cell_type": "markdown",
      "metadata": {
        "id": "fHmH9w7Yaxvg"
      },
      "source": [
        "# Sick dataviz"
      ]
    },
    {
      "attachments": {},
      "cell_type": "markdown",
      "metadata": {
        "id": "EgDyNIIIa0Rg"
      },
      "source": [
        "Seaborn has a bunch of fun plot types like [joint plots](https://seaborn.pydata.org/generated/seaborn.jointplot.html) or others out there in the [gallery](https://seaborn.pydata.org/examples/index.html). Make me a cool plot, but do be mindful to make me a cool plot **that is appropriate for the data type.** You have both [categorical](https://seaborn.pydata.org/tutorial/categorical.html) and [distributions](https://seaborn.pydata.org/tutorial/distributions.html) of continuous data.  "
      ]
    },
    {
      "cell_type": "code",
      "execution_count": null,
      "metadata": {
        "colab": {
          "base_uri": "https://localhost:8080/",
          "height": 459
        },
        "id": "nFObhfCgaytq",
        "outputId": "4130cdbf-bab7-40fe-fec9-0079f4439581"
      },
      "outputs": [],
      "source": [
        "# Sick seaborn plot here"
      ]
    },
    {
      "attachments": {},
      "cell_type": "markdown",
      "metadata": {
        "id": "HmhmWGU8ftSa"
      },
      "source": [
        "# How do my field data compare?"
      ]
    },
    {
      "attachments": {},
      "cell_type": "markdown",
      "metadata": {
        "id": "KkxDq2OYfwA6"
      },
      "source": [
        "In western Alaska where the MAP=43 cm, I've measured surface velocities of an average of 5 cm/year on permafrost soils forming on schists.\n",
        "\n",
        "In a [2023 paper](https://esurf.copernicus.org/articles/11/227/2023/esurf-11-227-2023.html),  I convert that into a range of potential volumetric sediment fluxes from 0.2 m<sup>2</sup>/yr (minimum) to 2.0 m<sup>2</sup>/yr (maximum). If slope *S* = 0.27 m/m, what is the range of modeled diffusivity constants at my site? How does this compare to other data that have similar lithology and MAP? \n",
        "\n",
        "Show me a plot to argue your point. I would recommend generating two pairs of X and Y values from the sediment flux estimate (one for the minimum value and one for the maximum value) to plot on top of the data you have been working with. For example, your X values would be mean annual precipitation and your Y values would be estimate diffusivity. "
      ]
    },
    {
      "attachments": {},
      "cell_type": "markdown",
      "metadata": {
        "id": "wqb7Ot1ogzfD"
      },
      "source": [
        "*Your answer here*"
      ]
    },
    {
      "cell_type": "code",
      "execution_count": null,
      "metadata": {
        "colab": {
          "base_uri": "https://localhost:8080/"
        },
        "id": "62NFsgyHoQfo",
        "outputId": "6cd96d17-e1dc-4512-ff77-508fe5297be8"
      },
      "outputs": [],
      "source": [
        "# Sed flux estimate \n"
      ]
    },
    {
      "cell_type": "code",
      "execution_count": null,
      "metadata": {
        "colab": {
          "base_uri": "https://localhost:8080/",
          "height": 269
        },
        "id": "XVyq8BkafvQi",
        "outputId": "d59cf9a9-ee73-4517-9e25-0c6cf7a688cc"
      },
      "outputs": [],
      "source": [
        "# Filter by the correct lithology\n",
        "# Now you have a dataframe with only one type of lithology\n",
        "lith = df[df[\"Lithology category[c]\"] == 3]\n",
        "\n",
        "# Your plot here\n",
        "fig, ax = plt.subplots()\n"
      ]
    }
  ],
  "metadata": {
    "colab": {
      "collapsed_sections": [],
      "include_colab_link": true,
      "name": "How does climate (and other geologic factors) influence soil diffusion.ipynb",
      "provenance": []
    },
    "kernelspec": {
      "display_name": "Python 3",
      "name": "python3"
    },
    "language_info": {
      "codemirror_mode": {
        "name": "ipython",
        "version": 3
      },
      "file_extension": ".py",
      "mimetype": "text/x-python",
      "name": "python",
      "nbconvert_exporter": "python",
      "pygments_lexer": "ipython3",
      "version": "3.11.7"
    }
  },
  "nbformat": 4,
  "nbformat_minor": 0
}
