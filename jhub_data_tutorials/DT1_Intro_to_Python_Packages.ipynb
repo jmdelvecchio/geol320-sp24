{
  "cells": [
    {
      "attachments": {},
      "cell_type": "markdown",
      "metadata": {},
      "source": [
        "# Introduction  to Data Tutorial 1"
      ]
    },
    {
      "cell_type": "markdown",
      "metadata": {},
      "source": [
        "This is an introduction to Python, as well as some of the most useful [modules](https://realpython.com/python-modules-packages/) like `numpy`, `pandas`, and `matplotlib`. The first part was written by [Simon Mudd](https://github.com/simon-m-mudd/smm_teaching_notebooks), and originally adapted for Google Colab by Joanmarie Del Vecchio and then turned back into normal notebooks for JHub. The second half will involve a dataset from closer to home. \n"
      ]
    },
    {
      "attachments": {},
      "cell_type": "markdown",
      "metadata": {},
      "source": [
        "# Learing objectives"
      ]
    },
    {
      "attachments": {},
      "cell_type": "markdown",
      "metadata": {},
      "source": [
        "- Introduction to Python and basic packages like `numpy`, `pandas` and `matplotlib`\n",
        "- Introduction to loading in data from spreadsheets and manipulating the data with code\n",
        "- Not much geomorphology, but we will get to look at some data!"
      ]
    },
    {
      "cell_type": "markdown",
      "metadata": {},
      "source": [
        "# Part 1: Python basics"
      ]
    },
    {
      "attachments": {},
      "cell_type": "markdown",
      "metadata": {
        "id": "_cwI250lBQMP"
      },
      "source": [
        "\n",
        "Written by Simon M. Mudd with last update 21/01/2022\n",
        "\n",
        "This series of lessons is a very basic introduction to python. They are intended for students with no python background, or for students who need a basic refresher.\n",
        "\n",
        "If you spend a few seconds on any search engine you will find hundreds of basic python tutorials that are better than this one. But this one specifically covers the stuff I want you to know for lesson 2 and 3, so that is why I wrote it.\n",
        "\n"
      ]
    },
    {
      "attachments": {},
      "cell_type": "markdown",
      "metadata": {
        "id": "SXGBwlEsAAKX"
      },
      "source": [
        "## What is python?\n",
        "Python is a programming language. It is used for all kinds of things but the target audience for these lessons are people who will do some data analysis or plotting. Similar alternatives are Matlab (but this is a commercial product and you have to pay for it), R (which is focussed on statistics and not as flexible as python), and Julia (which has far fewer users than python so help is harder to find).\n",
        "\n",
        "Amongst the above languages, Python is the most widely used and also the most frequently cited in job ads.\n",
        "\n",
        "## What do you use python for (in these lessons)\n",
        "These lessons are to show how you might replace some tasks in Excel with python. This boils down to handling data and plotting it. Excel is fast and easy for lots of things but there are certain things that are easier in python\n",
        "\n",
        "## How does python work?\n",
        "You need some version of python installed to get it to work. But if you are using a functioning python notebook, someone has already done that for you.\n",
        "\n",
        "## Python in a notebook\n",
        "You are reading this in a notebook. The notebook is made up of \"cells\". Cells can either be text (usually formatted using something called markdown, which you can look up) or code. If you are going to run some code the cell needs to be a \"code\" cell.\n",
        "\n",
        "This cell is a text cell so it won't run any python code.\n",
        "\n",
        "The next cell will be code."
      ]
    },
    {
      "cell_type": "code",
      "execution_count": null,
      "metadata": {
        "colab": {
          "base_uri": "https://localhost:8080/"
        },
        "id": "DBkceryAAXec",
        "outputId": "ac067dc8-55e8-41bf-8603-0b229daf59f8"
      },
      "outputs": [],
      "source": [
        "# This is a code cell. \n",
        "# If you put a `#` on a line python will ignore it. \n",
        "# This is called a comment. \n",
        "# Below I will tell python the letter a has the value 5 and I will then print it to screen\n",
        "# To run this cell click on it and press shift+enter\n",
        "a = 5\n",
        "print(a)"
      ]
    },
    {
      "cell_type": "markdown",
      "metadata": {
        "id": "yJeTA7SDAAYx"
      },
      "source": [
        "You run cells by \"executing\" them. Do this by clicking on the cell and typing shift+enter. If there is any output from the cell it will appear below the cell."
      ]
    },
    {
      "cell_type": "markdown",
      "metadata": {
        "id": "u8hoAwoFAAax"
      },
      "source": [
        "## Assigning variables\n",
        "In python you can assign variables with the = symbol. Python will remember this variable."
      ]
    },
    {
      "cell_type": "code",
      "execution_count": null,
      "metadata": {
        "colab": {
          "base_uri": "https://localhost:8080/"
        },
        "id": "2OJZeiqUAfnx",
        "outputId": "5bd3648d-90b9-46ac-b692-f8b1b00dbd88"
      },
      "outputs": [],
      "source": [
        "a = 5\n",
        "b = 6\n",
        "print(a+b)"
      ]
    },
    {
      "attachments": {},
      "cell_type": "markdown",
      "metadata": {
        "id": "OKt67GjTAigX"
      },
      "source": [
        "## Printing things\n",
        "You can print things with the print command. What you are printing afterwards needs to be in parentheses. Python assigns a type to its variables. The variable could be a number, or a string of characters (called a \"string\" or \"str\"). You assign strings by using quotations. When you print things you can't mix types. But you can convert things all to string and print that."
      ]
    },
    {
      "cell_type": "code",
      "execution_count": null,
      "metadata": {
        "colab": {
          "base_uri": "https://localhost:8080/",
          "height": 200
        },
        "id": "1FO3pUU8Akb2",
        "outputId": "813a7e54-7a76-4e2d-a865-db38b54b56b0"
      },
      "outputs": [],
      "source": [
        "# THIS DOESN'T WORK\n",
        "a = 5\n",
        "b = \"The number is: \"\n",
        "print(b+a)"
      ]
    },
    {
      "cell_type": "code",
      "execution_count": null,
      "metadata": {
        "colab": {
          "base_uri": "https://localhost:8080/"
        },
        "id": "Lz3oqMLEAg_y",
        "outputId": "094010a4-d49e-4cbb-a49e-1b92ff1495c6"
      },
      "outputs": [],
      "source": [
        "# This works because I convert the number to a string:\n",
        "a = str(5)\n",
        "b = \"The number is: \"\n",
        "print(b+a)"
      ]
    },
    {
      "cell_type": "markdown",
      "metadata": {
        "id": "M9hYc9oJA2nc"
      },
      "source": [
        "Lists of stuff (numbers, for example)\n",
        "You can assign a number or a string to a variable. But you can also assigns groups of numbers or strings. These are called lists.\n",
        "\n",
        "When you have a list you can access their individual values using something called and index. python uses square brackets for this. python uses something called \"zero indexing\" where the first element in a list has the index of 0. This might seem a bit weird but it works that way for some c[omputer science reasons](https://en.wikipedia.org/wiki/Zero-based_numbering#:~:text=Zero%2Dbased%20numbering%20is%20a,mathematical%20or%20non%2Dprogramming%20circumstances). As a consequence programmers think you are a loser if you index your first element with a 1, like a normal human. It is annoying at first but you will get used to it."
      ]
    },
    {
      "cell_type": "code",
      "execution_count": null,
      "metadata": {
        "id": "qRYvB1J1A2FC"
      },
      "outputs": [],
      "source": [
        "some_numbers = [7,4,2,-1,-5]\n",
        "print(\"Here is the list: \")\n",
        "print(some_numbers)\n",
        "print(\"Below is the first element. The index of the first element is 0, not 1!!\")\n",
        "print(some_numbers[0])\n",
        "print(\"The fifth element is:\")\n",
        "print(some_numbers[4])"
      ]
    },
    {
      "cell_type": "markdown",
      "metadata": {
        "id": "I7oI-_WbBAL4"
      },
      "source": [
        "You can to the same thing with strings:"
      ]
    },
    {
      "cell_type": "code",
      "execution_count": null,
      "metadata": {
        "id": "XRyFMKWtBCKL"
      },
      "outputs": [],
      "source": [
        "some_strings = [\"yo\",\"yo\",\"ma\"]\n",
        "print(\"The strings are:\")\n",
        "print(some_strings)"
      ]
    },
    {
      "attachments": {},
      "cell_type": "markdown",
      "metadata": {
        "id": "64m7fB08BFkS"
      },
      "source": [
        "## Stuff to try\n",
        "* Try to assign a variable\n",
        "* Try to print your variable\n",
        "* Try to assign a list\n",
        "* Try to print an item in your list\n",
        "\n"
      ]
    },
    {
      "cell_type": "code",
      "execution_count": null,
      "metadata": {
        "id": "IOTsfVq9BF3C"
      },
      "outputs": [],
      "source": []
    },
    {
      "cell_type": "markdown",
      "metadata": {
        "id": "2Z7evMlXAAcn"
      },
      "source": [
        "# Importing intro"
      ]
    },
    {
      "attachments": {},
      "cell_type": "markdown",
      "metadata": {
        "id": "8UNF2GB-Bl-O"
      },
      "source": [
        "Written by Simon M. Mudd with last update 21/01/2022\n",
        "\n",
        "## Importing useful stuff\n",
        "There are loads of people that write useful python code. They make this code available so that you can use it in your own code. One day you might even write some python code that you let other people use.\n",
        "\n",
        "This useful code is usually distributed as \"packages\". To get a package you need to install it. But if you are just starting out, you get told where to run your python code (for example, in google colab, or in some university's notebook server), and someone has already installed the useful packages for you. You are almost certainly in one of those places now.\n",
        "\n",
        "But just installing some package doesn't make it available. You need to `import` it.\n",
        "\n",
        "## What sorts of useful stuff can I import?\n",
        "If you are reading this tutorial you are vaguely going to use python for data science, broadly defined (as opposed to, say, web development, or making games). Any data scientist will use this stuff:\n",
        "\n",
        "* `numpy`: short for numerical python. Mathsy stuff in here.\n",
        "* `matplotlib`: for making plots\n",
        "* `scipy`: more mathsy stuff but more specific than `numpy`. Statistcs are in here.\n",
        "* `pandas`: reading and dealing with data.\n",
        "\n",
        "The above packages are really, really common. Everyone uses them. And those packages are very stable, the installations almost never break and there is lots of documentation and tutorials.\n",
        "\n",
        "You might also be someone interested in geospatial data. This requires packages that are a bit more niche than the packages listed above so I will leave that to a later lesson.\n",
        "\n",
        "## Show me how to import something!!\n",
        "You import a package by using the python command `import`. Like this:"
      ]
    },
    {
      "cell_type": "code",
      "execution_count": null,
      "metadata": {
        "id": "sV0_272mAJKq"
      },
      "outputs": [],
      "source": [
        "import numpy\n",
        "numpy.__version__"
      ]
    },
    {
      "cell_type": "markdown",
      "metadata": {
        "id": "k_UR-FQrB7OW"
      },
      "source": [
        "I imported `numpy` there and then I called `__version__` which you can use with pretty much any python package to tell you the version number.\n",
        "\n",
        "To use something in a package you use the name of the package followed by the `.` symbol. Here are two more things that you might do with numpy (note this only work if you have already imported `numpy`"
      ]
    },
    {
      "cell_type": "code",
      "execution_count": null,
      "metadata": {
        "id": "I2eJ50olCBWM"
      },
      "outputs": [],
      "source": [
        "a = numpy.arange(6)\n",
        "print(\"Here is a numpy array;\")\n",
        "print(a)\n",
        "b = numpy.linspace(1,5,11)\n",
        "print(\"Here is another one made a different way:\")\n",
        "print(b)"
      ]
    },
    {
      "cell_type": "markdown",
      "metadata": {
        "id": "kKz66IkdCEr7"
      },
      "source": [
        "Wait a minute. That looks like a list. Why did you call it an array?\n",
        "`numpy` has its own version of a list called a *numpy array*. Without giving you too many details, a numpy array behaves much like a list but has some added features that make it bettern than a list for certain kinds of computation. You can convert a list to an array using the numpy function `asarray`:"
      ]
    },
    {
      "cell_type": "code",
      "execution_count": null,
      "metadata": {
        "id": "5KwNAHYFCN4X"
      },
      "outputs": [],
      "source": [
        "a_list = [1,2,3,4]\n",
        "an_array = numpy.asarray(a_list)\n",
        "print(\"Type of a_list is:\")\n",
        "print(type(a_list))\n",
        "print(\"Type of an_array is:\")\n",
        "print(type(an_array))"
      ]
    },
    {
      "attachments": {},
      "cell_type": "markdown",
      "metadata": {
        "id": "QS5kOQEKCPpE"
      },
      "source": [
        "## Do I really have to type out `numpy` each time I want to do something with numpy?\n",
        "It is a bit annoying to type out the full name of a package each time you want to use something in it. Luckily python lets you give packages short names (or long names, if you have some weird fetish) by usinging the import as syntax:"
      ]
    },
    {
      "cell_type": "code",
      "execution_count": null,
      "metadata": {
        "id": "W1A-zf5yCUFh"
      },
      "outputs": [],
      "source": [
        "import numpy as np\n",
        "a = np.arange(6)\n",
        "print(\"Here is a numpy array;\")\n",
        "print(a)"
      ]
    },
    {
      "attachments": {},
      "cell_type": "markdown",
      "metadata": {
        "id": "_PwizIaZCVmE"
      },
      "source": [
        "## Let's import matplotlib and make a plot\n",
        "Another useful packages is `matplotlib` which does plotting. `matplotlib` gives you a lot of control over the appearance of plots, but here is a very simple example:"
      ]
    },
    {
      "cell_type": "code",
      "execution_count": null,
      "metadata": {
        "id": "-mUCtxYJCZzt"
      },
      "outputs": [],
      "source": [
        "import matplotlib.pyplot as plt\n",
        "import numpy as np\n",
        "\n",
        "# Data for plotting\n",
        "x = [1,2,3,4,5]\n",
        "y = [2,3,3.5,7,9]\n",
        "\n",
        "plt.plot(x,y)\n",
        "plt.xlabel(\"x\")\n",
        "plt.ylabel(\"y\")\n",
        "plt.title('About as simple as it gets, folks')\n",
        "plt.grid()\n",
        "plt.show()"
      ]
    },
    {
      "cell_type": "markdown",
      "metadata": {
        "id": "C0nQsEqJCgK2"
      },
      "source": [
        "Or we could do a scatter plot:"
      ]
    },
    {
      "cell_type": "code",
      "execution_count": null,
      "metadata": {
        "id": "2z_IZKojChOA"
      },
      "outputs": [],
      "source": [
        "# Clear the plot with the clf() command\n",
        "plt.clf()\n",
        "\n",
        "plt.scatter(x,y)\n",
        "plt.xlabel(\"x\",fontsize=20)\n",
        "plt.ylabel(\"y\",fontsize=20)\n",
        "\n",
        "# I'm going to use a newline character (\\n) in the title\n",
        "plt.title('Scatter plots are usually\\nbetter with discrete data',fontsize=24)\n",
        "plt.grid()\n",
        "plt.show()"
      ]
    },
    {
      "cell_type": "markdown",
      "metadata": {
        "id": "r9DQl2XLClUg"
      },
      "source": [
        "Okay, we have some very basic tools up our sleeves. Lets move on to `pandas`."
      ]
    },
    {
      "cell_type": "markdown",
      "metadata": {
        "id": "PHxAepOKAJfM"
      },
      "source": [
        "# Pandas intro"
      ]
    },
    {
      "cell_type": "markdown",
      "metadata": {
        "id": "B7ybAJsiCu48"
      },
      "source": [
        "It is possible that someone who knows something about python will look at these lessons. They will skim lesson 01 and 02 and then get to this lesson and think \"what are you doing, you can't go from something as basic as assigning and making a numpy array straight to pandas, you psychopath!\". They will then run away, screaming like a banshee, and jump into a canal.\n",
        "\n",
        "But I don't care what those people think. Because I want you to know how to plot some spreadsheet data as quickly as possible.\n",
        "\n",
        "Ready? Lets go!!"
      ]
    },
    {
      "attachments": {},
      "cell_type": "markdown",
      "metadata": {
        "id": "m7CRYkYZCw32"
      },
      "source": [
        "## What does a Chinese bear have to do with importing data?\n",
        "pandas comes from \"python data analysis library\". It sounds better than \"pdal\". Although I like bicylces so I might have called it \"pedal\". Anyway, I did not write pandas. A guy working for a hedge fund did, because analysis of financial data often involves dealing with messy time series data. This package has ended up being immensely useful to all kinds of people and now forms one of the keystones of data science in python.\n",
        "\n",
        "pandas is most at home reading csv data. csv stands for \"comma separated value\". You can save excel files in this format. The format has columns separated by commas. \n",
        "\n",
        "Actually, let me write this file. You won't really be writing files like this in python so don't worry about the syntax."
      ]
    },
    {
      "cell_type": "code",
      "execution_count": null,
      "metadata": {
        "id": "52ODwK-LDJxx"
      },
      "outputs": [],
      "source": [
        "f = open(\"toadfile.csv\", \"w\")\n",
        "f.write(\"year,pond,toads\")\n",
        "f.write(\"\\n2011,1,1\")\n",
        "f.write(\"\\n2011,2,13\")\n",
        "f.write(\"\\n2012,1,2\")\n",
        "f.write(\"\\n2012,2,11\")\n",
        "f.write(\"\\n2013,1,7\")\n",
        "f.write(\"\\n2013,2,4\")\n",
        "f.close()\n",
        "\n",
        "with open(\"toadfile.csv\", 'r') as fin:\n",
        "    print(fin.read())"
      ]
    },
    {
      "cell_type": "markdown",
      "metadata": {
        "id": "hT2wYcXDDNDT"
      },
      "source": [
        "Okay, if you wanted to you could open this file using Excel. But instead we will open it with `pandas`"
      ]
    },
    {
      "attachments": {},
      "cell_type": "markdown",
      "metadata": {
        "id": "BQOjXkZ4DPdg"
      },
      "source": [
        "## Pandas and toads\n",
        "We first need to import `pandas`. And because I don't feel like writing out `pandas` all the time I will import it as `pd`.\n",
        "\n",
        "I will then read the toads file using the `read_csv` function:"
      ]
    },
    {
      "cell_type": "code",
      "execution_count": null,
      "metadata": {
        "id": "QCWV7LF-AKgn"
      },
      "outputs": [],
      "source": [
        "import pandas as pd\n",
        "df = pd.read_csv(\"toadfile.csv\")"
      ]
    },
    {
      "cell_type": "markdown",
      "metadata": {
        "id": "PP2-vQjADZOk"
      },
      "source": [
        "Hey what happened? There is no output if you run the above cell.\n",
        "\n",
        "That is because pandas has read the data in the toadfile into a variable called `df`. In the pandas world `df` is quite common name for a variable because it is short for `dataframe`. And pandas calls any collection of data a `DataFrame`. You can see this with the `type` command."
      ]
    },
    {
      "cell_type": "code",
      "execution_count": null,
      "metadata": {
        "id": "p17TP2INDYx8"
      },
      "outputs": [],
      "source": [
        "print(type(df))"
      ]
    },
    {
      "cell_type": "markdown",
      "metadata": {
        "id": "791YltrsDnOv"
      },
      "source": [
        "Okay, what if we want to look at the data? You can use the head command to see the data"
      ]
    },
    {
      "cell_type": "code",
      "execution_count": null,
      "metadata": {
        "id": "8WQUZc8uDkDf"
      },
      "outputs": [],
      "source": [
        "df.head()"
      ]
    },
    {
      "cell_type": "markdown",
      "metadata": {
        "id": "0R_jMBivDkdp"
      },
      "source": [
        "The default is to see the first 5 items. You can change this quite easily:"
      ]
    },
    {
      "cell_type": "code",
      "execution_count": null,
      "metadata": {
        "id": "KhvO9JoKDks8"
      },
      "outputs": [],
      "source": [
        "df.head(6)"
      ]
    },
    {
      "attachments": {},
      "cell_type": "markdown",
      "metadata": {
        "id": "E2pWOCq5Dk2g"
      },
      "source": [
        "## Selecting data using pandas (where a lot of the magic happens)\n",
        "Why is `pandas` so useful? Well one of the things I find most useful is the ease of selecting data.\n",
        "\n",
        "Observe me get the `toads` data:"
      ]
    },
    {
      "cell_type": "code",
      "execution_count": null,
      "metadata": {
        "id": "ayBtHkN-Dk7q"
      },
      "outputs": [],
      "source": [
        "toads = df.toads\n",
        "print(\"The data type of the variable toads is: \")\n",
        "print(type(toads))\n",
        "print(\"And here is the data:\")\n",
        "print(toads)\n",
        "print(\"I can convert this to a list\")\n",
        "print(list(toads))\n",
        "print(\"And I can convert it to an array:\")\n",
        "print(toads.to_numpy())"
      ]
    },
    {
      "cell_type": "markdown",
      "metadata": {
        "id": "SPYUT1bvDlCi"
      },
      "source": [
        "Here is another very useful feature. You can select data by conditional statements (if the data meets a condition, you keep it).\n",
        "\n",
        "You need this funny syntax with some brackets but as long as you copy the format below with your own data you should be fine."
      ]
    },
    {
      "cell_type": "code",
      "execution_count": null,
      "metadata": {
        "id": "sdrsCxKlD2q3"
      },
      "outputs": [],
      "source": [
        "df_2011 = df[(df['year'] == 2011)]\n",
        "df_2011.head()"
      ]
    },
    {
      "cell_type": "code",
      "execution_count": null,
      "metadata": {
        "id": "tunulGNaD2sq"
      },
      "outputs": [],
      "source": [
        "df_2011 = df[(df['year'] > 2011)]\n",
        "df_2011.head()"
      ]
    },
    {
      "cell_type": "code",
      "execution_count": null,
      "metadata": {
        "id": "J-ur3VbJDzfn"
      },
      "outputs": [],
      "source": [
        "df_pond1 = df[(df['pond'] == 1)]\n",
        "df_pond1.head()"
      ]
    },
    {
      "attachments": {},
      "cell_type": "markdown",
      "metadata": {
        "id": "bUHFOwsFDzyD"
      },
      "source": [
        "## Plotting some data using pandas\n",
        "Recent versions of pandas have some built in plotting functions. [You can see the options here](https://pandas.pydata.org/pandas-docs/stable/user_guide/visualization.html).\n",
        "\n"
      ]
    },
    {
      "cell_type": "code",
      "execution_count": null,
      "metadata": {
        "id": "trrKLHXkDlJF"
      },
      "outputs": [],
      "source": [
        "df.plot.scatter(x=\"year\", y=\"toads\", c=\"pond\", cmap=\"viridis\", s=50);"
      ]
    },
    {
      "cell_type": "markdown",
      "metadata": {
        "id": "6TYDKWxGFz2k"
      },
      "source": [
        "# Part 2: Plotting more complex data"
      ]
    },
    {
      "cell_type": "markdown",
      "metadata": {},
      "source": [
        "Here is where Joanmarie takes over with some more complicated data than a few toads. "
      ]
    },
    {
      "cell_type": "code",
      "execution_count": null,
      "metadata": {},
      "outputs": [],
      "source": [
        "import pandas as pd \n",
        "# As long as this .csv file is in the \"data\" directory,\n",
        "# we can oad temperature data from a CSV file\n",
        "weather_data = pd.read_csv('data/williamsburg_meteo.csv')\n",
        "\n",
        "# Peek at the data and particularly the column names\n",
        "weather_data.head()"
      ]
    },
    {
      "cell_type": "markdown",
      "metadata": {},
      "source": [
        "We can create new columns and fill them with a single value or perform an opreation on a column:"
      ]
    },
    {
      "cell_type": "code",
      "execution_count": null,
      "metadata": {},
      "outputs": [],
      "source": [
        "# You can make any column and fill it with anything you want\n",
        "weather_data['QC'] = 'good' # a pretend \"quality control column\"\n",
        "\n",
        "# You can look at data in one column and make a new column with slightly different formatting\n",
        "weather_data['datetime'] = pd.to_datetime(weather_data['DATE']) # the pd.to_datetime() just reads the dates as a specific type of data that plots well for time series\n",
        "\n",
        "# You can do a calculation on a column! \n",
        "weather_data['PRCP_cm'] = weather_data['PRCP'] * 2.54 # convert inches to centimeters\n",
        "\n",
        "weather_data.head()"
      ]
    },
    {
      "cell_type": "markdown",
      "metadata": {},
      "source": [
        "Precip and temperature data were originally given in imperial units. Using the example above where I converted inches to centimeters (`weather_data['PRCP']` to `weather_data['PRCP_cm']`), create new columns where temperature values are given in the metric system (Celcius)."
      ]
    },
    {
      "cell_type": "code",
      "execution_count": null,
      "metadata": {},
      "outputs": [],
      "source": [
        "# your code here"
      ]
    },
    {
      "cell_type": "markdown",
      "metadata": {},
      "source": [
        "Now, let's make some plots:"
      ]
    },
    {
      "cell_type": "code",
      "execution_count": null,
      "metadata": {},
      "outputs": [],
      "source": [
        "# For ease, we will define separate variables as the columns in our DataFrame. \n",
        "# This way you can type \"date\" instead of the DataFrame and column name\n",
        "\n",
        "date = weather_data['datetime']\n",
        "\n",
        "temperature = weather_data['TOBS'] "
      ]
    },
    {
      "cell_type": "markdown",
      "metadata": {},
      "source": [
        "We can now use the `plt` module we loaded to make a simple plot. You can always [read the docs](https://matplotlib.org/stable/api/_as_gen/matplotlib.pyplot.plot.html) to understand the arguments that plotting functions take. (And you *find* the docs by searching \"matplotlib [function]\")"
      ]
    },
    {
      "cell_type": "code",
      "execution_count": null,
      "metadata": {},
      "outputs": [],
      "source": [
        "plt.plot(date, temperature)"
      ]
    },
    {
      "cell_type": "markdown",
      "metadata": {},
      "source": [
        "## Your turn!"
      ]
    },
    {
      "cell_type": "markdown",
      "metadata": {},
      "source": [
        "Create a [scatter](https://matplotlib.org/stable/api/_as_gen/matplotlib.pyplot.scatter.html) plot of temperature over time with points colored by precipitation. Most plotting functions allow you to specify a `c` axis that colors certain datapoints to be a third data axis for data-rich plots. When you do that you'll want to add a [colorbar](https://matplotlib.org/stable/api/_as_gen/matplotlib.pyplot.colorbar.html) so your viewers know what they're looking at. \n",
        "\n",
        "I'll get you started:"
      ]
    },
    {
      "cell_type": "code",
      "execution_count": null,
      "metadata": {},
      "outputs": [],
      "source": [
        "# Specify the \"c\" keyword to add precipitation data as colors!\n",
        "plt.scatter(???, ???, c=???)\n",
        "\n",
        "\n",
        "# Call the \"colorbar()\" class to add a colorbar!\n",
        "plt.colorbar(label=\"precipitation\")\n",
        "\n",
        "# Set the title of the plot\n",
        "plt.title('??')\n",
        "\n",
        "# Label the x-axis\n",
        "plt.xlabel('??')\n",
        "\n",
        "# Label the y-axis\n",
        "plt.ylabel('???')"
      ]
    },
    {
      "cell_type": "markdown",
      "metadata": {},
      "source": [
        "Whew! Congrats, you've made it to the end of the introduction to Python, data, and plotting!!\n",
        "\n",
        "You can experiment with plotting in the cells above. If the above material was a bit of a stretch for you and you need to digest it a little, take the rest of the time to read over the content and convince yourself you know what goes on when you call certain lines of code. \n",
        "\n",
        "If, on the other hand, you feel confident with the material covered so far, you can read ahead to learn about some of the nuances of plotting. "
      ]
    },
    {
      "cell_type": "markdown",
      "metadata": {},
      "source": [
        "# Advanced topic: the nuances of making plots"
      ]
    },
    {
      "cell_type": "markdown",
      "metadata": {
        "id": "5oQSBvRBJTW3"
      },
      "source": [
        "## Using `plt.plot()`"
      ]
    },
    {
      "cell_type": "markdown",
      "metadata": {},
      "source": [
        "In Matplotlib, both plt.figure() and fig, ax = plt.subplots() are used to create figures for object-oriented plotting, but they have different use cases and behaviors:\n",
        "\n",
        "`plt.figure()`:\n",
        "\n",
        "- `plt.figure()` is used to create a single figure object, and it returns a reference to that figure. This figure can contain one or more subplots (Axes).\n",
        "\n",
        "- When you create plots using `plt.plot()`, `plt.scatter()`, etc., without explicitly specifying an Axes object, Matplotlib will automatically create an Axes within the current figure.\n",
        "\n",
        "- It is useful when you want to create a single plot without multiple subplots, and you are not concerned about creating multiple axes explicitly.\n",
        "\n",
        "Here, we will create a `figure` object"
      ]
    },
    {
      "cell_type": "code",
      "execution_count": null,
      "metadata": {},
      "outputs": [],
      "source": [
        "# Create a figure with a specific size (10x6 inches)\n",
        "plt.figure(figsize=(10, 6))\n",
        "\n",
        "# Create a line plot using time on the x-axis and temperature on the y-axis\n",
        "# Customize the plot with blue color, circular markers, solid lines, and marker size\n",
        "plt.plot(date, temperature, color='blue', marker='o', linestyle='-', markersize=4)\n",
        "\n",
        "# Set the title of the plot\n",
        "plt.title('Temperature Over Time')\n",
        "\n",
        "# Label the x-axis\n",
        "plt.xlabel('Time')\n",
        "\n",
        "# Label the y-axis\n",
        "plt.ylabel('Temperature (°C)')"
      ]
    },
    {
      "cell_type": "markdown",
      "metadata": {},
      "source": [
        "Note we can do things like [set the limits of axes](https://matplotlib.org/stable/api/_as_gen/matplotlib.pyplot.ylim.html):"
      ]
    },
    {
      "cell_type": "code",
      "execution_count": null,
      "metadata": {},
      "outputs": [],
      "source": [
        "# Create a figure with a specific size (10x6 inches)\n",
        "plt.figure(figsize=(10, 6))\n",
        "\n",
        "# Create a line plot using time on the x-axis and temperature on the y-axis\n",
        "# Customize the plot with blue color, circular markers, solid lines, and marker size\n",
        "plt.plot(date, temperature, color='blue', marker='o', linestyle='-', markersize=4)\n",
        "\n",
        "# Set the title of the plot\n",
        "plt.title('Temperature Over Time')\n",
        "\n",
        "# Label the x-axis\n",
        "plt.xlabel('Time')\n",
        "\n",
        "# Set axis limits from 0 to 100\n",
        "plt.ylim(0, 100)\n",
        "\n",
        "# Label the y-axis\n",
        "plt.ylabel('Temperature (°C)')"
      ]
    },
    {
      "cell_type": "markdown",
      "metadata": {},
      "source": [
        "## Using `ax` objects"
      ]
    },
    {
      "cell_type": "markdown",
      "metadata": {},
      "source": [
        "In contrast, we can use `fig, ax = plt.subplots()`:\n",
        "\n",
        "- Multiple Subplots: `plt.subplots()` is used to create a figure (Fig) and one or more subplots (Axes) within that figure. It returns both the figure and an array of Axes objects.\n",
        "\n",
        "- Explicit Axes: You explicitly create and specify the Axes objects when using `fig, ax = plt.subplots()`. This allows you to have more control over the placement and arrangement of subplots.\n",
        "\n",
        "- Usage: It is useful when you need to create multiple subplots within a single figure, such as creating a grid of plots.\n",
        "\n",
        "A main difference is that the syntax for customizing `ax` objects will often include \"`set_`\" as in `set_xlabel()` as opposed to just `plt.xlabel()`\n"
      ]
    },
    {
      "cell_type": "code",
      "execution_count": null,
      "metadata": {},
      "outputs": [],
      "source": [
        "# Create a fig and an ax object with two elements\n",
        "fig, ax = plt.subplots(1, 2, figsize=(12, 4))\n",
        "\n",
        "# Plot something on the ax object\n",
        "ax[0].plot(date, temperature, color='red', marker='o', linestyle='-', markersize=4)\n",
        "\n",
        "# Set the title of the axis\n",
        "ax[0].set_title('Temperature Over Time')\n",
        "\n",
        "# Label the x-axis\n",
        "ax[0].set_xlabel('Time')\n",
        "\n",
        "# Label the y-axis\n",
        "ax[0].set_ylabel('Temperature (°C)')\n",
        "\n",
        "# Plot something on the ax object\n",
        "ax[1].plot(date, weather_data['PRCP'], color='blue', marker='o', linestyle='-', markersize=4)\n",
        "\n",
        "# Set the title of the axis\n",
        "ax[1].set_title('Precipitation Over Time')\n",
        "\n",
        "# Label the x-axis\n",
        "ax[1].set_xlabel('Time')\n",
        "\n",
        "# Label the y-axis\n",
        "ax[1].set_ylabel('Precipitation (in)')\n"
      ]
    },
    {
      "cell_type": "markdown",
      "metadata": {},
      "source": [
        "\n",
        "But you don't need to create multiple plots if you don't want to:"
      ]
    },
    {
      "cell_type": "code",
      "execution_count": null,
      "metadata": {},
      "outputs": [],
      "source": [
        "# Create a fig and ax object\n",
        "fig, ax = plt.subplots(figsize=(10, 6))\n",
        "\n",
        "# Plot something on the ax object\n",
        "ax.plot(date, temperature, color='blue', marker='o', linestyle='-', markersize=4)\n",
        "\n",
        "# Set the title of the axis\n",
        "ax.set_title('Temperature Over Time')\n",
        "\n",
        "# Label the x-axis\n",
        "ax.set_xlabel('Time')\n",
        "\n",
        "# Label the y-axis\n",
        "ax.set_ylabel('Temperature (°C)')\n"
      ]
    },
    {
      "cell_type": "markdown",
      "metadata": {},
      "source": [
        "## Using `pandas`' built-in plotting functions"
      ]
    },
    {
      "cell_type": "markdown",
      "metadata": {
        "id": "QNffSphxJZZM"
      },
      "source": [
        "`pandas` actually has its own [plotting functions](https://pandas.pydata.org/docs/reference/api/pandas.DataFrame.plot.html) that use a slightly different syntax for quick visualization of data.\n",
        "\n",
        "You can see below that the syntax is `[name of the data frame].plot.[type of plot]` for something like a [scatterplot](https://pandas.pydata.org/docs/reference/api/pandas.DataFrame.plot.scatter.html)."
      ]
    },
    {
      "cell_type": "code",
      "execution_count": null,
      "metadata": {},
      "outputs": [],
      "source": [
        "# Use the built-in plot() function to create a line plot\n",
        "weather_data.plot.scatter(x='datetime', y='TMAX', c='TMIN', title='Example Plot', marker='o', cmap='viridis')"
      ]
    },
    {
      "cell_type": "markdown",
      "metadata": {},
      "source": [
        "You can specify the `ax` object to plot on for maximum customization of axes!"
      ]
    },
    {
      "cell_type": "code",
      "execution_count": null,
      "metadata": {},
      "outputs": [],
      "source": [
        "# Create a fig and ax object\n",
        "fig, ax = plt.subplots(figsize=(10, 6))\n",
        "\n",
        "# Use the built-in plot() function to create a line plot\n",
        "weather_data.plot.scatter(x='datetime', y='TMAX', c='TMIN', title='Example Plot', marker='o', cmap='viridis', ax=ax)\n",
        "\n",
        "ax.set_ylim(0, 100)\n",
        "\n",
        "ax.set_ylabel('Maximum temp (F)')\n",
        "\n",
        "ax.set_xlabel('Date')"
      ]
    },
    {
      "cell_type": "markdown",
      "metadata": {},
      "source": [
        "## Your turn!"
      ]
    },
    {
      "cell_type": "markdown",
      "metadata": {},
      "source": [
        "Bringing all your knowledge together, create a visual that shows both a line plot (which cannot be colored by another variable) and a scatter plot (which can be colored) that shows some data. "
      ]
    },
    {
      "cell_type": "code",
      "execution_count": null,
      "metadata": {},
      "outputs": [],
      "source": [
        "# Create a fig and ax object\n",
        "fig, ax = plt.subplots(figsize=(10, 6))\n",
        "\n",
        "# Plot something on the ax object\n",
        "# zorder tells the program what order to plot objects in\n",
        "ax.plot(date, ???, color='???', linestyle='-', zorder=0)\n",
        "\n",
        "# One way to do it is to name a variable the ax object's plot\n",
        "# I am also specifying a \"vmin\" and \"vmax\" which are the maximum and minimum values for the colorbar\n",
        "scatterplot = ax.scatter(date, ???, c=???, marker='o', linestyle='-',\n",
        "                         vmin=???, \n",
        "                          vmax=???,\n",
        "                            zorder=1)\n",
        "\n",
        "# Customize the colorbar by specifying the variable name for the axis object\n",
        "colorbar = plt.colorbar(scatterplot, ax=ax)\n",
        "colorbar.set_label('???')  # Set the label for the colorbar\n",
        "\n",
        "ax.set_ylabel('???')\n",
        "\n",
        "ax.set_xlabel('???')"
      ]
    }
  ],
  "metadata": {
    "colab": {
      "provenance": []
    },
    "kernelspec": {
      "display_name": "Python 3",
      "name": "python3"
    },
    "language_info": {
      "codemirror_mode": {
        "name": "ipython",
        "version": 3
      },
      "file_extension": ".py",
      "mimetype": "text/x-python",
      "name": "python",
      "nbconvert_exporter": "python",
      "pygments_lexer": "ipython3",
      "version": "3.11.7"
    }
  },
  "nbformat": 4,
  "nbformat_minor": 0
}
