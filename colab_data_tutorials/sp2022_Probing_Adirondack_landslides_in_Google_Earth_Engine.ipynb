{
  "cells": [
    {
      "cell_type": "markdown",
      "metadata": {
        "id": "-eOV0lg9Iax8"
      },
      "source": [
        "[![Open In Colab](https://colab.research.google.com/assets/colab-badge.svg)](https://colab.research.google.com/github/jmdelvecchio/ears33/blob/main/colab_data_tutorials/Probing_Adirondack_landslides_in_Google_Earth_Engine.ipynb)\n"
      ]
    },
    {
      "cell_type": "markdown",
      "metadata": {
        "id": "d2zYZ9ugBHI1"
      },
      "source": [
        "Google Earth Engine is a powerful tool for Earth observation. There are nearly infinite possibilities for data analysis as the Google servers store petabytes of data and can perform many operations at lightning speed. However, the main vehicle for GEE (and most StackExchange resources, lol) is its JavaScript code editor, which is fine excxept I like Python and many folks like Python. So blessed people like [Qiushang Wu](https://github.com/giswqs) at the University of Tennessee have written some Python packages to make GEE play nicely with our familiar Python syntax and plotting tools. "
      ]
    },
    {
      "cell_type": "markdown",
      "metadata": {
        "id": "-iZGtRctCgUS"
      },
      "source": [
        "Ensure you have registered for a Google Earth Engine account and have some landslide shapfiles in hand to upload to the \"Files\" second on the left of your screen (the folder icon). "
      ]
    },
    {
      "cell_type": "markdown",
      "metadata": {
        "id": "FR5AWIHIstaz"
      },
      "source": [
        "# Background: NDVI and other spectral indices"
      ]
    },
    {
      "cell_type": "markdown",
      "metadata": {
        "id": "u3UzzKbas-Td"
      },
      "source": [
        "Remember from lecture that different land cover exhibits different intensities of visible and invisible wavelengths of energy. Since certain land cover has characteristic high or low reflectances for cetain wavelengths (like green, red and infrared), folks have come up with spectral indices that discriminate between surface cover. One of the most used spectral indices is NDVI, or normalized difference vegetation index. Read about NDVI [here](https://gisgeography.com/ndvi-normalized-difference-vegetation-index/). A huge list of other indices, if you're curious, are [here](https://www.indexdatabase.de/db/i.php). "
      ]
    },
    {
      "cell_type": "markdown",
      "metadata": {
        "id": "eIidVXRWCZWW"
      },
      "source": [
        "# Install and import packages (see note)"
      ]
    },
    {
      "cell_type": "markdown",
      "metadata": {
        "id": "IjowhZpqCeSR"
      },
      "source": [
        "There is a supremely dumb thing in Google Colab where a particular package called \"ipykernel\" is as of April 2022 2.5 years out of date and therefore not compatible with packages getting frequent updates like `geemap` and `eemont`. So you have to do the following:\n",
        "\n",
        "\n",
        "1.   Run the `pip install` code block\n",
        "2.   Go to Runtime --> Restart Runtime and hit \"ok\". This would clear any variables you would have saved but you haven't run anything else yet, so it's fine. \n",
        "3. Run the `import` code block. \n",
        "\n",
        "Potentially, your runtime might crash and restart (but I didn't experience this while building this notebook). If this is the case **you will need to rerun everything after the `pip install` block.** But let Joanmarie knows if this happens in class. \n",
        "\n"
      ]
    },
    {
      "cell_type": "code",
      "execution_count": null,
      "metadata": {
        "colab": {
          "base_uri": "https://localhost:8080/"
        },
        "id": "k3HIZNDlZLo0",
        "outputId": "1e13cfb9-8685-431a-ee8c-80803607ea8d"
      },
      "outputs": [
        {
          "name": "stdout",
          "output_type": "stream",
          "text": [
            "\u001b[K     |████████████████████████████████| 1.0 MB 13.7 MB/s \n",
            "\u001b[K     |████████████████████████████████| 6.3 MB 41.2 MB/s \n",
            "\u001b[K     |████████████████████████████████| 16.7 MB 1.9 MB/s \n",
            "\u001b[K     |████████████████████████████████| 2.0 MB 15.1 MB/s \n",
            "\u001b[K     |████████████████████████████████| 98 kB 6.2 MB/s \n",
            "\u001b[K     |████████████████████████████████| 187 kB 52.5 MB/s \n",
            "\u001b[K     |████████████████████████████████| 3.0 MB 48.0 MB/s \n",
            "\u001b[K     |████████████████████████████████| 99 kB 8.4 MB/s \n",
            "\u001b[K     |████████████████████████████████| 1.2 MB 51.7 MB/s \n",
            "\u001b[K     |████████████████████████████████| 3.3 MB 46.0 MB/s \n",
            "\u001b[K     |████████████████████████████████| 1.3 MB 57.7 MB/s \n",
            "\u001b[K     |████████████████████████████████| 8.7 MB 40.5 MB/s \n",
            "\u001b[K     |████████████████████████████████| 130 kB 56.2 MB/s \n",
            "\u001b[K     |████████████████████████████████| 46 kB 3.6 MB/s \n",
            "\u001b[K     |████████████████████████████████| 95 kB 3.8 MB/s \n",
            "\u001b[K     |████████████████████████████████| 128 kB 15.8 MB/s \n",
            "\u001b[K     |████████████████████████████████| 428 kB 55.2 MB/s \n",
            "\u001b[K     |████████████████████████████████| 342 kB 74.0 MB/s \n",
            "\u001b[K     |████████████████████████████████| 53 kB 2.0 MB/s \n",
            "\u001b[K     |████████████████████████████████| 54 kB 2.4 MB/s \n",
            "\u001b[K     |████████████████████████████████| 79 kB 7.2 MB/s \n",
            "\u001b[K     |████████████████████████████████| 561 kB 57.9 MB/s \n",
            "\u001b[K     |████████████████████████████████| 130 kB 56.4 MB/s \n",
            "\u001b[K     |████████████████████████████████| 133 kB 51.8 MB/s \n",
            "\u001b[K     |████████████████████████████████| 75 kB 3.9 MB/s \n",
            "\u001b[?25h  Building wheel for ee-extra (setup.py) ... \u001b[?25l\u001b[?25hdone\n",
            "  Building wheel for pycrs (setup.py) ... \u001b[?25l\u001b[?25hdone\n",
            "  Building wheel for sankee (setup.py) ... \u001b[?25l\u001b[?25hdone\n",
            "\u001b[31mERROR: pip's dependency resolver does not currently take into account all the packages that are installed. This behaviour is the source of the following dependency conflicts.\n",
            "google-colab 1.0.0 requires tornado~=5.1.0; python_version >= \"3.0\", but you have tornado 6.1 which is incompatible.\n",
            "flask 1.1.4 requires Jinja2<3.0,>=2.10.1, but you have jinja2 3.1.2 which is incompatible.\n",
            "datascience 0.10.6 requires folium==0.2.1, but you have folium 0.12.1.post1 which is incompatible.\u001b[0m\n"
          ]
        }
      ],
      "source": [
        "!pip install geopandas --quiet\n",
        "!pip install shapely --quiet\n",
        "!pip install geemap --quiet\n"
      ]
    },
    {
      "cell_type": "markdown",
      "metadata": {
        "id": "hpdea-xycYAp"
      },
      "source": [
        "Now RESTART RUNTIME! (Ctrl + M + .)"
      ]
    },
    {
      "cell_type": "code",
      "execution_count": null,
      "metadata": {
        "id": "3qqtaCFhcWwC"
      },
      "outputs": [],
      "source": [
        "import pandas as pd\n",
        "import geopandas as gpd\n",
        "from geopandas import GeoDataFrame\n",
        "import numpy as np\n",
        "from shapely.geometry import Point\n",
        "from matplotlib import pyplot as plt\n",
        "\n",
        "import ee\n",
        "from google.colab import files\n",
        "\n",
        "import geemap #bless these people\n",
        "\n",
        "import json\n",
        "\n",
        "import os"
      ]
    },
    {
      "cell_type": "code",
      "execution_count": null,
      "metadata": {
        "id": "wfzrbYIoZQRh"
      },
      "outputs": [],
      "source": [
        "from google.colab import auth\n",
        "auth.authenticate_user()\n",
        "\n",
        "import google\n",
        "SCOPES = ['https://www.googleapis.com/auth/cloud-platform', 'https://www.googleapis.com/auth/earthengine']\n",
        "CREDENTIALS, project_id = google.auth.default(default_scopes=SCOPES)\n",
        "\n",
        "import ee\n",
        "ee.Initialize(CREDENTIALS, project='my-project')"
      ]
    },
    {
      "cell_type": "markdown",
      "metadata": {
        "id": "NBf7qdF7c8xh"
      },
      "source": [
        "# Authenticate and initialize GEE"
      ]
    },
    {
      "cell_type": "markdown",
      "metadata": {
        "id": "JSj9DdodDZBo"
      },
      "source": [
        "If you haven't registered for GEE, this step will not work. \n",
        "\n",
        "Pay close attention to the messages that get displayed when you click through them. Google has made it more secure to get your authentication key but it means you'll get some scary looking messages. Just click \"continue\" or \"yes\" whenever it asks *\"are you sure??\"*\n"
      ]
    },
    {
      "cell_type": "code",
      "execution_count": null,
      "metadata": {
        "colab": {
          "base_uri": "https://localhost:8080/"
        },
        "id": "41xez0_4c_FB",
        "outputId": "50eb5107-4800-49e6-b333-b874bc275452"
      },
      "outputs": [
        {
          "name": "stdout",
          "output_type": "stream",
          "text": [
            "To authorize access needed by Earth Engine, open the following URL in a web browser and follow the instructions. If the web browser does not start automatically, please manually browse the URL below.\n",
            "\n",
            "    https://code.earthengine.google.com/client-auth?scopes=https%3A//www.googleapis.com/auth/earthengine%20https%3A//www.googleapis.com/auth/devstorage.full_control&request_id=tsjeBos5CoO81X3gtaYtPldHAyovetmfp_7-uRcS0xc&tc=IH8rMmM09uZVcS6jPjapat0hkgUoch0h7IUvIr6mijE&cc=0CnzqCQ5kPe-ARNLiaLvPuN4ibdEPSiMBAcWYmRCg7A\n",
            "\n",
            "The authorization workflow will generate a code, which you should paste in the box below. \n",
            "Enter verification code: 4/1AX4XfWjMzKQ49jKW5jubfQQmzGO0sSq1e_-8_VDgdEGmLQE2kJ_IPo-aZcI\n",
            "\n",
            "Successfully saved authorization token.\n"
          ]
        }
      ],
      "source": [
        "ee.Authenticate()\n",
        "ee.Initialize()"
      ]
    },
    {
      "cell_type": "markdown",
      "metadata": {
        "id": "bu6qLsCNDwwl"
      },
      "source": [
        "# Define functions"
      ]
    },
    {
      "cell_type": "markdown",
      "metadata": {
        "id": "dV0BuDryD0LH"
      },
      "source": [
        "You've seen functions before, but GEE is big on functions. GEE syntax is set up to leverage the `.map` function, which [maps an algorithm across an ImageCollection](https://developers.google.com/earth-engine/apidocs/ee-imagecollection-map), or collection of satellite scenes that fit some criteria. I think their way is technically pretty Pythonic but it's counter-intuitive when you first think about it. \n",
        "\n",
        "The first few are straightforward - they just take an image from the ImageCollection and do something to every image (it's essentially saying `for i in enumerate(images), do something to images[i]`). "
      ]
    },
    {
      "cell_type": "markdown",
      "metadata": {
        "id": "d0pF4N4qses1"
      },
      "source": [
        "The first function creates a [normalized spectral index](https://developers.google.com/earth-engine/apidocs/ee-image-normalizeddifference), in this case NDVI"
      ]
    },
    {
      "cell_type": "code",
      "execution_count": null,
      "metadata": {
        "id": "_1GbCn2fDvpF"
      },
      "outputs": [],
      "source": [
        "def NAIP_NDVI(image):\n",
        "  index= image.normalizedDifference(['N','R']).rename('NDVI');\n",
        "  return image.addBands(index)"
      ]
    },
    {
      "cell_type": "code",
      "execution_count": null,
      "metadata": {
        "id": "AiOP9G2embph"
      },
      "outputs": [],
      "source": [
        "def clip_to_polygon(image):\n",
        "  return(image).clip(polygon)"
      ]
    },
    {
      "cell_type": "code",
      "execution_count": null,
      "metadata": {
        "id": "LnXxLa3XpACa"
      },
      "outputs": [],
      "source": [
        "def createTimeBand(image):\n",
        "  return image.addBands(image.metadata('system:time_start').divide(3.154e10));"
      ]
    },
    {
      "cell_type": "markdown",
      "metadata": {
        "id": "MNm7a7o-Ezn2"
      },
      "source": [
        "I wrote this ugly beast of a function below us in order to hav a somewhat modular tool to make an annual imge from a year's worth of images in an ImageCollection. It says \"OK, how do we [reduce](https://developers.google.com/earth-engine/guides/reducers_image_collection) an entire set of images if we want to look at annual trends? Do we take a mean value of what we're intersted in? The max? And over which months?\""
      ]
    },
    {
      "cell_type": "code",
      "execution_count": null,
      "metadata": {
        "id": "4A1UmtrqpYCV"
      },
      "outputs": [],
      "source": [
        "def annual_images(y):\n",
        "    range_year = ee.Filter.calendarRange(y, y, 'year')\n",
        "    range_month = ee.Filter.calendarRange(start_month, end_month, 'month')\n",
        "    filtered_dataset = (index_collection\n",
        "                        .filter(range_year)\n",
        "                        .filter(range_month)\n",
        "                        .map(createTimeBand)) # Needed for linear regression \n",
        "    # Combine the mean and standard deviation reducers.\n",
        "    if analysis == 'mean':\n",
        "      reducers = ee.Reducer.mean().combine(\n",
        "        reducer2=ee.Reducer.stdDev(),\n",
        "        sharedInputs=True\n",
        "      )\n",
        "    elif analysis == 'min' or analysis == 'max':\n",
        "      reducers = ee.Reducer.mean().combine(\n",
        "        reducer2=ee.Reducer.minMax(),\n",
        "        sharedInputs=True\n",
        "      )\n",
        "    elif analysis == 'median':\n",
        "      reducers = ee.Reducer.mean().combine(\n",
        "        reducer2=ee.Reducer.median(),\n",
        "        sharedInputs=True\n",
        "      )\n",
        "\n",
        "# Use the combined reducer to get the mean and SD of the image.\n",
        "    stats0 = filtered_dataset.reduce(\n",
        "      reducer=reducers,\n",
        "    )\n",
        "\n",
        "    return stats0.set('year',y)\n",
        "\n",
        "# adapted from https://gis.stackexchange.com/questions/392834/transform-google-earth-engine-script-to-python-with-landsat-8-temporal-data"
      ]
    },
    {
      "cell_type": "markdown",
      "metadata": {
        "id": "VfSMCf8EHUm2"
      },
      "source": [
        "# Demo: using pre-2009 landslide polygons"
      ]
    },
    {
      "cell_type": "markdown",
      "metadata": {
        "id": "5BK_3D_MeaXx"
      },
      "source": [
        "## Upload and load in shapefiles"
      ]
    },
    {
      "cell_type": "markdown",
      "metadata": {
        "id": "fZ0lZcQXecjz"
      },
      "source": [
        "Go to Files on the left and click Upload and select ALL files associated with your landslide shapefile. Here I'm showing you an example of the pre-2009 landslide shapefile that came with the lab. "
      ]
    },
    {
      "cell_type": "code",
      "execution_count": null,
      "metadata": {
        "id": "ZHX0ZtaTccmF"
      },
      "outputs": [],
      "source": [
        "landslides = geemap.shp_to_ee('pre2009.shp')"
      ]
    },
    {
      "cell_type": "markdown",
      "metadata": {
        "id": "Nc6VDVljukp9"
      },
      "source": [
        "I'm just going to define a polygon here to mimic the study area from the lab"
      ]
    },
    {
      "cell_type": "code",
      "execution_count": null,
      "metadata": {
        "id": "NDuKdbGbhBhi"
      },
      "outputs": [],
      "source": [
        "polygon = ee.Geometry.Polygon(\n",
        "  [[[-73.83, 44.18],\n",
        "   [-73.79, 44.15],\n",
        "   [-73.87, 44.10],\n",
        "   [-73.91, 44.13]]]\n",
        ");"
      ]
    },
    {
      "cell_type": "markdown",
      "metadata": {
        "id": "CkfwrSkGuotI"
      },
      "source": [
        "The `geemap.Map()` function creates an instance of an interactive map. If you want to start fresh every time you make a new map, you can call this function where you define your new map as `Map`. If you don't re-instantiate your map, you'll just update the previous `Map` instance. "
      ]
    },
    {
      "cell_type": "code",
      "execution_count": null,
      "metadata": {
        "id": "ZaTi23D9dKqX"
      },
      "outputs": [],
      "source": [
        "Map = geemap.Map()\n",
        "Map.setCenter(-73.849799,  44.137148, 12);\n",
        "# The empty brackets can take arguments for min and max values for color display \n",
        "Map.addLayer(landslides, {}, 'Landslides')\n",
        "Map.addLayer(polygon, {}, 'Polygon')\n",
        "Map"
      ]
    },
    {
      "cell_type": "markdown",
      "metadata": {
        "id": "ipVs1if7Fe5t"
      },
      "source": [
        "## Load in an ImageCollection"
      ]
    },
    {
      "cell_type": "markdown",
      "metadata": {
        "id": "aargFj74wMiP"
      },
      "source": [
        "[ImageCollections](https://developers.google.com/earth-engine/guides/ic_creating) are how Google stores its imagery and spectral data. They are \"geocubes\" in that they are spatial data with a number of bands over a number of collection times. You can [filter](https://developers.google.com/earth-engine/guides/ic_filtering) these ImageCollections by spatial or temporal bounds. "
      ]
    },
    {
      "cell_type": "code",
      "execution_count": null,
      "metadata": {
        "id": "EA4633EoeOCo"
      },
      "outputs": [],
      "source": [
        "NAIP = ee.ImageCollection('USDA/NAIP/DOQQ');\n",
        "\n",
        "naip_2009 = NAIP.filter(ee.Filter.date('2009-01-01', '2009-12-31'))\n",
        "naip_2013 = NAIP.filter(ee.Filter.date('2013-01-01', '2013-12-31'))\n",
        "naip_2019 = NAIP.filter(ee.Filter.date('2019-01-01', '2019-12-31'))"
      ]
    },
    {
      "cell_type": "code",
      "execution_count": null,
      "metadata": {
        "id": "Xfo94SVhjMto"
      },
      "outputs": [],
      "source": [
        "trueColorVis = {\n",
        "  min: 0.0,\n",
        "  max: 255.0,\n",
        "}"
      ]
    },
    {
      "cell_type": "markdown",
      "metadata": {
        "id": "JHF8QgCIwwaH"
      },
      "source": [
        "Here I am selecting the red (R), green (G), and blue (B) bands to create a true color image. [Select](https://developers.google.com/earth-engine/apidocs/ee-imagecollection-select) lets you choose a subset of an ImageCollection's data layers (most often bands). Read about `addLayer` [here](https://developers.google.com/earth-engine/apidocs/map-addlayer). "
      ]
    },
    {
      "cell_type": "markdown",
      "metadata": {
        "id": "lbDTZr4Z4W3Q"
      },
      "source": [
        "On the resulting map, you can click the wrench icon to open up the interactive toolbar. Clicking on the \"Layers\" icon to the left of the wrench will open up a menu where you can use the slider to adjust the opacity of each layer. "
      ]
    },
    {
      "cell_type": "code",
      "execution_count": null,
      "metadata": {
        "colab": {
          "base_uri": "https://localhost:8080/",
          "height": 621,
          "referenced_widgets": [
            "d5d2f1566c1c465a93a3ccb878053a63",
            "a2250650b9f24436b2196711f07e94be",
            "ce20d3e7a6484fad8ddd09730e5ce909",
            "cd1a77c739b9433f99d668c8ef772411",
            "691078e2146443cb9239e96e55d9d4b4",
            "40f805bca87c4212952f2fcaae8fde81",
            "f20d702cf6974cfcb073f4db63f4808c",
            "61f76866b906450e8382bb5b95bbf813",
            "8c2668882d984d8f88cc63a02d91db0b",
            "c50188de106f474bb97c1dc0062264ee",
            "684745c6fc084cbab1f85cfeff8cd736",
            "0bf81f20433343e490042efc13799dcc",
            "3e38c7475ed240518f447cc8c02425fc",
            "6ce6e28c6fae4db6bd24639e190f2a41",
            "823228d2a77e4094a9dad1a7a0537f5d",
            "cc1334e329034ad9bfdc9a8bee455fdd",
            "30b0e13d764c47ac885ff7ce6c26e15d",
            "3b05708390264e81b98e9f68de12797e",
            "dfe43fcd0bf04e448c2acd950e176654",
            "ab0bf3e6e87d491ebcd8d9609dc4e68a",
            "1790205da4b04f4eb683101782cff5cc",
            "2f54f9f8cfbd494c9c4038bc43687d74",
            "50791f11a9304beba2ab36818350de39",
            "923909b944ef4a21a352ba1c0420f055",
            "108d1fc762814ee890af07baa8a0ce3e",
            "3b8da5c0475a4db1a09b98e25d7fd2bf",
            "5a29be71d3514541a3331d6c792eef73",
            "e7a85cbc4e2f4380a65995d2cace59de"
          ]
        },
        "id": "fiDXV5fvjQ0U",
        "outputId": "ba36c819-2ef1-4f94-c1e2-07dd8e33c96f"
      },
      "outputs": [
        {
          "data": {
            "application/vnd.jupyter.widget-view+json": {
              "model_id": "d5d2f1566c1c465a93a3ccb878053a63",
              "version_major": 2,
              "version_minor": 0
            },
            "text/plain": [
              "Map(center=[44.137148, -73.849799], controls=(WidgetControl(options=['position', 'transparent_bg'], widget=HBo…"
            ]
          },
          "metadata": {
            "application/vnd.jupyter.widget-view+json": {
              "colab": {
                "custom_widget_manager": {
                  "url": "https://ssl.gstatic.com/colaboratory-static/widgets/colab-cdn-widget-manager/a8874ba6619b6106/manager.min.js"
                }
              }
            }
          },
          "output_type": "display_data"
        }
      ],
      "source": [
        "Map = geemap.Map()\n",
        "Map.setCenter(-73.849799,  44.137148, 12);\n",
        "Map.addLayer(naip_2009.select(['R', 'G', 'B']), trueColorVis, '2009');\n",
        "Map.addLayer(naip_2013.select(['R', 'G', 'B']), trueColorVis, '2013');\n",
        "Map.addLayer(naip_2019.select(['R', 'G', 'B']), trueColorVis, '2019');\n",
        "Map"
      ]
    },
    {
      "cell_type": "markdown",
      "metadata": {
        "id": "AhMlyvstFn0K"
      },
      "source": [
        "## Add a spectral index to the ImageCollection"
      ]
    },
    {
      "cell_type": "markdown",
      "metadata": {
        "id": "Lt4TVJlQxIS8"
      },
      "source": [
        "Here we will employ that `.map` function I mentioned earlier. I am going to filter the NAIP data by date starting in 2013 when they began collection of the infrared band (no infrared and therefore no NDVI before 2013)."
      ]
    },
    {
      "cell_type": "code",
      "execution_count": null,
      "metadata": {
        "id": "_aX2nuQHlqhU"
      },
      "outputs": [],
      "source": [
        "adk_ndvi_all= NAIP.filter(ee.Filter.date('2013-01-01', '2019-12-31')).map(NAIP_NDVI)"
      ]
    },
    {
      "cell_type": "markdown",
      "metadata": {
        "id": "eqsrL7OkxbGV"
      },
      "source": [
        "Here I am adding the year-specific NAIP collections and then selecting the NDVI band I created. "
      ]
    },
    {
      "cell_type": "code",
      "execution_count": null,
      "metadata": {
        "id": "hGJEe4T-q2YP"
      },
      "outputs": [],
      "source": [
        "Map = geemap.Map()\n",
        "Map.setCenter(-73.849799,  44.137148, 12);\n",
        "Map.addLayer(naip_2019.map(NAIP_NDVI).select(['NDVI']), {}, '2019 NDVI');\n",
        "Map.addLayer(naip_2013.map(NAIP_NDVI).select(['NDVI']), {}, '2013 NDVI');\n",
        "Map"
      ]
    },
    {
      "cell_type": "markdown",
      "metadata": {
        "id": "762yfOpFFtMT"
      },
      "source": [
        "## Reduce spectral index data to an annual image"
      ]
    },
    {
      "cell_type": "markdown",
      "metadata": {
        "id": "7u0cUp_uxuli"
      },
      "source": [
        "OK, so this is where you can use my state-of-the-art inefficient code to take any ImageCollection you want, select one of its bands, and reduce each year's worth of imagery to a single image per year. \n",
        "\n",
        "This code is a little mismatched with NAIP because NAIP imagery is collected only once over a location every three years. I originally wrote this script to look at MODIS data, which came as an average value every 16 days, so in the Arctic I wanted to know what they yearly maximum NDVI was over my field site per year. "
      ]
    },
    {
      "cell_type": "code",
      "execution_count": null,
      "metadata": {
        "id": "Q8BaLOv2qStk"
      },
      "outputs": [],
      "source": [
        "# You can adjust these numbers, but I wouldn't recommend it to answer the questions\n",
        "# in this data tutorial.\n",
        "# If you get an error or no data, you won't find out here. \n",
        "\n",
        "# Options are 'mean', 'median', 'min' 'max'\n",
        "analysis = 'max'\n",
        "\n",
        "start_year=2013\n",
        "end_year=2019\n",
        "start_month=7\n",
        "end_month=9\n",
        "index_collection = adk_ndvi_all.select(['NDVI'])\n",
        "\n",
        "# Don't make any adjustments below here \n",
        "\n",
        "years = ee.List.sequence(start_year,end_year)\n",
        "\n",
        "yearwise_ndvi = years.map(annual_images)\n",
        "\n",
        "# Make an ImageCollection from the list of images you just composited,\n",
        "# since you need an ImageCollection for the linear fit reduction\n",
        "yearCompCol = ee.ImageCollection.fromImages(yearwise_ndvi)"
      ]
    },
    {
      "cell_type": "markdown",
      "metadata": {
        "id": "gYZLZQEkFzAW"
      },
      "source": [
        "## Perform a pixelwise regression across the ImageCollection to obtain a trend in the spectral index over the observation period"
      ]
    },
    {
      "cell_type": "markdown",
      "metadata": {
        "id": "nROcHWqcy7SI"
      },
      "source": [
        "Read about this function [here](https://developers.google.com/earth-engine/guides/reducers_regression). "
      ]
    },
    {
      "cell_type": "code",
      "execution_count": null,
      "metadata": {
        "id": "QeOroQ2umolf"
      },
      "outputs": [],
      "source": [
        "# Get a pixelwise linear regression across the composited ImageCollection\n",
        "# \"select\" is time and the band you are interested in\n",
        "# The output is the slope of the line fit to each pixel's data over time\n",
        "# and the timestep is \"per year\"\n",
        "trend = yearCompCol.select(['system:time_start_mean', 'NDVI_' + analysis]).reduce(ee.Reducer.linearFit())\n",
        "\n",
        "# 'system:time_start_mean' is my hacky way of doing time per scene\n",
        "# The value is \"the mean number of years since 1970 across the scene\"\n",
        "# which will just be the middle of the month(s) you chose in the year you chose\n",
        "\n",
        "# The result is two outputs: \"scale\" is the slope and \"offset\" is the intercept"
      ]
    },
    {
      "cell_type": "markdown",
      "metadata": {
        "id": "DzA3QKuUGCeV"
      },
      "source": [
        "## Visualize results"
      ]
    },
    {
      "cell_type": "markdown",
      "metadata": {
        "id": "NlNmWmC9zE46"
      },
      "source": [
        "Here are some ancillary topographic visualization collections for your `Map`!"
      ]
    },
    {
      "cell_type": "code",
      "execution_count": null,
      "metadata": {
        "id": "q83vIT9t51-s"
      },
      "outputs": [],
      "source": [
        "elevation = ee.Image(\"USGS/3DEP/10m\").select('elevation');\n",
        "hillshade = ee.Terrain.hillshade(elevation);\n",
        "slope = ee.Terrain.slope(elevation);\n"
      ]
    },
    {
      "cell_type": "code",
      "execution_count": null,
      "metadata": {
        "id": "JV8uFhM1rtDk"
      },
      "outputs": [],
      "source": [
        "import geemap.colormaps as cm\n",
        "palette = cm.palettes.ndvi\n",
        "\n",
        "Map = geemap.Map()\n",
        "Map.setCenter(-73.849799,  44.137148, 12);\n",
        "Map.addLayer(slope, {'min': 0.0, 'max':60.0, 'palette': ['white', 'black']}, '3DEP Hillshade');\n",
        "Map.addLayer(trend.select('scale'), {'min': -0.1, 'max':0.1, 'palette': palette}, 'NDVI trend')\n",
        "Map.addLayer(naip_2013.select(['R', 'G', 'B']), trueColorVis, '2013');\n",
        "Map.addLayer(naip_2019.select(['R', 'G', 'B']), trueColorVis, '2019');\n",
        "Map.addLayer(landslides, {}, 'Landslides')\n",
        "Map"
      ]
    },
    {
      "cell_type": "markdown",
      "metadata": {
        "id": "1A8HFi_INwuB"
      },
      "source": [
        "See any new slides since 2013??"
      ]
    },
    {
      "cell_type": "markdown",
      "metadata": {
        "id": "Z4LPrA-oGJP_"
      },
      "source": [
        "## Tabulate results for matplotlib-style plotting"
      ]
    },
    {
      "cell_type": "markdown",
      "metadata": {
        "id": "mZuL43TkGQVj"
      },
      "source": [
        "Here is a script will [sample](https://developers.google.com/earth-engine/apidocs/ee-image-sample) the pixels in every landslide polygon, and then makes a histogram. "
      ]
    },
    {
      "cell_type": "code",
      "execution_count": null,
      "metadata": {
        "id": "9n1r-YssyQPg"
      },
      "outputs": [],
      "source": [
        "my_sample = trend.sample(landslides, 1)"
      ]
    },
    {
      "cell_type": "code",
      "execution_count": null,
      "metadata": {
        "id": "Eyrzn4iFzJq8"
      },
      "outputs": [],
      "source": [
        "\n",
        "import geemap.chart as chart\n",
        "options = {\n",
        "    \"title\": 'Pixelwise Yearly NDVI trend for pre-Irene ADK Landslide Scars, 2013-2019',\n",
        "    \"xlabel\": 'NDVI trend (NDVI change/year)',\n",
        "    \"ylabel\": 'Pixel count',\n",
        "    \"colors\": ['#1d6b99'],\n",
        "}\n",
        "chart.feature_histogram(my_sample, 'scale', **options)"
      ]
    },
    {
      "cell_type": "markdown",
      "metadata": {
        "id": "kfvKi-tNGViV"
      },
      "source": [
        "I wrote this script for another application (spectral index trends in Arctic watersheds) but I figured I'd show this off in case you were curious. This script make a [histogram](https://developers.google.com/earth-engine/apidocs/ee-reducer-autohistogram) for each polygon (identified by `OBJECTID` or similar field in shapefile attribute table) and uses dictionaries and keys to pull that info out of the `autoHistogram` reducer in GEE. "
      ]
    },
    {
      "cell_type": "code",
      "execution_count": null,
      "metadata": {
        "id": "Q5x_VA0Krybp"
      },
      "outputs": [],
      "source": [
        "lanslide_histos = trend.reduceRegions(collection=landslides,reducer=ee.Reducer.autoHistogram(maxBuckets=50), scale=1)"
      ]
    },
    {
      "cell_type": "code",
      "execution_count": null,
      "metadata": {
        "id": "bN787QHawBOx"
      },
      "outputs": [],
      "source": [
        "info = lanslide_histos.getInfo()\n",
        "hist_dict = {features['properties']['OBJECTID']:features['properties']['scale'] for features in info['features']}"
      ]
    },
    {
      "cell_type": "code",
      "execution_count": null,
      "metadata": {
        "id": "88tZA9dtwMd5"
      },
      "outputs": [],
      "source": [
        "fig, ax = plt.subplots(figsize=(16,6))\n",
        "for key in hist_dict:\n",
        "  # First element in dictionary value is the bin edge\n",
        "  bin_edges = [i[0] for i in hist_dict[key]]\n",
        "  # Second element in dictionary value is counts in each bin\n",
        "  bin_counts = [i[1] for i in hist_dict[key]]\n",
        "  bin_counts_norm = bin_counts/np.max(bin_counts)\n",
        "  ax.plot(bin_edges, bin_counts_norm, alpha=0.5)\n",
        "\n",
        "#ax.set_xlim((-0.025, 0.025))\n",
        "ax.set_xlabel(\"Linear trend of NDVI, \" + str(start_year)+\"-\"+str(end_year))\n",
        "ax.set_ylabel(\"Normalized frequency\")\n",
        "fig.suptitle(\"Distribution of Pixelwise Trends in NDVI for Each Landslide Scar\")"
      ]
    },
    {
      "cell_type": "markdown",
      "metadata": {
        "id": "TDO9aBf1HmhP"
      },
      "source": [
        "# Your turn: post-Irene landslide polygons"
      ]
    },
    {
      "cell_type": "markdown",
      "metadata": {
        "id": "1f9e5MMaLNyB"
      },
      "source": [
        "Now I want you to see the spectral signatures and trends of the landslides you mapped in lab.\n",
        "\n",
        "What are the codeblocks you need to run in this section to reproduce those results?\n",
        "\n",
        "\n",
        "1.   Upload your post-Irene shapefiles and load them in to Google Earth Engine format with `geemap.shp_to_ee`\n",
        "2.   Use those shapefiles to extract new data\n",
        "3. Make a new histogram (or other data visualization method of your choice) to see annual trends in NDVI for your newer landslides\n",
        "\n",
        "You do NOT have to re-run the annual reducer and trend steps - those won't change jsut because you're asking questions about different areas of the output!\n",
        "\n"
      ]
    },
    {
      "cell_type": "code",
      "execution_count": null,
      "metadata": {
        "id": "3B9NDQglwRX7"
      },
      "outputs": [],
      "source": [
        "# code blocks here"
      ]
    },
    {
      "cell_type": "markdown",
      "metadata": {
        "id": "hOTHcSpCHsXb"
      },
      "source": [
        "# Reflection questions"
      ]
    },
    {
      "cell_type": "markdown",
      "metadata": {
        "id": "aaTbOh8OHuFa"
      },
      "source": [
        "\n",
        "\n",
        "1.   Why might we use NDVI to track landslide activity? What benefits does this spectral index have over the RGB imagery you used in the lab? What are drawbacks? \n",
        "2.   Functionally/in real life, what do the trends in NDVI of the landslide scars tell us about how the landscape is changing? Is there a difference in the NDVI trends between the pre- and post-Irene landslides? What do you think sets that pattern?\n",
        "3. NAIP imagery has a resolution of 1 m and is collected once every three years for an area of the US. [MODIS](https://modis.gsfc.nasa.gov/data/dataprod/mod13.php) is an instrument aboard satellites that collects multispectral data at 250 m every 1-2 days. What are the benefits and drawbacks of using either tool to detect landslides like we did in this activity? (BONUS: for extra points, load in [the MODIS dataset](https://developers.google.com/earth-engine/datasets/catalog/MODIS_061_MOD13Q1), selecting the built-in NDVI band, and perform this analysis with this different data. You can steal my code from my WISP student researchers [here](https://colab.research.google.com/drive/1vHNcgubyn0HBOBNuFyNPbedKD6Vww9bE).)\n"
      ]
    },
    {
      "cell_type": "markdown",
      "metadata": {
        "id": "H5vZv37GNj-z"
      },
      "source": [
        "Your text here"
      ]
    }
  ],
  "metadata": {
    "colab": {
      "authorship_tag": "ABX9TyN4nKQKItFTUOebK9TnWC1Y",
      "collapsed_sections": [],
      "include_colab_link": true,
      "name": "Probing Adirondack landslides in Google Earth Engine",
      "provenance": []
    },
    "kernelspec": {
      "display_name": "Python 3",
      "name": "python3"
    },
    "language_info": {
      "name": "python"
    },
    "widgets": {
      "application/vnd.jupyter.widget-state+json": {
        "0bf81f20433343e490042efc13799dcc": {
          "model_module": "jupyter-leaflet",
          "model_module_version": "^0.16.0",
          "model_name": "LeafletTileLayerModel",
          "state": {
            "_model_module": "jupyter-leaflet",
            "_model_module_version": "^0.16.0",
            "_model_name": "LeafletTileLayerModel",
            "_view_count": null,
            "_view_module": "jupyter-leaflet",
            "_view_module_version": "^0.16.0",
            "_view_name": "LeafletTileLayerView",
            "attribution": "&copy; <a href=\"https://www.openstreetmap.org/copyright\">OpenStreetMap</a> contributors",
            "base": true,
            "bottom": true,
            "bounds": null,
            "detect_retina": false,
            "loading": false,
            "max_native_zoom": 18,
            "max_zoom": 19,
            "min_native_zoom": 0,
            "min_zoom": 1,
            "name": "OpenStreetMap.Mapnik",
            "no_wrap": false,
            "opacity": 1,
            "options": [
              "attribution",
              "bounds",
              "detect_retina",
              "max_native_zoom",
              "max_zoom",
              "min_native_zoom",
              "min_zoom",
              "no_wrap",
              "tile_size",
              "tms"
            ],
            "popup": null,
            "popup_max_height": null,
            "popup_max_width": 300,
            "popup_min_width": 50,
            "show_loading": false,
            "tile_size": 256,
            "tms": false,
            "url": "https://a.tile.openstreetmap.org/{z}/{x}/{y}.png",
            "visible": true
          }
        },
        "108d1fc762814ee890af07baa8a0ce3e": {
          "model_module": "@jupyter-widgets/base",
          "model_module_version": "1.2.0",
          "model_name": "LayoutModel",
          "state": {
            "_model_module": "@jupyter-widgets/base",
            "_model_module_version": "1.2.0",
            "_model_name": "LayoutModel",
            "_view_count": null,
            "_view_module": "@jupyter-widgets/base",
            "_view_module_version": "1.2.0",
            "_view_name": "LayoutView",
            "align_content": null,
            "align_items": null,
            "align_self": null,
            "border": null,
            "bottom": null,
            "display": null,
            "flex": null,
            "flex_flow": null,
            "grid_area": null,
            "grid_auto_columns": null,
            "grid_auto_flow": null,
            "grid_auto_rows": null,
            "grid_column": null,
            "grid_gap": null,
            "grid_row": null,
            "grid_template_areas": null,
            "grid_template_columns": null,
            "grid_template_rows": null,
            "height": "28px",
            "justify_content": null,
            "justify_items": null,
            "left": null,
            "margin": null,
            "max_height": null,
            "max_width": null,
            "min_height": null,
            "min_width": null,
            "object_fit": null,
            "object_position": null,
            "order": null,
            "overflow": null,
            "overflow_x": null,
            "overflow_y": null,
            "padding": "0px 0px 0px 4px",
            "right": null,
            "top": null,
            "visibility": null,
            "width": "28px"
          }
        },
        "1790205da4b04f4eb683101782cff5cc": {
          "model_module": "@jupyter-widgets/controls",
          "model_module_version": "1.5.0",
          "model_name": "ToggleButtonModel",
          "state": {
            "_dom_classes": [],
            "_model_module": "@jupyter-widgets/controls",
            "_model_module_version": "1.5.0",
            "_model_name": "ToggleButtonModel",
            "_view_count": null,
            "_view_module": "@jupyter-widgets/controls",
            "_view_module_version": "1.5.0",
            "_view_name": "ToggleButtonView",
            "button_style": "",
            "description": "",
            "description_tooltip": null,
            "disabled": false,
            "icon": "globe",
            "layout": "IPY_MODEL_108d1fc762814ee890af07baa8a0ce3e",
            "style": "IPY_MODEL_3b8da5c0475a4db1a09b98e25d7fd2bf",
            "tooltip": "Search location/data",
            "value": false
          }
        },
        "2f54f9f8cfbd494c9c4038bc43687d74": {
          "model_module": "@jupyter-widgets/base",
          "model_module_version": "1.2.0",
          "model_name": "LayoutModel",
          "state": {
            "_model_module": "@jupyter-widgets/base",
            "_model_module_version": "1.2.0",
            "_model_name": "LayoutModel",
            "_view_count": null,
            "_view_module": "@jupyter-widgets/base",
            "_view_module_version": "1.2.0",
            "_view_name": "LayoutView",
            "align_content": null,
            "align_items": null,
            "align_self": null,
            "border": null,
            "bottom": null,
            "display": null,
            "flex": null,
            "flex_flow": null,
            "grid_area": null,
            "grid_auto_columns": null,
            "grid_auto_flow": null,
            "grid_auto_rows": null,
            "grid_column": null,
            "grid_gap": null,
            "grid_row": null,
            "grid_template_areas": null,
            "grid_template_columns": null,
            "grid_template_rows": null,
            "height": null,
            "justify_content": null,
            "justify_items": null,
            "left": null,
            "margin": null,
            "max_height": null,
            "max_width": null,
            "min_height": null,
            "min_width": null,
            "object_fit": null,
            "object_position": null,
            "order": null,
            "overflow": null,
            "overflow_x": null,
            "overflow_y": null,
            "padding": null,
            "right": null,
            "top": null,
            "visibility": null,
            "width": null
          }
        },
        "30b0e13d764c47ac885ff7ce6c26e15d": {
          "model_module": "@jupyter-widgets/base",
          "model_module_version": "1.2.0",
          "model_name": "LayoutModel",
          "state": {
            "_model_module": "@jupyter-widgets/base",
            "_model_module_version": "1.2.0",
            "_model_name": "LayoutModel",
            "_view_count": null,
            "_view_module": "@jupyter-widgets/base",
            "_view_module_version": "1.2.0",
            "_view_name": "LayoutView",
            "align_content": null,
            "align_items": null,
            "align_self": null,
            "border": null,
            "bottom": null,
            "display": null,
            "flex": null,
            "flex_flow": null,
            "grid_area": null,
            "grid_auto_columns": null,
            "grid_auto_flow": null,
            "grid_auto_rows": null,
            "grid_column": null,
            "grid_gap": null,
            "grid_row": null,
            "grid_template_areas": null,
            "grid_template_columns": null,
            "grid_template_rows": null,
            "height": "600px",
            "justify_content": null,
            "justify_items": null,
            "left": null,
            "margin": null,
            "max_height": null,
            "max_width": null,
            "min_height": null,
            "min_width": null,
            "object_fit": null,
            "object_position": null,
            "order": null,
            "overflow": null,
            "overflow_x": null,
            "overflow_y": null,
            "padding": null,
            "right": null,
            "top": null,
            "visibility": null,
            "width": null
          }
        },
        "3b05708390264e81b98e9f68de12797e": {
          "model_module": "jupyter-leaflet",
          "model_module_version": "^0.16.0",
          "model_name": "LeafletMapStyleModel",
          "state": {
            "_model_module": "jupyter-leaflet",
            "_model_module_version": "^0.16.0",
            "_model_name": "LeafletMapStyleModel",
            "_view_count": null,
            "_view_module": "@jupyter-widgets/base",
            "_view_module_version": "1.2.0",
            "_view_name": "StyleView",
            "cursor": "grab"
          }
        },
        "3b8da5c0475a4db1a09b98e25d7fd2bf": {
          "model_module": "@jupyter-widgets/controls",
          "model_module_version": "1.5.0",
          "model_name": "DescriptionStyleModel",
          "state": {
            "_model_module": "@jupyter-widgets/controls",
            "_model_module_version": "1.5.0",
            "_model_name": "DescriptionStyleModel",
            "_view_count": null,
            "_view_module": "@jupyter-widgets/base",
            "_view_module_version": "1.2.0",
            "_view_name": "StyleView",
            "description_width": ""
          }
        },
        "3e38c7475ed240518f447cc8c02425fc": {
          "model_module": "jupyter-leaflet",
          "model_module_version": "^0.16.0",
          "model_name": "LeafletTileLayerModel",
          "state": {
            "_model_module": "jupyter-leaflet",
            "_model_module_version": "^0.16.0",
            "_model_name": "LeafletTileLayerModel",
            "_view_count": null,
            "_view_module": "jupyter-leaflet",
            "_view_module_version": "^0.16.0",
            "_view_name": "LeafletTileLayerView",
            "attribution": "Google",
            "base": false,
            "bottom": true,
            "bounds": null,
            "detect_retina": false,
            "loading": false,
            "max_native_zoom": 18,
            "max_zoom": 22,
            "min_native_zoom": 0,
            "min_zoom": 0,
            "name": "Google Maps",
            "no_wrap": false,
            "opacity": 1,
            "options": [
              "attribution",
              "bounds",
              "detect_retina",
              "max_native_zoom",
              "max_zoom",
              "min_native_zoom",
              "min_zoom",
              "no_wrap",
              "tile_size",
              "tms"
            ],
            "popup": null,
            "popup_max_height": null,
            "popup_max_width": 300,
            "popup_min_width": 50,
            "show_loading": false,
            "tile_size": 256,
            "tms": false,
            "url": "https://mt1.google.com/vt/lyrs=m&x={x}&y={y}&z={z}",
            "visible": true
          }
        },
        "40f805bca87c4212952f2fcaae8fde81": {
          "model_module": "jupyter-leaflet",
          "model_module_version": "^0.16.0",
          "model_name": "LeafletMeasureControlModel",
          "state": {
            "_custom_units": {},
            "_model_module": "jupyter-leaflet",
            "_model_module_version": "^0.16.0",
            "_model_name": "LeafletMeasureControlModel",
            "_view_count": null,
            "_view_module": "jupyter-leaflet",
            "_view_module_version": "^0.16.0",
            "_view_name": "LeafletMeasureControlView",
            "active_color": "orange",
            "capture_z_index": 10000,
            "completed_color": "#C8F2BE",
            "options": [
              "active_color",
              "capture_z_index",
              "completed_color",
              "popup_options",
              "position",
              "primary_area_unit",
              "primary_length_unit",
              "secondary_area_unit",
              "secondary_length_unit"
            ],
            "popup_options": {
              "autoPanPadding": [
                10,
                10
              ],
              "className": "leaflet-measure-resultpopup"
            },
            "position": "bottomleft",
            "primary_area_unit": "acres",
            "primary_length_unit": "kilometers",
            "secondary_area_unit": null,
            "secondary_length_unit": null
          }
        },
        "50791f11a9304beba2ab36818350de39": {
          "model_module": "@jupyter-widgets/controls",
          "model_module_version": "1.5.0",
          "model_name": "ToggleButtonModel",
          "state": {
            "_dom_classes": [],
            "_model_module": "@jupyter-widgets/controls",
            "_model_module_version": "1.5.0",
            "_model_name": "ToggleButtonModel",
            "_view_count": null,
            "_view_module": "@jupyter-widgets/controls",
            "_view_module_version": "1.5.0",
            "_view_name": "ToggleButtonView",
            "button_style": "",
            "description": "",
            "description_tooltip": null,
            "disabled": false,
            "icon": "wrench",
            "layout": "IPY_MODEL_5a29be71d3514541a3331d6c792eef73",
            "style": "IPY_MODEL_e7a85cbc4e2f4380a65995d2cace59de",
            "tooltip": "Toolbar",
            "value": false
          }
        },
        "5a29be71d3514541a3331d6c792eef73": {
          "model_module": "@jupyter-widgets/base",
          "model_module_version": "1.2.0",
          "model_name": "LayoutModel",
          "state": {
            "_model_module": "@jupyter-widgets/base",
            "_model_module_version": "1.2.0",
            "_model_name": "LayoutModel",
            "_view_count": null,
            "_view_module": "@jupyter-widgets/base",
            "_view_module_version": "1.2.0",
            "_view_name": "LayoutView",
            "align_content": null,
            "align_items": null,
            "align_self": null,
            "border": null,
            "bottom": null,
            "display": null,
            "flex": null,
            "flex_flow": null,
            "grid_area": null,
            "grid_auto_columns": null,
            "grid_auto_flow": null,
            "grid_auto_rows": null,
            "grid_column": null,
            "grid_gap": null,
            "grid_row": null,
            "grid_template_areas": null,
            "grid_template_columns": null,
            "grid_template_rows": null,
            "height": "28px",
            "justify_content": null,
            "justify_items": null,
            "left": null,
            "margin": null,
            "max_height": null,
            "max_width": null,
            "min_height": null,
            "min_width": null,
            "object_fit": null,
            "object_position": null,
            "order": null,
            "overflow": null,
            "overflow_x": null,
            "overflow_y": null,
            "padding": "0px 0px 0px 4px",
            "right": null,
            "top": null,
            "visibility": null,
            "width": "28px"
          }
        },
        "61f76866b906450e8382bb5b95bbf813": {
          "model_module": "jupyter-leaflet",
          "model_module_version": "^0.16.0",
          "model_name": "LeafletDrawControlModel",
          "state": {
            "_model_module": "jupyter-leaflet",
            "_model_module_version": "^0.16.0",
            "_model_name": "LeafletDrawControlModel",
            "_view_count": null,
            "_view_module": "jupyter-leaflet",
            "_view_module_version": "^0.16.0",
            "_view_name": "LeafletDrawControlView",
            "circle": {
              "shapeOptions": {
                "color": "#3388ff"
              }
            },
            "circlemarker": {},
            "data": [],
            "edit": true,
            "marker": {
              "shapeOptions": {
                "color": "#3388ff"
              }
            },
            "options": [
              "position"
            ],
            "polygon": {
              "shapeOptions": {}
            },
            "polyline": {
              "shapeOptions": {}
            },
            "position": "topleft",
            "rectangle": {
              "shapeOptions": {
                "color": "#3388ff"
              }
            },
            "remove": true
          }
        },
        "684745c6fc084cbab1f85cfeff8cd736": {
          "model_module": "jupyter-leaflet",
          "model_module_version": "^0.16.0",
          "model_name": "LeafletMapStyleModel",
          "state": {
            "_model_module": "jupyter-leaflet",
            "_model_module_version": "^0.16.0",
            "_model_name": "LeafletMapStyleModel",
            "_view_count": null,
            "_view_module": "@jupyter-widgets/base",
            "_view_module_version": "1.2.0",
            "_view_name": "StyleView",
            "cursor": "move"
          }
        },
        "691078e2146443cb9239e96e55d9d4b4": {
          "model_module": "jupyter-leaflet",
          "model_module_version": "^0.16.0",
          "model_name": "LeafletFullScreenControlModel",
          "state": {
            "_model_module": "jupyter-leaflet",
            "_model_module_version": "^0.16.0",
            "_model_name": "LeafletFullScreenControlModel",
            "_view_count": null,
            "_view_module": "jupyter-leaflet",
            "_view_module_version": "^0.16.0",
            "_view_name": "LeafletFullScreenControlView",
            "options": [
              "position"
            ],
            "position": "topleft"
          }
        },
        "6ce6e28c6fae4db6bd24639e190f2a41": {
          "model_module": "jupyter-leaflet",
          "model_module_version": "^0.16.0",
          "model_name": "LeafletTileLayerModel",
          "state": {
            "_model_module": "jupyter-leaflet",
            "_model_module_version": "^0.16.0",
            "_model_name": "LeafletTileLayerModel",
            "_view_count": null,
            "_view_module": "jupyter-leaflet",
            "_view_module_version": "^0.16.0",
            "_view_name": "LeafletTileLayerView",
            "attribution": "Google Earth Engine",
            "base": false,
            "bottom": true,
            "bounds": null,
            "detect_retina": false,
            "loading": false,
            "max_native_zoom": 18,
            "max_zoom": 24,
            "min_native_zoom": 0,
            "min_zoom": 0,
            "name": "2009",
            "no_wrap": false,
            "opacity": 1,
            "options": [
              "attribution",
              "bounds",
              "detect_retina",
              "max_native_zoom",
              "max_zoom",
              "min_native_zoom",
              "min_zoom",
              "no_wrap",
              "tile_size",
              "tms"
            ],
            "popup": null,
            "popup_max_height": null,
            "popup_max_width": 300,
            "popup_min_width": 50,
            "show_loading": false,
            "tile_size": 256,
            "tms": false,
            "url": "https://earthengine.googleapis.com/v1alpha/projects/earthengine-legacy/maps/f6d7033241035cc180e94430e4bf26e1-38eec1a444bd6b7de550898ac43dff3b/tiles/{z}/{x}/{y}",
            "visible": true
          }
        },
        "823228d2a77e4094a9dad1a7a0537f5d": {
          "model_module": "jupyter-leaflet",
          "model_module_version": "^0.16.0",
          "model_name": "LeafletTileLayerModel",
          "state": {
            "_model_module": "jupyter-leaflet",
            "_model_module_version": "^0.16.0",
            "_model_name": "LeafletTileLayerModel",
            "_view_count": null,
            "_view_module": "jupyter-leaflet",
            "_view_module_version": "^0.16.0",
            "_view_name": "LeafletTileLayerView",
            "attribution": "Google Earth Engine",
            "base": false,
            "bottom": true,
            "bounds": null,
            "detect_retina": false,
            "loading": false,
            "max_native_zoom": 18,
            "max_zoom": 24,
            "min_native_zoom": 0,
            "min_zoom": 0,
            "name": "2013",
            "no_wrap": false,
            "opacity": 1,
            "options": [
              "attribution",
              "bounds",
              "detect_retina",
              "max_native_zoom",
              "max_zoom",
              "min_native_zoom",
              "min_zoom",
              "no_wrap",
              "tile_size",
              "tms"
            ],
            "popup": null,
            "popup_max_height": null,
            "popup_max_width": 300,
            "popup_min_width": 50,
            "show_loading": false,
            "tile_size": 256,
            "tms": false,
            "url": "https://earthengine.googleapis.com/v1alpha/projects/earthengine-legacy/maps/e4d5eeed105975013a0b6ffb6b3eafab-b787ef93014b5cabe75192c4a5685c72/tiles/{z}/{x}/{y}",
            "visible": true
          }
        },
        "8c2668882d984d8f88cc63a02d91db0b": {
          "model_module": "jupyter-leaflet",
          "model_module_version": "^0.16.0",
          "model_name": "LeafletWidgetControlModel",
          "state": {
            "_model_module": "jupyter-leaflet",
            "_model_module_version": "^0.16.0",
            "_model_name": "LeafletWidgetControlModel",
            "_view_count": null,
            "_view_module": "jupyter-leaflet",
            "_view_module_version": "^0.16.0",
            "_view_name": "LeafletWidgetControlView",
            "max_height": null,
            "max_width": null,
            "min_height": null,
            "min_width": null,
            "options": [
              "position",
              "transparent_bg"
            ],
            "position": "topright",
            "transparent_bg": false,
            "widget": "IPY_MODEL_ab0bf3e6e87d491ebcd8d9609dc4e68a"
          }
        },
        "923909b944ef4a21a352ba1c0420f055": {
          "model_module": "@jupyter-widgets/base",
          "model_module_version": "1.2.0",
          "model_name": "LayoutModel",
          "state": {
            "_model_module": "@jupyter-widgets/base",
            "_model_module_version": "1.2.0",
            "_model_name": "LayoutModel",
            "_view_count": null,
            "_view_module": "@jupyter-widgets/base",
            "_view_module_version": "1.2.0",
            "_view_name": "LayoutView",
            "align_content": null,
            "align_items": null,
            "align_self": null,
            "border": null,
            "bottom": null,
            "display": null,
            "flex": null,
            "flex_flow": null,
            "grid_area": null,
            "grid_auto_columns": null,
            "grid_auto_flow": null,
            "grid_auto_rows": null,
            "grid_column": null,
            "grid_gap": null,
            "grid_row": null,
            "grid_template_areas": null,
            "grid_template_columns": null,
            "grid_template_rows": null,
            "height": null,
            "justify_content": null,
            "justify_items": null,
            "left": null,
            "margin": null,
            "max_height": null,
            "max_width": null,
            "min_height": null,
            "min_width": null,
            "object_fit": null,
            "object_position": null,
            "order": null,
            "overflow": null,
            "overflow_x": null,
            "overflow_y": null,
            "padding": null,
            "right": null,
            "top": null,
            "visibility": null,
            "width": null
          }
        },
        "a2250650b9f24436b2196711f07e94be": {
          "model_module": "jupyter-leaflet",
          "model_module_version": "^0.16.0",
          "model_name": "LeafletWidgetControlModel",
          "state": {
            "_model_module": "jupyter-leaflet",
            "_model_module_version": "^0.16.0",
            "_model_name": "LeafletWidgetControlModel",
            "_view_count": null,
            "_view_module": "jupyter-leaflet",
            "_view_module_version": "^0.16.0",
            "_view_name": "LeafletWidgetControlView",
            "max_height": null,
            "max_width": null,
            "min_height": null,
            "min_width": null,
            "options": [
              "position",
              "transparent_bg"
            ],
            "position": "topleft",
            "transparent_bg": false,
            "widget": "IPY_MODEL_dfe43fcd0bf04e448c2acd950e176654"
          }
        },
        "ab0bf3e6e87d491ebcd8d9609dc4e68a": {
          "model_module": "@jupyter-widgets/controls",
          "model_module_version": "1.5.0",
          "model_name": "VBoxModel",
          "state": {
            "_dom_classes": [],
            "_model_module": "@jupyter-widgets/controls",
            "_model_module_version": "1.5.0",
            "_model_name": "VBoxModel",
            "_view_count": null,
            "_view_module": "@jupyter-widgets/controls",
            "_view_module_version": "1.5.0",
            "_view_name": "VBoxView",
            "box_style": "",
            "children": [
              "IPY_MODEL_50791f11a9304beba2ab36818350de39"
            ],
            "layout": "IPY_MODEL_923909b944ef4a21a352ba1c0420f055"
          }
        },
        "c50188de106f474bb97c1dc0062264ee": {
          "model_module": "jupyter-leaflet",
          "model_module_version": "^0.16.0",
          "model_name": "LeafletMapStyleModel",
          "state": {
            "_model_module": "jupyter-leaflet",
            "_model_module_version": "^0.16.0",
            "_model_name": "LeafletMapStyleModel",
            "_view_count": null,
            "_view_module": "@jupyter-widgets/base",
            "_view_module_version": "1.2.0",
            "_view_name": "StyleView",
            "cursor": "grab"
          }
        },
        "cc1334e329034ad9bfdc9a8bee455fdd": {
          "model_module": "jupyter-leaflet",
          "model_module_version": "^0.16.0",
          "model_name": "LeafletTileLayerModel",
          "state": {
            "_model_module": "jupyter-leaflet",
            "_model_module_version": "^0.16.0",
            "_model_name": "LeafletTileLayerModel",
            "_view_count": null,
            "_view_module": "jupyter-leaflet",
            "_view_module_version": "^0.16.0",
            "_view_name": "LeafletTileLayerView",
            "attribution": "Google Earth Engine",
            "base": false,
            "bottom": true,
            "bounds": null,
            "detect_retina": false,
            "loading": false,
            "max_native_zoom": 18,
            "max_zoom": 24,
            "min_native_zoom": 0,
            "min_zoom": 0,
            "name": "2019",
            "no_wrap": false,
            "opacity": 1,
            "options": [
              "attribution",
              "bounds",
              "detect_retina",
              "max_native_zoom",
              "max_zoom",
              "min_native_zoom",
              "min_zoom",
              "no_wrap",
              "tile_size",
              "tms"
            ],
            "popup": null,
            "popup_max_height": null,
            "popup_max_width": 300,
            "popup_min_width": 50,
            "show_loading": false,
            "tile_size": 256,
            "tms": false,
            "url": "https://earthengine.googleapis.com/v1alpha/projects/earthengine-legacy/maps/80633cf895bfae6383b1dd6b3cc1e0da-ed9aa5f0ec34467f1812963e19f3ba0c/tiles/{z}/{x}/{y}",
            "visible": true
          }
        },
        "cd1a77c739b9433f99d668c8ef772411": {
          "model_module": "jupyter-leaflet",
          "model_module_version": "^0.16.0",
          "model_name": "LeafletScaleControlModel",
          "state": {
            "_model_module": "jupyter-leaflet",
            "_model_module_version": "^0.16.0",
            "_model_name": "LeafletScaleControlModel",
            "_view_count": null,
            "_view_module": "jupyter-leaflet",
            "_view_module_version": "^0.16.0",
            "_view_name": "LeafletScaleControlView",
            "imperial": true,
            "max_width": 100,
            "metric": true,
            "options": [
              "imperial",
              "max_width",
              "metric",
              "position",
              "update_when_idle"
            ],
            "position": "bottomleft",
            "update_when_idle": false
          }
        },
        "ce20d3e7a6484fad8ddd09730e5ce909": {
          "model_module": "jupyter-leaflet",
          "model_module_version": "^0.16.0",
          "model_name": "LeafletZoomControlModel",
          "state": {
            "_model_module": "jupyter-leaflet",
            "_model_module_version": "^0.16.0",
            "_model_name": "LeafletZoomControlModel",
            "_view_count": null,
            "_view_module": "jupyter-leaflet",
            "_view_module_version": "^0.16.0",
            "_view_name": "LeafletZoomControlView",
            "options": [
              "position",
              "zoom_in_text",
              "zoom_in_title",
              "zoom_out_text",
              "zoom_out_title"
            ],
            "position": "topleft",
            "zoom_in_text": "+",
            "zoom_in_title": "Zoom in",
            "zoom_out_text": "-",
            "zoom_out_title": "Zoom out"
          }
        },
        "d5d2f1566c1c465a93a3ccb878053a63": {
          "model_module": "jupyter-leaflet",
          "model_module_version": "^0.16.0",
          "model_name": "LeafletMapModel",
          "state": {
            "_dom_classes": [],
            "_dragging": false,
            "_model_module": "jupyter-leaflet",
            "_model_module_version": "^0.16.0",
            "_model_name": "LeafletMapModel",
            "_view_count": null,
            "_view_module": "jupyter-leaflet",
            "_view_module_version": "^0.16.0",
            "_view_name": "LeafletMapView",
            "bottom": 190582,
            "bounce_at_zoom_limits": true,
            "box_zoom": true,
            "center": [
              44.17727963097559,
              -73.76289367675783
            ],
            "close_popup_on_click": true,
            "controls": [
              "IPY_MODEL_a2250650b9f24436b2196711f07e94be",
              "IPY_MODEL_ce20d3e7a6484fad8ddd09730e5ce909",
              "IPY_MODEL_cd1a77c739b9433f99d668c8ef772411",
              "IPY_MODEL_691078e2146443cb9239e96e55d9d4b4",
              "IPY_MODEL_40f805bca87c4212952f2fcaae8fde81",
              "IPY_MODEL_f20d702cf6974cfcb073f4db63f4808c",
              "IPY_MODEL_61f76866b906450e8382bb5b95bbf813",
              "IPY_MODEL_8c2668882d984d8f88cc63a02d91db0b"
            ],
            "crs": {
              "custom": false,
              "name": "EPSG3857"
            },
            "default_style": "IPY_MODEL_c50188de106f474bb97c1dc0062264ee",
            "double_click_zoom": true,
            "dragging": true,
            "dragging_style": "IPY_MODEL_684745c6fc084cbab1f85cfeff8cd736",
            "east": -73.14697265625001,
            "fullscreen": false,
            "inertia": true,
            "inertia_deceleration": 3000,
            "inertia_max_speed": 1500,
            "interpolation": "bilinear",
            "keyboard": true,
            "keyboard_pan_offset": 80,
            "keyboard_zoom_offset": 1,
            "layers": [
              "IPY_MODEL_0bf81f20433343e490042efc13799dcc",
              "IPY_MODEL_3e38c7475ed240518f447cc8c02425fc",
              "IPY_MODEL_6ce6e28c6fae4db6bd24639e190f2a41",
              "IPY_MODEL_823228d2a77e4094a9dad1a7a0537f5d",
              "IPY_MODEL_cc1334e329034ad9bfdc9a8bee455fdd"
            ],
            "layout": "IPY_MODEL_30b0e13d764c47ac885ff7ce6c26e15d",
            "left": 153822,
            "max_zoom": 24,
            "min_zoom": 1,
            "modisdate": "2022-05-04",
            "north": 44.32483051938117,
            "options": [
              "bounce_at_zoom_limits",
              "box_zoom",
              "center",
              "close_popup_on_click",
              "double_click_zoom",
              "dragging",
              "fullscreen",
              "inertia",
              "inertia_deceleration",
              "inertia_max_speed",
              "interpolation",
              "keyboard",
              "keyboard_pan_offset",
              "keyboard_zoom_offset",
              "max_zoom",
              "min_zoom",
              "prefer_canvas",
              "scroll_wheel_zoom",
              "tap",
              "tap_tolerance",
              "touch_zoom",
              "world_copy_jump",
              "zoom",
              "zoom_animation_threshold",
              "zoom_delta",
              "zoom_snap",
              "zoom_start"
            ],
            "prefer_canvas": false,
            "right": 155616,
            "scroll_wheel_zoom": true,
            "south": 44.029358594954296,
            "style": "IPY_MODEL_c50188de106f474bb97c1dc0062264ee",
            "tap": true,
            "tap_tolerance": 15,
            "top": 189982,
            "touch_zoom": true,
            "west": -74.37881469726564,
            "window_url": "https://h0p9pc51att-496ff2e9c6d22116-0-colab.googleusercontent.com/outputframe.html?vrz=colab-20220503-060048-RC00_446157494",
            "world_copy_jump": false,
            "zoom": 11,
            "zoom_animation_threshold": 4,
            "zoom_delta": 1,
            "zoom_snap": 1,
            "zoom_start": 12
          }
        },
        "dfe43fcd0bf04e448c2acd950e176654": {
          "model_module": "@jupyter-widgets/controls",
          "model_module_version": "1.5.0",
          "model_name": "HBoxModel",
          "state": {
            "_dom_classes": [],
            "_model_module": "@jupyter-widgets/controls",
            "_model_module_version": "1.5.0",
            "_model_name": "HBoxModel",
            "_view_count": null,
            "_view_module": "@jupyter-widgets/controls",
            "_view_module_version": "1.5.0",
            "_view_name": "HBoxView",
            "box_style": "",
            "children": [
              "IPY_MODEL_1790205da4b04f4eb683101782cff5cc"
            ],
            "layout": "IPY_MODEL_2f54f9f8cfbd494c9c4038bc43687d74"
          }
        },
        "e7a85cbc4e2f4380a65995d2cace59de": {
          "model_module": "@jupyter-widgets/controls",
          "model_module_version": "1.5.0",
          "model_name": "DescriptionStyleModel",
          "state": {
            "_model_module": "@jupyter-widgets/controls",
            "_model_module_version": "1.5.0",
            "_model_name": "DescriptionStyleModel",
            "_view_count": null,
            "_view_module": "@jupyter-widgets/base",
            "_view_module_version": "1.2.0",
            "_view_name": "StyleView",
            "description_width": ""
          }
        },
        "f20d702cf6974cfcb073f4db63f4808c": {
          "model_module": "jupyter-leaflet",
          "model_module_version": "^0.16.0",
          "model_name": "LeafletAttributionControlModel",
          "state": {
            "_model_module": "jupyter-leaflet",
            "_model_module_version": "^0.16.0",
            "_model_name": "LeafletAttributionControlModel",
            "_view_count": null,
            "_view_module": "jupyter-leaflet",
            "_view_module_version": "^0.16.0",
            "_view_name": "LeafletAttributionControlView",
            "options": [
              "position",
              "prefix"
            ],
            "position": "bottomright",
            "prefix": "ipyleaflet"
          }
        }
      }
    }
  },
  "nbformat": 4,
  "nbformat_minor": 0
}
