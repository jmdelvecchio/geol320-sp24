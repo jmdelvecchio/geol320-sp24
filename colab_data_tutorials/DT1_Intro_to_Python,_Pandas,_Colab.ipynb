{
  "cells": [
    {
      "cell_type": "markdown",
      "metadata": {},
      "source": [
        "[![Open In Colab](https://colab.research.google.com/assets/colab-badge.svg)](https://colab.research.google.com/github/jmdelvecchio/ears33/blob/main/colab_data_tutorials/DT1_Intro_to_Python,_Pandas,_Colab.ipynb)\n"
      ]
    },
    {
      "attachments": {},
      "cell_type": "markdown",
      "metadata": {},
      "source": [
        "# Introduction"
      ]
    },
    {
      "attachments": {},
      "cell_type": "markdown",
      "metadata": {
        "id": "_cwI250lBQMP"
      },
      "source": [
        "These exercises come from [Simon Mudd](https://github.com/simon-m-mudd/smm_teaching_notebooks), and originally adapted for Google Colab by Joanmarie Del Vecchio and then turned back into normal notebooks for JHub. \n",
        "\n",
        "Written by Simon M. Mudd with last update 21/01/2022\n",
        "\n",
        "This series of lessons is a very basic introduction to python. They are intended for students with no python background, or for students who need a basic refresher.\n",
        "\n",
        "If you spend a few seconds on any search engine you will find hundreds of basic python tutorials that are better than this one. But this one specifically covers the stuff I want you to know for lesson 2 and 3, so that is why I wrote it.\n",
        "\n"
      ]
    },
    {
      "attachments": {},
      "cell_type": "markdown",
      "metadata": {},
      "source": [
        "# Learing objectives"
      ]
    },
    {
      "attachments": {},
      "cell_type": "markdown",
      "metadata": {},
      "source": [
        "- Introduction to Python and basic packages like `numpy`, `pandas` and `matplotlib`\n",
        "- Introduction to loading in data from spreadsheets and manipulating the data with code\n",
        "- Not much geomorphology, but we will get to look at a river profile!"
      ]
    },
    {
      "attachments": {},
      "cell_type": "markdown",
      "metadata": {
        "id": "SXGBwlEsAAKX"
      },
      "source": [
        "## What is python?\n",
        "Python is a programming language. It is used for all kinds of things but the target audience for these lessons are people who will do some data analysis or plotting. Similar alternatives are Matlab (but this is a commercial product and you have to pay for it), R (which is focussed on statistics and not as flexible as python), and Julia (which has far fewer users than python so help is harder to find).\n",
        "\n",
        "Amongst the above languages, Python is the most widely used and also the most frequently cited in job ads.\n",
        "\n",
        "## What do you use python for (in these lessons)\n",
        "These lessons are to show how you might replace some tasks in Excel with python. This boils down to handling data and plotting it. Excel is fast and easy for lots of things but there are certain things that are easier in python\n",
        "\n",
        "## How does python work?\n",
        "You need some version of python installed to get it to work. But if you are using a functioning python notebook, someone has already done that for you.\n",
        "\n",
        "(Joanmarie's note: Google Colab has your Python, but I can help you think about installing Python locally on your own computer, or using [Python on the Linux machines on campus.](https://services.dartmouth.edu/TDClient/1806/Portal/KB/ArticleDet?ID=72886))\n",
        "\n",
        "## Python in a notebook\n",
        "You are reading this in a notebook. The notebook is made up of \"cells\". Cells can either be text (usually formatted using something called markdown, which you can look up) or code. If you are going to run some code the cell needs to be a \"code\" cell.\n",
        "\n",
        "This cell is a text cell so it won't run any python code.\n",
        "\n",
        "The next cell will be code."
      ]
    },
    {
      "cell_type": "code",
      "execution_count": null,
      "metadata": {
        "colab": {
          "base_uri": "https://localhost:8080/"
        },
        "id": "DBkceryAAXec",
        "outputId": "ac067dc8-55e8-41bf-8603-0b229daf59f8"
      },
      "outputs": [],
      "source": [
        "# This is a code cell. \n",
        "# If you put a `#` on a line python will ignore it. \n",
        "# This is called a comment. \n",
        "# Below I will tell python the letter a has the value 5 and I will then print it to screen\n",
        "# To run this cell click on it and press shift+enter\n",
        "a = 5\n",
        "print(a)"
      ]
    },
    {
      "cell_type": "markdown",
      "metadata": {
        "id": "yJeTA7SDAAYx"
      },
      "source": [
        "You run cells by \"executing\" them. Do this by clicking on the cell and typing shift+enter. If there is any output from the cell it will appear below the cell."
      ]
    },
    {
      "cell_type": "markdown",
      "metadata": {
        "id": "u8hoAwoFAAax"
      },
      "source": [
        "## Assigning variables\n",
        "In python you can assign variables with the = symbol. Python will remember this variable."
      ]
    },
    {
      "cell_type": "code",
      "execution_count": null,
      "metadata": {
        "colab": {
          "base_uri": "https://localhost:8080/"
        },
        "id": "2OJZeiqUAfnx",
        "outputId": "5bd3648d-90b9-46ac-b692-f8b1b00dbd88"
      },
      "outputs": [],
      "source": [
        "a = 5\n",
        "b = 6\n",
        "print(a+b)"
      ]
    },
    {
      "attachments": {},
      "cell_type": "markdown",
      "metadata": {
        "id": "OKt67GjTAigX"
      },
      "source": [
        "## Printing things\n",
        "You can print things with the print command. What you are printing afterwards needs to be in parentheses. Python assigns a type to its variables. The variable could be a number, or a string of characters (called a \"string\" or \"str\"). You assign strings by using quotations. When you print things you can't mix types. But you can convert things all to string and print that."
      ]
    },
    {
      "cell_type": "code",
      "execution_count": null,
      "metadata": {
        "colab": {
          "base_uri": "https://localhost:8080/",
          "height": 200
        },
        "id": "1FO3pUU8Akb2",
        "outputId": "813a7e54-7a76-4e2d-a865-db38b54b56b0"
      },
      "outputs": [],
      "source": [
        "# THIS DOESN'T WORK\n",
        "a = 5\n",
        "b = \"The number is: \"\n",
        "print(b+a)"
      ]
    },
    {
      "cell_type": "code",
      "execution_count": null,
      "metadata": {
        "colab": {
          "base_uri": "https://localhost:8080/"
        },
        "id": "Lz3oqMLEAg_y",
        "outputId": "094010a4-d49e-4cbb-a49e-1b92ff1495c6"
      },
      "outputs": [],
      "source": [
        "# This works because I convert the number to a string:\n",
        "a = str(5)\n",
        "b = \"The number is: \"\n",
        "print(b+a)"
      ]
    },
    {
      "cell_type": "markdown",
      "metadata": {
        "id": "M9hYc9oJA2nc"
      },
      "source": [
        "Lists of stuff (numbers, for example)\n",
        "You can assign a number or a string to a variable. But you can also assigns groups of numbers or strings. These are called lists.\n",
        "\n",
        "When you have a list you can access their individual values using something called and index. python uses square brackets for this. python uses something called \"zero indexing\" where the first element in a list has the index of 0. This might seem a bit weird but it works that way for some c[omputer science reasons](https://en.wikipedia.org/wiki/Zero-based_numbering#:~:text=Zero%2Dbased%20numbering%20is%20a,mathematical%20or%20non%2Dprogramming%20circumstances). As a consequence programmers think you are a loser if you index your first element with a 1, like a normal human. It is annoying at first but you will get used to it."
      ]
    },
    {
      "cell_type": "code",
      "execution_count": null,
      "metadata": {
        "id": "qRYvB1J1A2FC"
      },
      "outputs": [],
      "source": [
        "some_numbers = [7,4,2,-1,-5]\n",
        "print(\"Here is the list: \")\n",
        "print(some_numbers)\n",
        "print(\"Below is the first element. The index of the first element is 0, not 1!!\")\n",
        "print(some_numbers[0])\n",
        "print(\"The fifth element is:\")\n",
        "print(some_numbers[4])"
      ]
    },
    {
      "cell_type": "markdown",
      "metadata": {
        "id": "I7oI-_WbBAL4"
      },
      "source": [
        "You can to the same thing with strings:"
      ]
    },
    {
      "cell_type": "code",
      "execution_count": null,
      "metadata": {
        "id": "XRyFMKWtBCKL"
      },
      "outputs": [],
      "source": [
        "some_strings = [\"yo\",\"yo\",\"ma\"]\n",
        "print(\"The strings are:\")\n",
        "print(some_strings)"
      ]
    },
    {
      "attachments": {},
      "cell_type": "markdown",
      "metadata": {
        "id": "64m7fB08BFkS"
      },
      "source": [
        "## Stuff to try\n",
        "* Try to assign a variable\n",
        "* Try to print your variable\n",
        "* Try to assign a list\n",
        "* Try to print an item in your list\n",
        "\n"
      ]
    },
    {
      "cell_type": "code",
      "execution_count": null,
      "metadata": {
        "id": "IOTsfVq9BF3C"
      },
      "outputs": [],
      "source": []
    },
    {
      "cell_type": "markdown",
      "metadata": {
        "id": "2Z7evMlXAAcn"
      },
      "source": [
        "# Importing intro"
      ]
    },
    {
      "attachments": {},
      "cell_type": "markdown",
      "metadata": {
        "id": "8UNF2GB-Bl-O"
      },
      "source": [
        "Written by Simon M. Mudd with last update 21/01/2022\n",
        "\n",
        "## Importing useful stuff\n",
        "There are loads of people that write useful python code. They make this code available so that you can use it in your own code. One day you might even write some python code that you let other people use.\n",
        "\n",
        "This useful code is usually distributed as \"packages\". To get a package you need to install it. But if you are just starting out, you get told where to run your python code (for example, in google colab, or in some university's notebook server), and someone has already installed the useful packages for you. You are almost certainly in one of those places now.\n",
        "\n",
        "But just installing some package doesn't make it available. You need to `import` it.\n",
        "\n",
        "## What sorts of useful stuff can I import?\n",
        "If you are reading this tutorial you are vaguely going to use python for data science, broadly defined (as opposed to, say, web development, or making games). Any data scientist will use this stuff:\n",
        "\n",
        "* `numpy`: short for numerical python. Mathsy stuff in here.\n",
        "* `matplotlib`: for making plots\n",
        "* `scipy`: more mathsy stuff but more specific than `numpy`. Statistcs are in here.\n",
        "* `pandas`: reading and dealing with data.\n",
        "\n",
        "The above packages are really, really common. Everyone uses them. And those packages are very stable, the installations almost never break and there is lots of documentation and tutorials.\n",
        "\n",
        "You might also be someone interested in geospatial data. This requires packages that are a bit more niche than the packages listed above so I will leave that to a later lesson.\n",
        "\n",
        "## Show me how to import something!!\n",
        "You import a package by using the python command `import`. Like this:"
      ]
    },
    {
      "cell_type": "code",
      "execution_count": null,
      "metadata": {
        "id": "sV0_272mAJKq"
      },
      "outputs": [],
      "source": [
        "import numpy\n",
        "numpy.__version__"
      ]
    },
    {
      "cell_type": "markdown",
      "metadata": {
        "id": "k_UR-FQrB7OW"
      },
      "source": [
        "I imported `numpy` there and then I called `__version__` which you can use with pretty much any python package to tell you the version number.\n",
        "\n",
        "To use something in a package you use the name of the package followed by the `.` symbol. Here are two more things that you might do with numpy (note this only work if you have already imported `numpy`"
      ]
    },
    {
      "cell_type": "code",
      "execution_count": null,
      "metadata": {
        "id": "I2eJ50olCBWM"
      },
      "outputs": [],
      "source": [
        "a = numpy.arange(6)\n",
        "print(\"Here is a numpy array;\")\n",
        "print(a)\n",
        "b = numpy.linspace(1,5,11)\n",
        "print(\"Here is another one made a different way:\")\n",
        "print(b)"
      ]
    },
    {
      "cell_type": "markdown",
      "metadata": {
        "id": "kKz66IkdCEr7"
      },
      "source": [
        "Wait a minute. That looks like a list. Why did you call it an array?\n",
        "`numpy` has its own version of a list called a *numpy array*. Without giving you too many details, a numpy array behaves much like a list but has some added features that make it bettern than a list for certain kinds of computation. You can convert a list to an array using the numpy function `asarray`:"
      ]
    },
    {
      "cell_type": "code",
      "execution_count": null,
      "metadata": {
        "id": "5KwNAHYFCN4X"
      },
      "outputs": [],
      "source": [
        "a_list = [1,2,3,4]\n",
        "an_array = numpy.asarray(a_list)\n",
        "print(\"Type of a_list is:\")\n",
        "print(type(a_list))\n",
        "print(\"Type of an_array is:\")\n",
        "print(type(an_array))"
      ]
    },
    {
      "attachments": {},
      "cell_type": "markdown",
      "metadata": {
        "id": "QS5kOQEKCPpE"
      },
      "source": [
        "## Do I really have to type out `numpy` each time I want to do something with numpy?\n",
        "It is a bit annoying to type out the full name of a package each time you want to use something in it. Luckily python lets you give packages short names (or long names, if you have some weird fetish) by usinging the import as syntax:"
      ]
    },
    {
      "cell_type": "code",
      "execution_count": null,
      "metadata": {
        "id": "W1A-zf5yCUFh"
      },
      "outputs": [],
      "source": [
        "import numpy as np\n",
        "a = np.arange(6)\n",
        "print(\"Here is a numpy array;\")\n",
        "print(a)"
      ]
    },
    {
      "attachments": {},
      "cell_type": "markdown",
      "metadata": {
        "id": "_PwizIaZCVmE"
      },
      "source": [
        "## Let's import matplotlib and make a plot\n",
        "Another useful packages is `matplotlib` which does plotting. `matplotlib` gives you a lot of control over the appearance of plots, but here is a very simple example:"
      ]
    },
    {
      "cell_type": "code",
      "execution_count": null,
      "metadata": {
        "id": "-mUCtxYJCZzt"
      },
      "outputs": [],
      "source": [
        "import matplotlib.pyplot as plt\n",
        "import numpy as np\n",
        "\n",
        "# Data for plotting\n",
        "x = [1,2,3,4,5]\n",
        "y = [2,3,3.5,7,9]\n",
        "\n",
        "plt.plot(x,y)\n",
        "plt.xlabel(\"x\")\n",
        "plt.ylabel(\"y\")\n",
        "plt.title('About as simple as it gets, folks')\n",
        "plt.grid()\n",
        "plt.show()"
      ]
    },
    {
      "cell_type": "markdown",
      "metadata": {
        "id": "C0nQsEqJCgK2"
      },
      "source": [
        "Or we could do a scatter plot:"
      ]
    },
    {
      "cell_type": "code",
      "execution_count": null,
      "metadata": {
        "id": "2z_IZKojChOA"
      },
      "outputs": [],
      "source": [
        "# Clear the plot with the clf() command\n",
        "plt.clf()\n",
        "\n",
        "plt.scatter(x,y)\n",
        "plt.xlabel(\"x\",fontsize=20)\n",
        "plt.ylabel(\"y\",fontsize=20)\n",
        "\n",
        "# I'm going to use a newline character (\\n) in the title\n",
        "plt.title('Scatter plots are usually\\nbetter with discrete data',fontsize=24)\n",
        "plt.grid()\n",
        "plt.show()"
      ]
    },
    {
      "cell_type": "markdown",
      "metadata": {
        "id": "r9DQl2XLClUg"
      },
      "source": [
        "Okay, we have some very basic tools up our sleeves. Lets move on to `pandas`."
      ]
    },
    {
      "cell_type": "markdown",
      "metadata": {
        "id": "PHxAepOKAJfM"
      },
      "source": [
        "# Pandas intro"
      ]
    },
    {
      "cell_type": "markdown",
      "metadata": {
        "id": "B7ybAJsiCu48"
      },
      "source": [
        "It is possible that someone who knows something about python will look at these lessons. They will skim lesson 01 and 02 and then get to this lesson and think \"what are you doing, you can't go from something as basic as assigning and making a numpy array straight to pandas, you psychopath!\". They will then run away, screaming like a banshee, and jump into a canal.\n",
        "\n",
        "But I don't care what those people think. Because I want you to know how to plot some spreadsheet data as quickly as possible.\n",
        "\n",
        "Ready? Lets go!!"
      ]
    },
    {
      "attachments": {},
      "cell_type": "markdown",
      "metadata": {
        "id": "m7CRYkYZCw32"
      },
      "source": [
        "## What does a Chinese bear have to do with importing data?\n",
        "pandas comes from \"python data analysis library\". It sounds better than \"pdal\". Although I like bicylces so I might have called it \"pedal\". Anyway, I did not write pandas. A guy working for a hedge fund did, because analysis of financial data often involves dealing with messy time series data. This package has ended up being immensely useful to all kinds of people and now forms one of the keystones of data science in python.\n",
        "\n",
        "pandas is most at home reading csv data. csv stands for \"comma separated value\". You can save excel files in this format. The format has columns separated by commas. \n",
        "\n",
        "Actually, let me write this file. You won't really be writing files like this in python so don't worry about the syntax."
      ]
    },
    {
      "cell_type": "code",
      "execution_count": null,
      "metadata": {
        "id": "52ODwK-LDJxx"
      },
      "outputs": [],
      "source": [
        "f = open(\"../../../toadfile.csv\", \"w\")\n",
        "f.write(\"year,pond,toads\")\n",
        "f.write(\"\\n2011,1,1\")\n",
        "f.write(\"\\n2011,2,13\")\n",
        "f.write(\"\\n2012,1,2\")\n",
        "f.write(\"\\n2012,2,11\")\n",
        "f.write(\"\\n2013,1,7\")\n",
        "f.write(\"\\n2013,2,4\")\n",
        "f.close()\n",
        "\n",
        "with open(\"../../../toadfile.csv\", 'r') as fin:\n",
        "    print(fin.read())"
      ]
    },
    {
      "cell_type": "markdown",
      "metadata": {
        "id": "hT2wYcXDDNDT"
      },
      "source": [
        "Okay, if you wanted to you could open this file using Excel. But instead we will open it with `pandas`"
      ]
    },
    {
      "attachments": {},
      "cell_type": "markdown",
      "metadata": {
        "id": "BQOjXkZ4DPdg"
      },
      "source": [
        "## Pandas and toads\n",
        "We first need to import `pandas`. And because I don't feel like writing out `pandas` all the time I will import it as `pd`.\n",
        "\n",
        "I will then read the toads file using the `read_csv` function:"
      ]
    },
    {
      "cell_type": "code",
      "execution_count": null,
      "metadata": {
        "id": "QCWV7LF-AKgn"
      },
      "outputs": [],
      "source": [
        "import pandas as pd\n",
        "df = pd.read_csv(\"../../../toadfile.csv\")"
      ]
    },
    {
      "cell_type": "markdown",
      "metadata": {
        "id": "PP2-vQjADZOk"
      },
      "source": [
        "Hey what happened? There is no output if you run the above cell.\n",
        "\n",
        "That is because pandas has read the data in the toadfile into a variable called `df`. In the pandas world `df` is quite common name for a variable because it is short for `dataframe`. And pandas calls any collection of data a `DataFrame`. You can see this with the `type` command."
      ]
    },
    {
      "cell_type": "code",
      "execution_count": null,
      "metadata": {
        "id": "p17TP2INDYx8"
      },
      "outputs": [],
      "source": [
        "print(type(df))"
      ]
    },
    {
      "cell_type": "markdown",
      "metadata": {
        "id": "791YltrsDnOv"
      },
      "source": [
        "Okay, what if we want to look at the data? You can use the head command to see the data"
      ]
    },
    {
      "cell_type": "code",
      "execution_count": null,
      "metadata": {
        "id": "8WQUZc8uDkDf"
      },
      "outputs": [],
      "source": [
        "df.head()"
      ]
    },
    {
      "cell_type": "markdown",
      "metadata": {
        "id": "0R_jMBivDkdp"
      },
      "source": [
        "The default is to see the first 5 items. You can change this quite easily:"
      ]
    },
    {
      "cell_type": "code",
      "execution_count": null,
      "metadata": {
        "id": "KhvO9JoKDks8"
      },
      "outputs": [],
      "source": [
        "df.head(6)"
      ]
    },
    {
      "attachments": {},
      "cell_type": "markdown",
      "metadata": {
        "id": "E2pWOCq5Dk2g"
      },
      "source": [
        "## Selecting data using pandas (where a lot of the magic happens)\n",
        "Why is `pandas` so useful? Well one of the things I find most useful is the ease of selecting data.\n",
        "\n",
        "Observe me get the `toads` data:"
      ]
    },
    {
      "cell_type": "code",
      "execution_count": null,
      "metadata": {
        "id": "ayBtHkN-Dk7q"
      },
      "outputs": [],
      "source": [
        "toads = df.toads\n",
        "print(\"The data type of the variable toads is: \")\n",
        "print(type(toads))\n",
        "print(\"And here is the data:\")\n",
        "print(toads)\n",
        "print(\"I can convert this to a list\")\n",
        "print(list(toads))\n",
        "print(\"And I can convert it to an array:\")\n",
        "print(toads.to_numpy())"
      ]
    },
    {
      "cell_type": "markdown",
      "metadata": {
        "id": "SPYUT1bvDlCi"
      },
      "source": [
        "Here is another very useful feature. You can select data by conditional statements (if the data meets a condition, you keep it).\n",
        "\n",
        "You need this funny syntax with some brackets but as long as you copy the format below with your own data you should be fine."
      ]
    },
    {
      "cell_type": "code",
      "execution_count": null,
      "metadata": {
        "id": "sdrsCxKlD2q3"
      },
      "outputs": [],
      "source": [
        "df_2011 = df[(df['year'] == 2011)]\n",
        "df_2011.head()"
      ]
    },
    {
      "cell_type": "code",
      "execution_count": null,
      "metadata": {
        "id": "tunulGNaD2sq"
      },
      "outputs": [],
      "source": [
        "df_2011 = df[(df['year'] > 2011)]\n",
        "df_2011.head()"
      ]
    },
    {
      "cell_type": "code",
      "execution_count": null,
      "metadata": {
        "id": "J-ur3VbJDzfn"
      },
      "outputs": [],
      "source": [
        "df_pond1 = df[(df['pond'] == 1)]\n",
        "df_pond1.head()"
      ]
    },
    {
      "attachments": {},
      "cell_type": "markdown",
      "metadata": {
        "id": "bUHFOwsFDzyD"
      },
      "source": [
        "## Plotting some data using pandas\n",
        "Recent versions of pandas have some built in plotting functions. [You can see the options here](https://pandas.pydata.org/pandas-docs/stable/user_guide/visualization.html).\n",
        "\n"
      ]
    },
    {
      "cell_type": "code",
      "execution_count": null,
      "metadata": {
        "id": "trrKLHXkDlJF"
      },
      "outputs": [],
      "source": [
        "df.plot.scatter(x=\"year\", y=\"toads\", c=\"pond\", cmap=\"viridis\", s=50);"
      ]
    },
    {
      "cell_type": "markdown",
      "metadata": {
        "id": "6TYDKWxGFz2k"
      },
      "source": [
        "## More complex data"
      ]
    },
    {
      "cell_type": "markdown",
      "metadata": {
        "id": "YD3kLyVDGRpn"
      },
      "source": [
        "We can now have a look at a more complicated dataset. This has some data about river channels.\n",
        "\n",
        "First load the data into a pandas dataframe."
      ]
    },
    {
      "cell_type": "code",
      "execution_count": null,
      "metadata": {
        "id": "nZ0FY3ylF1qw"
      },
      "outputs": [],
      "source": [
        "url = 'https://raw.githubusercontent.com/simon-m-mudd/smm_teaching_notebooks/master/basic_python/el_study_chi_data_map.csv'\n",
        "# Any .csv on GitHub can be read in a Colab notebook. \n",
        "# For this go to the dataset in your GitHub repository, and then click on \n",
        "# “View Raw”. Copy the link to the raw dataset and pass it as a parameter to the\n",
        "# read_csv() in pandas to get the dataframe.  \n",
        "df1 = pd.read_csv(url)\n",
        "df1.head()"
      ]
    },
    {
      "cell_type": "markdown",
      "metadata": {
        "id": "L2KFbtArGS41"
      },
      "source": [
        "This data has latitude and longitude, which tells you it is geospatial data. We will deal with that in different lessons. But we can also look at some other aspects of the data.\n",
        "\n",
        "In the next bit of code I will get the unique values in the \"basin_key\" column:"
      ]
    },
    {
      "cell_type": "code",
      "execution_count": null,
      "metadata": {
        "id": "CdHeJ-PcF5vH"
      },
      "outputs": [],
      "source": [
        "df1.basin_key.unique()"
      ]
    },
    {
      "cell_type": "markdown",
      "metadata": {
        "id": "YmMyMZ_DGbh4"
      },
      "source": [
        "So it happens that I made these data so I know that each \"basin_key\" is a different drainage basin. We can look at one of these basins."
      ]
    },
    {
      "cell_type": "code",
      "execution_count": null,
      "metadata": {
        "id": "M70gLc6EGcaQ"
      },
      "outputs": [],
      "source": [
        "df_basin0 = df1[(df1.basin_key==0)]\n",
        "df_basin0.plot.scatter(x=\"longitude\", y=\"latitude\", c=\"elevation\", cmap=\"viridis\", s=20)\n"
      ]
    },
    {
      "cell_type": "markdown",
      "metadata": {
        "id": "ejbsA5wqGyXu"
      },
      "source": [
        "This is a map view of a river. I'm plotting longitude and latitude as the x and y coordinate, respectively. You can see that `c` variable is for \"color,\" and it's saying \"color this scatterplot by this column called `elevation`.\" The `s` variable is the size of the marker."
      ]
    },
    {
      "cell_type": "markdown",
      "metadata": {
        "id": "fGhaSzrbHV9o"
      },
      "source": [
        "Now your turn - plot elevation as a function of flow distance to see the *longitudinal* river profile. "
      ]
    },
    {
      "cell_type": "code",
      "execution_count": null,
      "metadata": {
        "id": "mqwKCgB-GVI1"
      },
      "outputs": [],
      "source": []
    },
    {
      "cell_type": "markdown",
      "metadata": {
        "id": "ftOZBjOnHjjE"
      },
      "source": [
        "Finally, show me a plot of a different basin. How do we see a different basin? Remember those `basin_key` values, and remember to adjust your code accordingly. "
      ]
    },
    {
      "cell_type": "code",
      "execution_count": null,
      "metadata": {
        "id": "w_Sri4ShHt2L"
      },
      "outputs": [],
      "source": []
    },
    {
      "cell_type": "markdown",
      "metadata": {
        "id": "5oQSBvRBJTW3"
      },
      "source": [
        "# A note about plotting"
      ]
    },
    {
      "cell_type": "markdown",
      "metadata": {
        "id": "QNffSphxJZZM"
      },
      "source": [
        "Yes, `pandas` has built-in plotting, but you may see me and other folks use `matplotlib` to do [object-oriented plotting](https://matplotlib.org/matplotblog/posts/pyplot-vs-object-oriented-interface/). Instead of using a plotting function on a dataset, you can create an object that gets plotted - which makes it far more flexible what you can do it it later. \n",
        "\n",
        "Below you can see that I create an object called `profile`, and I pass it similar arguments as above, and I say \"put it on the `ax` axis I also created when I coded `fig, ax = plt.subplots()`, which creates a `fig` and `ax` object that I can then manupulate later (like changing labels and making it a \"tight layout\")."
      ]
    },
    {
      "cell_type": "code",
      "execution_count": null,
      "metadata": {
        "id": "qr2eRKnoI6PI"
      },
      "outputs": [],
      "source": [
        "import matplotlib.pyplot as plt"
      ]
    },
    {
      "cell_type": "code",
      "execution_count": null,
      "metadata": {
        "id": "I9kJog_7JA4R"
      },
      "outputs": [],
      "source": [
        "fig, ax = plt.subplots()\n",
        "profile = df_basin0.plot.scatter(x=\"longitude\", y=\"latitude\",\n",
        "                                 c=\"elevation\",\n",
        "                                 cmap=\"viridis\",\n",
        "                                 s=20,\n",
        "                                 ax=ax)\n",
        "ax.set_ylabel(\"Latitude\")\n",
        "ax.set_xlabel(\"Longitude\")\n",
        "fig.tight_layout()"
      ]
    },
    {
      "attachments": {},
      "cell_type": "markdown",
      "metadata": {},
      "source": [
        "# Deliverable for Data Tutorial #1:"
      ]
    },
    {
      "attachments": {},
      "cell_type": "markdown",
      "metadata": {},
      "source": [
        "1.   All cells executed \n",
        "2.   The two plots in the final cells: (1) longitudinal plot of river elevation and (2) plot of a different basin"
      ]
    }
  ],
  "metadata": {
    "colab": {
      "provenance": []
    },
    "kernelspec": {
      "display_name": "Python 3",
      "name": "python3"
    },
    "language_info": {
      "name": "python",
      "version": "3.11.0"
    }
  },
  "nbformat": 4,
  "nbformat_minor": 0
}
