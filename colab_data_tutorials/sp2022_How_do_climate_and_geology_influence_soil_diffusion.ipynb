{
  "cells": [
    {
      "cell_type": "markdown",
      "metadata": {
        "id": "-eOV0lg9Iax8"
      },
      "source": [
        "[![Open In Colab](https://colab.research.google.com/assets/colab-badge.svg)](https://colab.research.google.com/github/jmdelvecchio/ears33/blob/main/colab_data_tutorials/How_do_climate_and_geology_influence_soil_diffusion.ipynb)\n"
      ]
    },
    {
      "cell_type": "markdown",
      "metadata": {
        "id": "9GwGoaWR-7we"
      },
      "source": [
        "**How does climate (and other geologic factors) influence soil diffusion?**"
      ]
    },
    {
      "cell_type": "markdown",
      "metadata": {
        "id": "lOnba3hz92Jt"
      },
      "source": [
        "This notebook will help you perform exploratory data analysis (EDA) on data from [Richardson et al., 2019](https://pubs.geoscienceworld.org/gsa/geology/article/47/5/423/569535/Influences-of-climate-and-life-on-hillslope), in which the authors compiled data on the [diffusivity of soil-mantled hillslopes](https://earthsurface.readthedocs.io/en/latest/hillslope.html). "
      ]
    },
    {
      "cell_type": "markdown",
      "metadata": {
        "id": "D2G5-oj69u8j"
      },
      "source": [
        "Here are the footnotes from the paper:"
      ]
    },
    {
      "cell_type": "markdown",
      "metadata": {
        "id": "7u54mO5T-xB1"
      },
      "source": [
        "a If the exact location was not able to be identified, we used the location that best matched the site description. If multiple measurements were made for a region, we report the mean lat/lon for the study.\n",
        "\n",
        "b Uncertainties are reported as they were presented in the original journals. If uncertainties were not reported, we calculated and reported the standard deviation of D when possible. \n",
        "\n",
        "c Rock category: 1 = unconsolidated, 2 = sedimentary, 3 = Igneous/metamorphic.\n",
        "\n",
        "d Technique category: 1 = Scarp modeling, 2 = Laplacian and erosion rates, 3 = LEM, 4 = Colluvial flux and slope, 5 = erosion rate and Laplacian.\n",
        "\n",
        "e Vegetation category: 1 = Arid/desert, 2 = grasslands/scrublands, 3 = savannah/lightly forested, 4=forested.\n",
        "\n",
        "f West et al. (2014) reported the range of D for noth-facing and south-facing slopes. We reported the mean of these values.\n"
      ]
    },
    {
      "cell_type": "markdown",
      "metadata": {
        "id": "HbMdIZMm_c9X"
      },
      "source": [
        "# Import libraries you'll need"
      ]
    },
    {
      "cell_type": "code",
      "execution_count": 1,
      "metadata": {
        "id": "h43ifiNz9P5O"
      },
      "outputs": [],
      "source": [
        "import numpy as np\n",
        "import pandas as pd\n",
        "import matplotlib.pyplot as plt\n",
        "import seaborn as sns"
      ]
    },
    {
      "cell_type": "markdown",
      "metadata": {
        "id": "sIANnszi_olG"
      },
      "source": [
        "# Bring in the data and clean it"
      ]
    },
    {
      "cell_type": "code",
      "execution_count": 2,
      "metadata": {
        "colab": {
          "base_uri": "https://localhost:8080/",
          "height": 93,
          "resources": {
            "http://localhost:8080/nbextensions/google.colab/files.js": {
              "data": "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",
              "headers": [
                [
                  "content-type",
                  "application/javascript"
                ]
              ],
              "ok": true,
              "status": 200,
              "status_text": ""
            }
          }
        },
        "id": "DNxHg4cOA1uZ",
        "outputId": "a5ef2ef6-4d31-455f-9efe-5534275deb4c"
      },
      "outputs": [
        {
          "data": {
            "text/html": [
              "\n",
              "     <input type=\"file\" id=\"files-aab5ae16-2357-4f17-83fb-d19c3ea54571\" name=\"files[]\" multiple disabled\n",
              "        style=\"border:none\" />\n",
              "     <output id=\"result-aab5ae16-2357-4f17-83fb-d19c3ea54571\">\n",
              "      Upload widget is only available when the cell has been executed in the\n",
              "      current browser session. Please rerun this cell to enable.\n",
              "      </output>\n",
              "      <script src=\"/nbextensions/google.colab/files.js\"></script> "
            ],
            "text/plain": [
              "<IPython.core.display.HTML object>"
            ]
          },
          "metadata": {},
          "output_type": "display_data"
        },
        {
          "name": "stdout",
          "output_type": "stream",
          "text": [
            "Saving 2019149_TableDR1.csv to 2019149_TableDR1.csv\n",
            "User uploaded file \"2019149_TableDR1.csv\" with length 20029 bytes\n"
          ]
        }
      ],
      "source": [
        "from google.colab import files\n",
        "\n",
        "uploaded = files.upload()\n",
        "\n",
        "for fn in uploaded.keys():\n",
        "  print('User uploaded file \"{name}\" with length {length} bytes'.format(\n",
        "      name=fn, length=len(uploaded[fn])))"
      ]
    },
    {
      "cell_type": "markdown",
      "metadata": {
        "id": "gCStgPEvAGrd"
      },
      "source": [
        "Other than moving the footnote text to a different file and saving the result as a .csv, I've given you the file as it was uploaded to the Geology Data Repository. Annoyingly, many journals prefer formetting supplemental tables to be human-, rather than machine-readable. Special characters and weird spacing come with the territory. You could edit these things in Excel, but let's see if we can clean this (already pretty clean) data with code.  "
      ]
    },
    {
      "cell_type": "code",
      "execution_count": 3,
      "metadata": {
        "colab": {
          "base_uri": "https://localhost:8080/",
          "height": 572
        },
        "id": "CB9_lEq3_u83",
        "outputId": "e91d49f2-d201-408d-ed03-fd9dcc48549c"
      },
      "outputs": [
        {
          "data": {
            "text/html": [
              "\n",
              "  <div id=\"df-c277cb5b-9b62-4611-a440-f8f7041525ca\">\n",
              "    <div class=\"colab-df-container\">\n",
              "      <div>\n",
              "<style scoped>\n",
              "    .dataframe tbody tr th:only-of-type {\n",
              "        vertical-align: middle;\n",
              "    }\n",
              "\n",
              "    .dataframe tbody tr th {\n",
              "        vertical-align: top;\n",
              "    }\n",
              "\n",
              "    .dataframe thead th {\n",
              "        text-align: right;\n",
              "    }\n",
              "</style>\n",
              "<table border=\"1\" class=\"dataframe\">\n",
              "  <thead>\n",
              "    <tr style=\"text-align: right;\">\n",
              "      <th></th>\n",
              "      <th>ï»¿Source</th>\n",
              "      <th>Site Location[a]</th>\n",
              "      <th>Latitude (deg)</th>\n",
              "      <th>Longitude (deg)</th>\n",
              "      <th>D (cm2/yr)</th>\n",
              "      <th>D[b] uncertainty (cm2/yr)</th>\n",
              "      <th>AI</th>\n",
              "      <th>MAP (cm/yr)</th>\n",
              "      <th>Underlying lithology description</th>\n",
              "      <th>Lithology category[c]</th>\n",
              "      <th>Technique description</th>\n",
              "      <th>Technique category[d]</th>\n",
              "      <th>Vegetation description</th>\n",
              "      <th>Vegetation category[e]</th>\n",
              "    </tr>\n",
              "  </thead>\n",
              "  <tbody>\n",
              "    <tr>\n",
              "      <th>0</th>\n",
              "      <td>Almond et al. [2008]</td>\n",
              "      <td>Charwell Basin, New Zealand</td>\n",
              "      <td>-42.450</td>\n",
              "      <td>173.357</td>\n",
              "      <td>50</td>\n",
              "      <td>20</td>\n",
              "      <td>1.42</td>\n",
              "      <td>116.0</td>\n",
              "      <td>Loess underlain by fluvial gravel terraces</td>\n",
              "      <td>1.0</td>\n",
              "      <td>Erosion rate and curvature. Estimate is for th...</td>\n",
              "      <td>2.0</td>\n",
              "      <td>Podocarp, hardwood, and beech forest</td>\n",
              "      <td>3.0</td>\n",
              "    </tr>\n",
              "    <tr>\n",
              "      <th>1</th>\n",
              "      <td>Almond et al. [2008]</td>\n",
              "      <td>Ahuriri, New Zealand</td>\n",
              "      <td>-43.702</td>\n",
              "      <td>172.584</td>\n",
              "      <td>70</td>\n",
              "      <td>20</td>\n",
              "      <td>0.76</td>\n",
              "      <td>68.8</td>\n",
              "      <td>Thick loess deposits underlain by altered basalt</td>\n",
              "      <td>1.0</td>\n",
              "      <td>137Cs fallout nuclides (50 yr timescale) and c...</td>\n",
              "      <td>2.0</td>\n",
              "      <td>Recolonization of forest during Holocene. Rece...</td>\n",
              "      <td>2.0</td>\n",
              "    </tr>\n",
              "    <tr>\n",
              "      <th>2</th>\n",
              "      <td>Arrowsmith et al. (1998)</td>\n",
              "      <td>Carrizo Plain, CA, USA</td>\n",
              "      <td>35.271</td>\n",
              "      <td>-119.827</td>\n",
              "      <td>86</td>\n",
              "      <td>8</td>\n",
              "      <td>0.33</td>\n",
              "      <td>46.7</td>\n",
              "      <td>Conglomerate and alluvial fan units.</td>\n",
              "      <td>2.0</td>\n",
              "      <td>Scarp modeling</td>\n",
              "      <td>1.0</td>\n",
              "      <td>Grasses and shrubs</td>\n",
              "      <td>2.0</td>\n",
              "    </tr>\n",
              "    <tr>\n",
              "      <th>3</th>\n",
              "      <td>Avouac and Peltzer (1993)</td>\n",
              "      <td>Hotan Region, Xinjiang, China</td>\n",
              "      <td>36.800</td>\n",
              "      <td>80.500</td>\n",
              "      <td>33</td>\n",
              "      <td>14</td>\n",
              "      <td>0.03</td>\n",
              "      <td>3.3</td>\n",
              "      <td>Loose fan gravels</td>\n",
              "      <td>1.0</td>\n",
              "      <td>Scarp modeling</td>\n",
              "      <td>1.0</td>\n",
              "      <td>Unvegetated</td>\n",
              "      <td>1.0</td>\n",
              "    </tr>\n",
              "    <tr>\n",
              "      <th>4</th>\n",
              "      <td>Avouac et al. (1993)</td>\n",
              "      <td>Tien Shan, China</td>\n",
              "      <td>44.048</td>\n",
              "      <td>86.790</td>\n",
              "      <td>55</td>\n",
              "      <td>25</td>\n",
              "      <td>0.19</td>\n",
              "      <td>18.4</td>\n",
              "      <td>Loose fan gravels</td>\n",
              "      <td>1.0</td>\n",
              "      <td>Scarp modeling</td>\n",
              "      <td>1.0</td>\n",
              "      <td>Grasses and shrubs</td>\n",
              "      <td>2.0</td>\n",
              "    </tr>\n",
              "    <tr>\n",
              "      <th>...</th>\n",
              "      <td>...</td>\n",
              "      <td>...</td>\n",
              "      <td>...</td>\n",
              "      <td>...</td>\n",
              "      <td>...</td>\n",
              "      <td>...</td>\n",
              "      <td>...</td>\n",
              "      <td>...</td>\n",
              "      <td>...</td>\n",
              "      <td>...</td>\n",
              "      <td>...</td>\n",
              "      <td>...</td>\n",
              "      <td>...</td>\n",
              "      <td>...</td>\n",
              "    </tr>\n",
              "    <tr>\n",
              "      <th>180</th>\n",
              "      <td>NaN</td>\n",
              "      <td>NaN</td>\n",
              "      <td>NaN</td>\n",
              "      <td>NaN</td>\n",
              "      <td>NaN</td>\n",
              "      <td>NaN</td>\n",
              "      <td>NaN</td>\n",
              "      <td>NaN</td>\n",
              "      <td>NaN</td>\n",
              "      <td>NaN</td>\n",
              "      <td>NaN</td>\n",
              "      <td>NaN</td>\n",
              "      <td>NaN</td>\n",
              "      <td>NaN</td>\n",
              "    </tr>\n",
              "    <tr>\n",
              "      <th>181</th>\n",
              "      <td>NaN</td>\n",
              "      <td>NaN</td>\n",
              "      <td>NaN</td>\n",
              "      <td>NaN</td>\n",
              "      <td>NaN</td>\n",
              "      <td>NaN</td>\n",
              "      <td>NaN</td>\n",
              "      <td>NaN</td>\n",
              "      <td>NaN</td>\n",
              "      <td>NaN</td>\n",
              "      <td>NaN</td>\n",
              "      <td>NaN</td>\n",
              "      <td>NaN</td>\n",
              "      <td>NaN</td>\n",
              "    </tr>\n",
              "    <tr>\n",
              "      <th>182</th>\n",
              "      <td>NaN</td>\n",
              "      <td>NaN</td>\n",
              "      <td>NaN</td>\n",
              "      <td>NaN</td>\n",
              "      <td>NaN</td>\n",
              "      <td>NaN</td>\n",
              "      <td>NaN</td>\n",
              "      <td>NaN</td>\n",
              "      <td>NaN</td>\n",
              "      <td>NaN</td>\n",
              "      <td>NaN</td>\n",
              "      <td>NaN</td>\n",
              "      <td>NaN</td>\n",
              "      <td>NaN</td>\n",
              "    </tr>\n",
              "    <tr>\n",
              "      <th>183</th>\n",
              "      <td>NaN</td>\n",
              "      <td>NaN</td>\n",
              "      <td>NaN</td>\n",
              "      <td>NaN</td>\n",
              "      <td>NaN</td>\n",
              "      <td>NaN</td>\n",
              "      <td>NaN</td>\n",
              "      <td>NaN</td>\n",
              "      <td>NaN</td>\n",
              "      <td>NaN</td>\n",
              "      <td>NaN</td>\n",
              "      <td>NaN</td>\n",
              "      <td>NaN</td>\n",
              "      <td>NaN</td>\n",
              "    </tr>\n",
              "    <tr>\n",
              "      <th>184</th>\n",
              "      <td>NaN</td>\n",
              "      <td>NaN</td>\n",
              "      <td>NaN</td>\n",
              "      <td>NaN</td>\n",
              "      <td></td>\n",
              "      <td>NaN</td>\n",
              "      <td>NaN</td>\n",
              "      <td>NaN</td>\n",
              "      <td>NaN</td>\n",
              "      <td>NaN</td>\n",
              "      <td>NaN</td>\n",
              "      <td>NaN</td>\n",
              "      <td>NaN</td>\n",
              "      <td>NaN</td>\n",
              "    </tr>\n",
              "  </tbody>\n",
              "</table>\n",
              "<p>185 rows × 14 columns</p>\n",
              "</div>\n",
              "      <button class=\"colab-df-convert\" onclick=\"convertToInteractive('df-c277cb5b-9b62-4611-a440-f8f7041525ca')\"\n",
              "              title=\"Convert this dataframe to an interactive table.\"\n",
              "              style=\"display:none;\">\n",
              "        \n",
              "  <svg xmlns=\"http://www.w3.org/2000/svg\" height=\"24px\"viewBox=\"0 0 24 24\"\n",
              "       width=\"24px\">\n",
              "    <path d=\"M0 0h24v24H0V0z\" fill=\"none\"/>\n",
              "    <path d=\"M18.56 5.44l.94 2.06.94-2.06 2.06-.94-2.06-.94-.94-2.06-.94 2.06-2.06.94zm-11 1L8.5 8.5l.94-2.06 2.06-.94-2.06-.94L8.5 2.5l-.94 2.06-2.06.94zm10 10l.94 2.06.94-2.06 2.06-.94-2.06-.94-.94-2.06-.94 2.06-2.06.94z\"/><path d=\"M17.41 7.96l-1.37-1.37c-.4-.4-.92-.59-1.43-.59-.52 0-1.04.2-1.43.59L10.3 9.45l-7.72 7.72c-.78.78-.78 2.05 0 2.83L4 21.41c.39.39.9.59 1.41.59.51 0 1.02-.2 1.41-.59l7.78-7.78 2.81-2.81c.8-.78.8-2.07 0-2.86zM5.41 20L4 18.59l7.72-7.72 1.47 1.35L5.41 20z\"/>\n",
              "  </svg>\n",
              "      </button>\n",
              "      \n",
              "  <style>\n",
              "    .colab-df-container {\n",
              "      display:flex;\n",
              "      flex-wrap:wrap;\n",
              "      gap: 12px;\n",
              "    }\n",
              "\n",
              "    .colab-df-convert {\n",
              "      background-color: #E8F0FE;\n",
              "      border: none;\n",
              "      border-radius: 50%;\n",
              "      cursor: pointer;\n",
              "      display: none;\n",
              "      fill: #1967D2;\n",
              "      height: 32px;\n",
              "      padding: 0 0 0 0;\n",
              "      width: 32px;\n",
              "    }\n",
              "\n",
              "    .colab-df-convert:hover {\n",
              "      background-color: #E2EBFA;\n",
              "      box-shadow: 0px 1px 2px rgba(60, 64, 67, 0.3), 0px 1px 3px 1px rgba(60, 64, 67, 0.15);\n",
              "      fill: #174EA6;\n",
              "    }\n",
              "\n",
              "    [theme=dark] .colab-df-convert {\n",
              "      background-color: #3B4455;\n",
              "      fill: #D2E3FC;\n",
              "    }\n",
              "\n",
              "    [theme=dark] .colab-df-convert:hover {\n",
              "      background-color: #434B5C;\n",
              "      box-shadow: 0px 1px 3px 1px rgba(0, 0, 0, 0.15);\n",
              "      filter: drop-shadow(0px 1px 2px rgba(0, 0, 0, 0.3));\n",
              "      fill: #FFFFFF;\n",
              "    }\n",
              "  </style>\n",
              "\n",
              "      <script>\n",
              "        const buttonEl =\n",
              "          document.querySelector('#df-c277cb5b-9b62-4611-a440-f8f7041525ca button.colab-df-convert');\n",
              "        buttonEl.style.display =\n",
              "          google.colab.kernel.accessAllowed ? 'block' : 'none';\n",
              "\n",
              "        async function convertToInteractive(key) {\n",
              "          const element = document.querySelector('#df-c277cb5b-9b62-4611-a440-f8f7041525ca');\n",
              "          const dataTable =\n",
              "            await google.colab.kernel.invokeFunction('convertToInteractive',\n",
              "                                                     [key], {});\n",
              "          if (!dataTable) return;\n",
              "\n",
              "          const docLinkHtml = 'Like what you see? Visit the ' +\n",
              "            '<a target=\"_blank\" href=https://colab.research.google.com/notebooks/data_table.ipynb>data table notebook</a>'\n",
              "            + ' to learn more about interactive tables.';\n",
              "          element.innerHTML = '';\n",
              "          dataTable['output_type'] = 'display_data';\n",
              "          await google.colab.output.renderOutput(dataTable, element);\n",
              "          const docLink = document.createElement('div');\n",
              "          docLink.innerHTML = docLinkHtml;\n",
              "          element.appendChild(docLink);\n",
              "        }\n",
              "      </script>\n",
              "    </div>\n",
              "  </div>\n",
              "  "
            ],
            "text/plain": [
              "                     ï»¿Source               Site Location[a]  Latitude (deg)  \\\n",
              "0        Almond et al. [2008]     Charwell Basin, New Zealand         -42.450   \n",
              "1        Almond et al. [2008]            Ahuriri, New Zealand         -43.702   \n",
              "2     Arrowsmith et al. (1998)         Carrizo Plain, CA, USA          35.271   \n",
              "3    Avouac and Peltzer (1993)  Hotan Region, Xinjiang, China          36.800   \n",
              "4         Avouac et al. (1993)               Tien Shan, China          44.048   \n",
              "..                         ...                            ...             ...   \n",
              "180                        NaN                            NaN             NaN   \n",
              "181                        NaN                            NaN             NaN   \n",
              "182                        NaN                            NaN             NaN   \n",
              "183                        NaN                            NaN             NaN   \n",
              "184                        NaN                            NaN             NaN   \n",
              "\n",
              "     Longitude (deg) D (cm2/yr) D[b] uncertainty (cm2/yr)    AI  MAP (cm/yr)  \\\n",
              "0            173.357         50                        20  1.42        116.0   \n",
              "1            172.584         70                        20  0.76         68.8   \n",
              "2           -119.827         86                         8  0.33         46.7   \n",
              "3             80.500         33                        14  0.03          3.3   \n",
              "4             86.790         55                        25  0.19         18.4   \n",
              "..               ...        ...                       ...   ...          ...   \n",
              "180              NaN        NaN                       NaN   NaN          NaN   \n",
              "181              NaN        NaN                       NaN   NaN          NaN   \n",
              "182              NaN        NaN                       NaN   NaN          NaN   \n",
              "183              NaN        NaN                       NaN   NaN          NaN   \n",
              "184              NaN                                  NaN   NaN          NaN   \n",
              "\n",
              "                     Underlying lithology description  Lithology category[c]  \\\n",
              "0         Loess underlain by fluvial gravel terraces                     1.0   \n",
              "1    Thick loess deposits underlain by altered basalt                    1.0   \n",
              "2                Conglomerate and alluvial fan units.                    2.0   \n",
              "3                                   Loose fan gravels                    1.0   \n",
              "4                                   Loose fan gravels                    1.0   \n",
              "..                                                ...                    ...   \n",
              "180                                               NaN                    NaN   \n",
              "181                                               NaN                    NaN   \n",
              "182                                               NaN                    NaN   \n",
              "183                                               NaN                    NaN   \n",
              "184                                               NaN                    NaN   \n",
              "\n",
              "                                 Technique description  Technique category[d]  \\\n",
              "0    Erosion rate and curvature. Estimate is for th...                    2.0   \n",
              "1    137Cs fallout nuclides (50 yr timescale) and c...                    2.0   \n",
              "2                                       Scarp modeling                    1.0   \n",
              "3                                       Scarp modeling                    1.0   \n",
              "4                                       Scarp modeling                    1.0   \n",
              "..                                                 ...                    ...   \n",
              "180                                                NaN                    NaN   \n",
              "181                                                NaN                    NaN   \n",
              "182                                                NaN                    NaN   \n",
              "183                                                NaN                    NaN   \n",
              "184                                                NaN                    NaN   \n",
              "\n",
              "                                Vegetation description  Vegetation category[e]  \n",
              "0                 Podocarp, hardwood, and beech forest                     3.0  \n",
              "1    Recolonization of forest during Holocene. Rece...                     2.0  \n",
              "2                                   Grasses and shrubs                     2.0  \n",
              "3                                          Unvegetated                     1.0  \n",
              "4                                   Grasses and shrubs                     2.0  \n",
              "..                                                 ...                     ...  \n",
              "180                                                NaN                     NaN  \n",
              "181                                                NaN                     NaN  \n",
              "182                                                NaN                     NaN  \n",
              "183                                                NaN                     NaN  \n",
              "184                                                NaN                     NaN  \n",
              "\n",
              "[185 rows x 14 columns]"
            ]
          },
          "execution_count": 3,
          "metadata": {},
          "output_type": "execute_result"
        }
      ],
      "source": [
        "# Load the .csv as a pandas data frame. What problems might you anticipate?\n",
        "df = pd.read_csv(\"2019149_TableDR1.csv\", encoding= 'unicode_escape')\n",
        "df"
      ]
    },
    {
      "cell_type": "markdown",
      "metadata": {
        "id": "KCmVfBasS-Z-"
      },
      "source": [
        "Ok, this looks a little ugly - there are extra rows and columns and there are some funky symbols going on since they got translated from that journal supplement. \n",
        "\n",
        "I'll get you started with renaming the first column"
      ]
    },
    {
      "cell_type": "code",
      "execution_count": 4,
      "metadata": {
        "colab": {
          "base_uri": "https://localhost:8080/",
          "height": 337
        },
        "id": "yBjq7CEKNV_Y",
        "outputId": "b9acc9fb-69b0-4cdf-94f5-cebf4b8b325e"
      },
      "outputs": [
        {
          "data": {
            "text/html": [
              "\n",
              "  <div id=\"df-77e5e8c0-ae05-46f7-ae22-820c89d3eaa6\">\n",
              "    <div class=\"colab-df-container\">\n",
              "      <div>\n",
              "<style scoped>\n",
              "    .dataframe tbody tr th:only-of-type {\n",
              "        vertical-align: middle;\n",
              "    }\n",
              "\n",
              "    .dataframe tbody tr th {\n",
              "        vertical-align: top;\n",
              "    }\n",
              "\n",
              "    .dataframe thead th {\n",
              "        text-align: right;\n",
              "    }\n",
              "</style>\n",
              "<table border=\"1\" class=\"dataframe\">\n",
              "  <thead>\n",
              "    <tr style=\"text-align: right;\">\n",
              "      <th></th>\n",
              "      <th>Source</th>\n",
              "      <th>Site Location[a]</th>\n",
              "      <th>Latitude (deg)</th>\n",
              "      <th>Longitude (deg)</th>\n",
              "      <th>D (cm2/yr)</th>\n",
              "      <th>D[b] uncertainty (cm2/yr)</th>\n",
              "      <th>AI</th>\n",
              "      <th>MAP (cm/yr)</th>\n",
              "      <th>Underlying lithology description</th>\n",
              "      <th>Lithology category[c]</th>\n",
              "      <th>Technique description</th>\n",
              "      <th>Technique category[d]</th>\n",
              "      <th>Vegetation description</th>\n",
              "      <th>Vegetation category[e]</th>\n",
              "    </tr>\n",
              "  </thead>\n",
              "  <tbody>\n",
              "    <tr>\n",
              "      <th>0</th>\n",
              "      <td>Almond et al. [2008]</td>\n",
              "      <td>Charwell Basin, New Zealand</td>\n",
              "      <td>-42.450</td>\n",
              "      <td>173.357</td>\n",
              "      <td>50</td>\n",
              "      <td>20</td>\n",
              "      <td>1.42</td>\n",
              "      <td>116.0</td>\n",
              "      <td>Loess underlain by fluvial gravel terraces</td>\n",
              "      <td>1.0</td>\n",
              "      <td>Erosion rate and curvature. Estimate is for th...</td>\n",
              "      <td>2.0</td>\n",
              "      <td>Podocarp, hardwood, and beech forest</td>\n",
              "      <td>3.0</td>\n",
              "    </tr>\n",
              "    <tr>\n",
              "      <th>1</th>\n",
              "      <td>Almond et al. [2008]</td>\n",
              "      <td>Ahuriri, New Zealand</td>\n",
              "      <td>-43.702</td>\n",
              "      <td>172.584</td>\n",
              "      <td>70</td>\n",
              "      <td>20</td>\n",
              "      <td>0.76</td>\n",
              "      <td>68.8</td>\n",
              "      <td>Thick loess deposits underlain by altered basalt</td>\n",
              "      <td>1.0</td>\n",
              "      <td>137Cs fallout nuclides (50 yr timescale) and c...</td>\n",
              "      <td>2.0</td>\n",
              "      <td>Recolonization of forest during Holocene. Rece...</td>\n",
              "      <td>2.0</td>\n",
              "    </tr>\n",
              "    <tr>\n",
              "      <th>2</th>\n",
              "      <td>Arrowsmith et al. (1998)</td>\n",
              "      <td>Carrizo Plain, CA, USA</td>\n",
              "      <td>35.271</td>\n",
              "      <td>-119.827</td>\n",
              "      <td>86</td>\n",
              "      <td>8</td>\n",
              "      <td>0.33</td>\n",
              "      <td>46.7</td>\n",
              "      <td>Conglomerate and alluvial fan units.</td>\n",
              "      <td>2.0</td>\n",
              "      <td>Scarp modeling</td>\n",
              "      <td>1.0</td>\n",
              "      <td>Grasses and shrubs</td>\n",
              "      <td>2.0</td>\n",
              "    </tr>\n",
              "    <tr>\n",
              "      <th>3</th>\n",
              "      <td>Avouac and Peltzer (1993)</td>\n",
              "      <td>Hotan Region, Xinjiang, China</td>\n",
              "      <td>36.800</td>\n",
              "      <td>80.500</td>\n",
              "      <td>33</td>\n",
              "      <td>14</td>\n",
              "      <td>0.03</td>\n",
              "      <td>3.3</td>\n",
              "      <td>Loose fan gravels</td>\n",
              "      <td>1.0</td>\n",
              "      <td>Scarp modeling</td>\n",
              "      <td>1.0</td>\n",
              "      <td>Unvegetated</td>\n",
              "      <td>1.0</td>\n",
              "    </tr>\n",
              "    <tr>\n",
              "      <th>4</th>\n",
              "      <td>Avouac et al. (1993)</td>\n",
              "      <td>Tien Shan, China</td>\n",
              "      <td>44.048</td>\n",
              "      <td>86.790</td>\n",
              "      <td>55</td>\n",
              "      <td>25</td>\n",
              "      <td>0.19</td>\n",
              "      <td>18.4</td>\n",
              "      <td>Loose fan gravels</td>\n",
              "      <td>1.0</td>\n",
              "      <td>Scarp modeling</td>\n",
              "      <td>1.0</td>\n",
              "      <td>Grasses and shrubs</td>\n",
              "      <td>2.0</td>\n",
              "    </tr>\n",
              "  </tbody>\n",
              "</table>\n",
              "</div>\n",
              "      <button class=\"colab-df-convert\" onclick=\"convertToInteractive('df-77e5e8c0-ae05-46f7-ae22-820c89d3eaa6')\"\n",
              "              title=\"Convert this dataframe to an interactive table.\"\n",
              "              style=\"display:none;\">\n",
              "        \n",
              "  <svg xmlns=\"http://www.w3.org/2000/svg\" height=\"24px\"viewBox=\"0 0 24 24\"\n",
              "       width=\"24px\">\n",
              "    <path d=\"M0 0h24v24H0V0z\" fill=\"none\"/>\n",
              "    <path d=\"M18.56 5.44l.94 2.06.94-2.06 2.06-.94-2.06-.94-.94-2.06-.94 2.06-2.06.94zm-11 1L8.5 8.5l.94-2.06 2.06-.94-2.06-.94L8.5 2.5l-.94 2.06-2.06.94zm10 10l.94 2.06.94-2.06 2.06-.94-2.06-.94-.94-2.06-.94 2.06-2.06.94z\"/><path d=\"M17.41 7.96l-1.37-1.37c-.4-.4-.92-.59-1.43-.59-.52 0-1.04.2-1.43.59L10.3 9.45l-7.72 7.72c-.78.78-.78 2.05 0 2.83L4 21.41c.39.39.9.59 1.41.59.51 0 1.02-.2 1.41-.59l7.78-7.78 2.81-2.81c.8-.78.8-2.07 0-2.86zM5.41 20L4 18.59l7.72-7.72 1.47 1.35L5.41 20z\"/>\n",
              "  </svg>\n",
              "      </button>\n",
              "      \n",
              "  <style>\n",
              "    .colab-df-container {\n",
              "      display:flex;\n",
              "      flex-wrap:wrap;\n",
              "      gap: 12px;\n",
              "    }\n",
              "\n",
              "    .colab-df-convert {\n",
              "      background-color: #E8F0FE;\n",
              "      border: none;\n",
              "      border-radius: 50%;\n",
              "      cursor: pointer;\n",
              "      display: none;\n",
              "      fill: #1967D2;\n",
              "      height: 32px;\n",
              "      padding: 0 0 0 0;\n",
              "      width: 32px;\n",
              "    }\n",
              "\n",
              "    .colab-df-convert:hover {\n",
              "      background-color: #E2EBFA;\n",
              "      box-shadow: 0px 1px 2px rgba(60, 64, 67, 0.3), 0px 1px 3px 1px rgba(60, 64, 67, 0.15);\n",
              "      fill: #174EA6;\n",
              "    }\n",
              "\n",
              "    [theme=dark] .colab-df-convert {\n",
              "      background-color: #3B4455;\n",
              "      fill: #D2E3FC;\n",
              "    }\n",
              "\n",
              "    [theme=dark] .colab-df-convert:hover {\n",
              "      background-color: #434B5C;\n",
              "      box-shadow: 0px 1px 3px 1px rgba(0, 0, 0, 0.15);\n",
              "      filter: drop-shadow(0px 1px 2px rgba(0, 0, 0, 0.3));\n",
              "      fill: #FFFFFF;\n",
              "    }\n",
              "  </style>\n",
              "\n",
              "      <script>\n",
              "        const buttonEl =\n",
              "          document.querySelector('#df-77e5e8c0-ae05-46f7-ae22-820c89d3eaa6 button.colab-df-convert');\n",
              "        buttonEl.style.display =\n",
              "          google.colab.kernel.accessAllowed ? 'block' : 'none';\n",
              "\n",
              "        async function convertToInteractive(key) {\n",
              "          const element = document.querySelector('#df-77e5e8c0-ae05-46f7-ae22-820c89d3eaa6');\n",
              "          const dataTable =\n",
              "            await google.colab.kernel.invokeFunction('convertToInteractive',\n",
              "                                                     [key], {});\n",
              "          if (!dataTable) return;\n",
              "\n",
              "          const docLinkHtml = 'Like what you see? Visit the ' +\n",
              "            '<a target=\"_blank\" href=https://colab.research.google.com/notebooks/data_table.ipynb>data table notebook</a>'\n",
              "            + ' to learn more about interactive tables.';\n",
              "          element.innerHTML = '';\n",
              "          dataTable['output_type'] = 'display_data';\n",
              "          await google.colab.output.renderOutput(dataTable, element);\n",
              "          const docLink = document.createElement('div');\n",
              "          docLink.innerHTML = docLinkHtml;\n",
              "          element.appendChild(docLink);\n",
              "        }\n",
              "      </script>\n",
              "    </div>\n",
              "  </div>\n",
              "  "
            ],
            "text/plain": [
              "                      Source               Site Location[a]  Latitude (deg)  \\\n",
              "0      Almond et al. [2008]     Charwell Basin, New Zealand         -42.450   \n",
              "1      Almond et al. [2008]            Ahuriri, New Zealand         -43.702   \n",
              "2   Arrowsmith et al. (1998)         Carrizo Plain, CA, USA          35.271   \n",
              "3  Avouac and Peltzer (1993)  Hotan Region, Xinjiang, China          36.800   \n",
              "4       Avouac et al. (1993)               Tien Shan, China          44.048   \n",
              "\n",
              "   Longitude (deg) D (cm2/yr) D[b] uncertainty (cm2/yr)    AI  MAP (cm/yr)  \\\n",
              "0          173.357         50                        20  1.42        116.0   \n",
              "1          172.584         70                        20  0.76         68.8   \n",
              "2         -119.827         86                         8  0.33         46.7   \n",
              "3           80.500         33                        14  0.03          3.3   \n",
              "4           86.790         55                        25  0.19         18.4   \n",
              "\n",
              "                   Underlying lithology description  Lithology category[c]  \\\n",
              "0       Loess underlain by fluvial gravel terraces                     1.0   \n",
              "1  Thick loess deposits underlain by altered basalt                    1.0   \n",
              "2              Conglomerate and alluvial fan units.                    2.0   \n",
              "3                                 Loose fan gravels                    1.0   \n",
              "4                                 Loose fan gravels                    1.0   \n",
              "\n",
              "                               Technique description  Technique category[d]  \\\n",
              "0  Erosion rate and curvature. Estimate is for th...                    2.0   \n",
              "1  137Cs fallout nuclides (50 yr timescale) and c...                    2.0   \n",
              "2                                     Scarp modeling                    1.0   \n",
              "3                                     Scarp modeling                    1.0   \n",
              "4                                     Scarp modeling                    1.0   \n",
              "\n",
              "                              Vegetation description  Vegetation category[e]  \n",
              "0               Podocarp, hardwood, and beech forest                     3.0  \n",
              "1  Recolonization of forest during Holocene. Rece...                     2.0  \n",
              "2                                 Grasses and shrubs                     2.0  \n",
              "3                                        Unvegetated                     1.0  \n",
              "4                                 Grasses and shrubs                     2.0  "
            ]
          },
          "execution_count": 4,
          "metadata": {},
          "output_type": "execute_result"
        }
      ],
      "source": [
        "# You can give df.rename a dictionary of old and new names like the following:\n",
        "df.rename(columns={'ï»¿Source':'Source'}, inplace=True)\n",
        "# inplace=True means it replaces the column name in the original df rather\n",
        "# than makes a copy\n",
        "df.head()"
      ]
    },
    {
      "cell_type": "markdown",
      "metadata": {
        "id": "fCi6c9wORm9m"
      },
      "source": [
        "Next you have to get rid of all those NaN (not a number) rows. Learn how to [drop rows and columns with NaNs](https://pandas.pydata.org/pandas-docs/stable/reference/api/pandas.DataFrame.dropna.html) or [particular columns](https://pandas.pydata.org/pandas-docs/stable/reference/api/pandas.DataFrame.drop.html) that are read from converting Excel files to csv files. "
      ]
    },
    {
      "cell_type": "code",
      "execution_count": 5,
      "metadata": {
        "id": "kBw2gSwIORZT"
      },
      "outputs": [],
      "source": [
        "# Code block to eliminate extra rows here"
      ]
    },
    {
      "cell_type": "markdown",
      "metadata": {
        "id": "M7cPBfCpQIGx"
      },
      "source": [
        "After you've gotten rid of all the NaNs, now can we plot data? \n",
        "\n",
        "Pandas has a very acceptable [built-in histogram plotting function](https://pandas.pydata.org/pandas-docs/stable/reference/api/pandas.DataFrame.hist.html) that can help you quickly visualize your data. \n",
        "\n",
        "Try this line out..."
      ]
    },
    {
      "cell_type": "code",
      "execution_count": 6,
      "metadata": {
        "colab": {
          "base_uri": "https://localhost:8080/",
          "height": 325
        },
        "id": "1RpIU4qnSf9S",
        "outputId": "1ef472d5-9b16-4412-8bf4-6533fe734786"
      },
      "outputs": [
        {
          "ename": "ValueError",
          "evalue": "ignored",
          "output_type": "error",
          "traceback": [
            "\u001b[0;31m---------------------------------------------------------------------------\u001b[0m",
            "\u001b[0;31mValueError\u001b[0m                                Traceback (most recent call last)",
            "\u001b[0;32m<ipython-input-6-54c4be473eeb>\u001b[0m in \u001b[0;36m<module>\u001b[0;34m()\u001b[0m\n\u001b[0;32m----> 1\u001b[0;31m \u001b[0mdf\u001b[0m\u001b[0;34m.\u001b[0m\u001b[0mhist\u001b[0m\u001b[0;34m(\u001b[0m\u001b[0mcolumn\u001b[0m\u001b[0;34m=\u001b[0m\u001b[0;34m'D (cm2/yr)'\u001b[0m\u001b[0;34m)\u001b[0m\u001b[0;34m\u001b[0m\u001b[0;34m\u001b[0m\u001b[0m\n\u001b[0m",
            "\u001b[0;32m/usr/local/lib/python3.7/dist-packages/pandas/plotting/_core.py\u001b[0m in \u001b[0;36mhist_frame\u001b[0;34m(data, column, by, grid, xlabelsize, xrot, ylabelsize, yrot, ax, sharex, sharey, figsize, layout, bins, backend, legend, **kwargs)\u001b[0m\n\u001b[1;32m    240\u001b[0m         \u001b[0mlegend\u001b[0m\u001b[0;34m=\u001b[0m\u001b[0mlegend\u001b[0m\u001b[0;34m,\u001b[0m\u001b[0;34m\u001b[0m\u001b[0;34m\u001b[0m\u001b[0m\n\u001b[1;32m    241\u001b[0m         \u001b[0mbins\u001b[0m\u001b[0;34m=\u001b[0m\u001b[0mbins\u001b[0m\u001b[0;34m,\u001b[0m\u001b[0;34m\u001b[0m\u001b[0;34m\u001b[0m\u001b[0m\n\u001b[0;32m--> 242\u001b[0;31m         \u001b[0;34m**\u001b[0m\u001b[0mkwargs\u001b[0m\u001b[0;34m,\u001b[0m\u001b[0;34m\u001b[0m\u001b[0;34m\u001b[0m\u001b[0m\n\u001b[0m\u001b[1;32m    243\u001b[0m     )\n\u001b[1;32m    244\u001b[0m \u001b[0;34m\u001b[0m\u001b[0m\n",
            "\u001b[0;32m/usr/local/lib/python3.7/dist-packages/pandas/plotting/_matplotlib/hist.py\u001b[0m in \u001b[0;36mhist_frame\u001b[0;34m(data, column, by, grid, xlabelsize, xrot, ylabelsize, yrot, ax, sharex, sharey, figsize, layout, bins, legend, **kwds)\u001b[0m\n\u001b[1;32m    442\u001b[0m     \u001b[0;32mif\u001b[0m \u001b[0mnaxes\u001b[0m \u001b[0;34m==\u001b[0m \u001b[0;36m0\u001b[0m\u001b[0;34m:\u001b[0m\u001b[0;34m\u001b[0m\u001b[0;34m\u001b[0m\u001b[0m\n\u001b[1;32m    443\u001b[0m         raise ValueError(\n\u001b[0;32m--> 444\u001b[0;31m             \u001b[0;34m\"hist method requires numerical or datetime columns, nothing to plot.\"\u001b[0m\u001b[0;34m\u001b[0m\u001b[0;34m\u001b[0m\u001b[0m\n\u001b[0m\u001b[1;32m    445\u001b[0m         )\n\u001b[1;32m    446\u001b[0m \u001b[0;34m\u001b[0m\u001b[0m\n",
            "\u001b[0;31mValueError\u001b[0m: hist method requires numerical or datetime columns, nothing to plot."
          ]
        }
      ],
      "source": [
        "df.hist(column='D (cm2/yr)')"
      ]
    },
    {
      "cell_type": "markdown",
      "metadata": {
        "id": "K97m2b15P8Ip"
      },
      "source": [
        "Hmm what the heckity heck is this?"
      ]
    },
    {
      "cell_type": "code",
      "execution_count": 7,
      "metadata": {
        "colab": {
          "base_uri": "https://localhost:8080/"
        },
        "id": "lSfONIzZVmmK",
        "outputId": "92205e42-6529-4d9e-9e78-7145837a817a"
      },
      "outputs": [
        {
          "data": {
            "text/plain": [
              "Source                               object\n",
              "Site Location[a]                     object\n",
              "Latitude (deg)                      float64\n",
              "Longitude (deg)                     float64\n",
              "D (cm2/yr)                           object\n",
              "D[b] uncertainty (cm2/yr)            object\n",
              "AI                                  float64\n",
              "MAP (cm/yr)                         float64\n",
              "Underlying lithology description     object\n",
              "Lithology category[c]               float64\n",
              "Technique description                object\n",
              "Technique category[d]               float64\n",
              "Vegetation description               object\n",
              "Vegetation category[e]              float64\n",
              "dtype: object"
            ]
          },
          "execution_count": 7,
          "metadata": {},
          "output_type": "execute_result"
        }
      ],
      "source": [
        "df.dtypes"
      ]
    },
    {
      "cell_type": "markdown",
      "metadata": {
        "id": "ItwoCqAYUxoP"
      },
      "source": [
        "Ugh, looks like you're gonna have to check out a thorough answer to [changing data types](https://stackoverflow.com/questions/15891038/change-column-type-in-pandas) in Pandas columns. \n",
        "\n",
        "Depending how you do this you might have to  [replace](https://pandas.pydata.org/docs/reference/api/pandas.DataFrame.replace.html) some strings\n"
      ]
    },
    {
      "cell_type": "code",
      "execution_count": 10,
      "metadata": {
        "colab": {
          "base_uri": "https://localhost:8080/"
        },
        "id": "tPVlh16rW6hg",
        "outputId": "8e0f1b0b-da3b-4f84-f48d-4b623b2c431a"
      },
      "outputs": [
        {
          "data": {
            "text/plain": [
              "Source                               object\n",
              "Site Location[a]                     object\n",
              "Latitude (deg)                      float64\n",
              "Longitude (deg)                     float64\n",
              "D (cm2/yr)                          float64\n",
              "D[b] uncertainty (cm2/yr)           float64\n",
              "AI                                  float64\n",
              "MAP (cm/yr)                         float64\n",
              "Underlying lithology description     object\n",
              "Lithology category[c]               float64\n",
              "Technique description                object\n",
              "Technique category[d]               float64\n",
              "Vegetation description               object\n",
              "Vegetation category[e]              float64\n",
              "dtype: object"
            ]
          },
          "execution_count": 10,
          "metadata": {},
          "output_type": "execute_result"
        }
      ],
      "source": [
        "# Code block to change data types here\n",
        "df[['D (cm2/yr)', 'D[b] uncertainty (cm2/yr)']] = df[['D (cm2/yr)', 'D[b] uncertainty (cm2/yr)',]].apply(pd.to_numeric, errors='coerce')\n",
        "\n",
        "df.dtypes"
      ]
    },
    {
      "cell_type": "markdown",
      "metadata": {
        "id": "7V6n1UZpWRAa"
      },
      "source": [
        "Nice, now you have a nice clean dataset for slicing and visualizing! \n",
        "\n",
        "Please plot a histogram of diffusion values:"
      ]
    },
    {
      "cell_type": "code",
      "execution_count": 11,
      "metadata": {
        "colab": {
          "base_uri": "https://localhost:8080/",
          "height": 318
        },
        "id": "X6EJGcdtShB6",
        "outputId": "7c07f93b-ef1f-49ee-805c-bbcb22b25082"
      },
      "outputs": [
        {
          "data": {
            "text/plain": [
              "array([[<matplotlib.axes._subplots.AxesSubplot object at 0x7f358ebeab10>]],\n",
              "      dtype=object)"
            ]
          },
          "execution_count": 11,
          "metadata": {},
          "output_type": "execute_result"
        },
        {
          "data": {
            "image/png": "[encoded data removed]",
            "text/plain": [
              "<Figure size 432x288 with 1 Axes>"
            ]
          },
          "metadata": {
            "needs_background": "light"
          },
          "output_type": "display_data"
        }
      ],
      "source": [
        "# Histogram code here \n",
        "df.hist(column='D (cm2/yr)')"
      ]
    },
    {
      "cell_type": "markdown",
      "metadata": {
        "id": "CCgRCSP6_vew"
      },
      "source": [
        "# Reproduce Figure 2: climate variables versus diffusivity"
      ]
    },
    {
      "cell_type": "markdown",
      "metadata": {
        "id": "71xcVGiLH_U_"
      },
      "source": [
        "Now for grouping by study! It's nontrivial to create the \"other studies\" group, so I'll demosntrate the code here:"
      ]
    },
    {
      "cell_type": "code",
      "execution_count": 12,
      "metadata": {
        "colab": {
          "base_uri": "https://localhost:8080/"
        },
        "id": "b99zdaPe_7u2",
        "outputId": "f7144337-299b-4336-be5e-db20d04914df"
      },
      "outputs": [
        {
          "name": "stdout",
          "output_type": "stream",
          "text": [
            "Other studies       57\n",
            "Callaghan (2012)    48\n",
            "This study           9\n",
            "Name: Source_grouping, dtype: int64\n",
            "\n",
            " versus\n",
            " Callaghan (2012)                                    48\n",
            "This study                                           9\n",
            "Ben-Asher et al. (2017)                              5\n",
            "Hanks et al. (1984)                                  4\n",
            "Almond et al. [2008]                                 2\n",
            "McGuire (2014).                                      2\n",
            "Mattson and Bruhn (2001)                             2\n",
            "Hurst et al. (2013)                                  2\n",
            "Perron et al. (2012)                                 2\n",
            "Reneau (1988) reported in Heimsath et al. (2005)     2\n",
            "Name: Source, dtype: int64\n"
          ]
        }
      ],
      "source": [
        "df['Source_grouping'] = df['Source'].replace(df['Source'].value_counts().index[2:], 'Other studies')\n",
        "\n",
        "# This code counts the number of unique entries in \"Source\" and lists them in descending order. \n",
        "# Then, preserving the top two occurrences (\"Callaghan (2012)\" and \"This study\"), \n",
        "# give me the indices of every other \"Source\" (don't forget, Python starts counting\n",
        "# at zero, so Callaghan is 0, and This study is 1.) and replace their values\n",
        "# with the string \"Other studies\". Then I put it in a column specifically for\n",
        "# our plotting adventures\n",
        "\n",
        "\n",
        "print (df['Source_grouping'].value_counts())\n",
        "\n",
        "# versus\n",
        "\n",
        "print ('\\n', 'versus\\n', df['Source'].value_counts()[0:10])"
      ]
    },
    {
      "cell_type": "markdown",
      "metadata": {
        "id": "vD8VNTvRIYT1"
      },
      "source": [
        "Now that I've done that, you're free to plot by groups! See how close you can get your plot to Figure 2!!"
      ]
    },
    {
      "cell_type": "markdown",
      "metadata": {
        "id": "xUR0SXbynjWh"
      },
      "source": [
        "You'll want this: https://matplotlib.org/stable/api/markers_api.html and this: https://matplotlib.org/3.5.0/gallery/color/named_colors.html"
      ]
    },
    {
      "cell_type": "code",
      "execution_count": 14,
      "metadata": {
        "colab": {
          "base_uri": "https://localhost:8080/",
          "height": 289
        },
        "id": "uBEPUXvcIW2u",
        "outputId": "201fe01f-dd98-4196-f0e3-ce3340aed7df"
      },
      "outputs": [
        {
          "data": {
            "image/png": "[encoded data removed]",
            "text/plain": [
              "<Figure size 576x288 with 2 Axes>"
            ]
          },
          "metadata": {
            "needs_background": "light"
          },
          "output_type": "display_data"
        }
      ],
      "source": [
        "# Insert plot here \n",
        "\n",
        "# I'll get you started:\n",
        "\n",
        "fig, ax = plt.subplots(1,2, figsize=(8,4), sharey=True)\n",
        "\n",
        "# sharey=True means you only have to control and plot one Y axis\n",
        "\n",
        "# The next bit is a dictionary in which we will assign colors and markers\n",
        "# to the three groups. As long as the keys (the first values) are equal\n",
        "# to the study that is being plotted \n",
        "\n",
        "# Fill in the value associated with each key (the '') with an appropriate color \n",
        "# and marker so it looks like Figure 2. \n",
        "\n",
        "color_dict = {'Callaghan (2012)': 'b',\n",
        "              'Other studies' : 'r',\n",
        "              'This study' : 'y'}\n",
        "marker_dict = {'Callaghan (2012)': \"^\",\n",
        "              'Other studies' : \"o\",\n",
        "              'This study' : 's'}\n",
        "\n",
        "\n",
        "# Now, fill in the appropriate x and y data\n",
        "\n",
        "for site, group in df.groupby(by='Source_grouping'): \n",
        "    group.plot.scatter(x= 'MAP (cm/yr)', y='D (cm2/yr)',\n",
        "                       color=color_dict[site],marker=marker_dict[site],\n",
        "                       edgecolor='k', s=50,\n",
        "                       ax=ax[0])\n",
        "    group.plot.scatter(x= 'AI', y='D (cm2/yr)',\n",
        "                       color=color_dict[site],marker=marker_dict[site],\n",
        "                       edgecolor='k', s=50,\n",
        "                       ax=ax[1], legend=True, label=site)\n",
        "\n",
        "\n",
        "# Set the scale and range of your axes\n",
        "\n",
        "ax[0].set_yscale('log')\n",
        "ax[0].set_ylim(10E-1, 10E3)\n",
        "ax[0].set_xscale('log')\n",
        "ax[1].set_xscale('log')"
      ]
    },
    {
      "cell_type": "markdown",
      "metadata": {
        "id": "b6NAW5R9H1An"
      },
      "source": [
        "# What method was used to determine these values?"
      ]
    },
    {
      "cell_type": "markdown",
      "metadata": {
        "id": "eVWhT5OAH39o"
      },
      "source": [
        "A [more recent paper](https://agupubs.onlinelibrary.wiley.com/doi/abs/10.1029/2020JF005858) noted that diffusivities derived from the curvature method seemed to give unusual answers since actually, field data tell us curvature doesn't predict erosion in ways we'd expect. \n",
        "\n",
        "Make a [boxplot](https://seaborn.pydata.org/generated/seaborn.boxplot.html) that shows the range of values calculated with the different methods described in the Richardson et al. paper."
      ]
    },
    {
      "cell_type": "code",
      "execution_count": 15,
      "metadata": {
        "colab": {
          "base_uri": "https://localhost:8080/",
          "height": 297
        },
        "id": "sh2vRTBcH3QN",
        "outputId": "0b1694d2-4f63-4757-d73a-a7c378f2f66a"
      },
      "outputs": [
        {
          "data": {
            "text/plain": [
              "<matplotlib.axes._subplots.AxesSubplot at 0x7f358df38150>"
            ]
          },
          "execution_count": 15,
          "metadata": {},
          "output_type": "execute_result"
        },
        {
          "data": {
            "image/png": "[encoded data removed]",
            "text/plain": [
              "<Figure size 432x288 with 1 Axes>"
            ]
          },
          "metadata": {
            "needs_background": "light"
          },
          "output_type": "display_data"
        }
      ],
      "source": [
        "# Boxplot here\n",
        "sns.boxplot(x=\"Technique category[d]\", y=\"D (cm2/yr)\",\n",
        "            data=df)"
      ]
    },
    {
      "cell_type": "markdown",
      "metadata": {
        "id": "oeSaIKqpWHx6"
      },
      "source": [
        "Do some techniques estimate higher or lower D values? Peruse the Richardson paper and speculate why this might be the case. How might you go about deciding if the differences are significant?"
      ]
    },
    {
      "cell_type": "markdown",
      "metadata": {
        "id": "JG9TrhrSb9j9"
      },
      "source": [
        "*Your text here*"
      ]
    },
    {
      "cell_type": "markdown",
      "metadata": {
        "id": "fHmH9w7Yaxvg"
      },
      "source": [
        "# Sick dataviz"
      ]
    },
    {
      "cell_type": "markdown",
      "metadata": {
        "id": "EgDyNIIIa0Rg"
      },
      "source": [
        "Seaborn has a bunch of fun plot types like [joint plots](https://seaborn.pydata.org/generated/seaborn.jointplot.html) or others out there in the [gallery](https://seaborn.pydata.org/examples/index.html). Make me a cool plot!"
      ]
    },
    {
      "cell_type": "code",
      "execution_count": 16,
      "metadata": {
        "colab": {
          "base_uri": "https://localhost:8080/",
          "height": 459
        },
        "id": "nFObhfCgaytq",
        "outputId": "4130cdbf-bab7-40fe-fec9-0079f4439581"
      },
      "outputs": [
        {
          "data": {
            "text/plain": [
              "<seaborn.axisgrid.JointGrid at 0x7f358ded8f50>"
            ]
          },
          "execution_count": 16,
          "metadata": {},
          "output_type": "execute_result"
        },
        {
          "data": {
            "image/png": "[encoded data removed]",
            "text/plain": [
              "<Figure size 432x432 with 3 Axes>"
            ]
          },
          "metadata": {
            "needs_background": "light"
          },
          "output_type": "display_data"
        }
      ],
      "source": [
        "sns.jointplot(x=\"D (cm2/yr)\", y=\"D[b] uncertainty (cm2/yr)\", hue=\"Technique category[d]\",\n",
        "            data=df)"
      ]
    },
    {
      "cell_type": "markdown",
      "metadata": {
        "id": "HmhmWGU8ftSa"
      },
      "source": [
        "# How do my field data compare?"
      ]
    },
    {
      "cell_type": "markdown",
      "metadata": {
        "id": "KkxDq2OYfwA6"
      },
      "source": [
        "In western Alaska where the MAP=43 cm, I've measured surface velocities of an average of 5 cm/year on permafrost soils forming on schists. I convert that into a range of potential volumetric sediment fluxes from 0.2-2 x 10^-2 m^2/yr. If slope S = 0.27, what is the range of diffusivity constants at my site? How does this compare to other data that have similar lithology and MAP? Show me a plot to argue your point. "
      ]
    },
    {
      "cell_type": "markdown",
      "metadata": {
        "id": "wqb7Ot1ogzfD"
      },
      "source": [
        "*Your answer here*"
      ]
    },
    {
      "cell_type": "code",
      "execution_count": 17,
      "metadata": {
        "colab": {
          "base_uri": "https://localhost:8080/"
        },
        "id": "62NFsgyHoQfo",
        "outputId": "6cd96d17-e1dc-4512-ff77-508fe5297be8"
      },
      "outputs": [
        {
          "name": "stdout",
          "output_type": "stream",
          "text": [
            "[24.99999995 99.3262053 ]\n",
            "[ 93.63295861 372.00825955]\n"
          ]
        }
      ],
      "source": [
        "# Sed flux estimate \n",
        "dc = np.array([5, 20])\n",
        "H = 100\n",
        "V0 = 5\n",
        "qs = V0 * dc * (1 - np.exp(-H/dc))\n",
        "K = qs/0.267\n",
        "print(qs)\n",
        "print(K)"
      ]
    },
    {
      "cell_type": "code",
      "execution_count": 19,
      "metadata": {
        "colab": {
          "base_uri": "https://localhost:8080/",
          "height": 269
        },
        "id": "XVyq8BkafvQi",
        "outputId": "d59cf9a9-ee73-4517-9e25-0c6cf7a688cc"
      },
      "outputs": [
        {
          "data": {
            "image/png": "[encoded data removed]",
            "text/plain": [
              "<Figure size 432x288 with 1 Axes>"
            ]
          },
          "metadata": {
            "needs_background": "light"
          },
          "output_type": "display_data"
        }
      ],
      "source": [
        "# Filter by the correct lithology\n",
        "lith = df[df[\"Lithology category[c]\"] == 3]\n",
        "\n",
        "# Your plot here\n",
        "fig, ax = plt.subplots()\n",
        "im0= plt.scatter(lith['MAP (cm/yr)'], lith['D (cm2/yr)'])\n",
        "im2= plt.scatter([42, 42], K)\n",
        "ax.set_yscale(\"log\")\n",
        "ax.set_xscale(\"log\")"
      ]
    },
    {
      "cell_type": "markdown",
      "metadata": {
        "id": "Nl1qHomwoLCE"
      },
      "source": [
        "# Deliverable checklist"
      ]
    },
    {
      "cell_type": "markdown",
      "metadata": {
        "id": "ictCPQ1woMsf"
      },
      "source": [
        "1. histogram of diffusion values in study\n",
        "2. reproduced Figure 2\n",
        "3. boxplot of diffusion values grouped by study method with a few sentences\n",
        "4. sick dataviz\n",
        "5. Alaska field data: few sentences and a plot\n",
        "\n",
        "---\n",
        "\n"
      ]
    },
    {
      "cell_type": "code",
      "execution_count": null,
      "metadata": {
        "id": "ZWeydRXLojUJ"
      },
      "outputs": [],
      "source": []
    }
  ],
  "metadata": {
    "colab": {
      "collapsed_sections": [],
      "include_colab_link": true,
      "name": "How does climate (and other geologic factors) influence soil diffusion.ipynb",
      "provenance": []
    },
    "kernelspec": {
      "display_name": "Python 3",
      "name": "python3"
    },
    "language_info": {
      "name": "python"
    }
  },
  "nbformat": 4,
  "nbformat_minor": 0
}
